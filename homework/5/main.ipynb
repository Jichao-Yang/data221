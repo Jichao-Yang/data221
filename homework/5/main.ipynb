{
 "cells": [
  {
   "cell_type": "markdown",
   "metadata": {},
   "source": [
    "---\n",
    "title: Homework 5\n",
    "author: Jichao Yang\n",
    "format: \n",
    "    pdf:\n",
    "        documentclass: article\n",
    "        papersize: letter\n",
    "        geometry:\n",
    "            - top = 1in\n",
    "            - bottom = 1in\n",
    "            - left = 1in\n",
    "            - right = 1in\n",
    "---"
   ]
  }
 ],
 "metadata": {
  "kernelspec": {
   "display_name": "env",
   "language": "python",
   "name": "python3"
  },
  "language_info": {
   "name": "python",
   "version": "3.12.3"
  }
 },
 "nbformat": 4,
 "nbformat_minor": 2
}
