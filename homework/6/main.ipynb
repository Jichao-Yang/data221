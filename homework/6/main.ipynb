{
 "cells": [
  {
   "cell_type": "markdown",
   "metadata": {},
   "source": [
    "---\n",
    "title: Homework 6\n",
    "author: Jichao Yang\n",
    "format: \n",
    "    pdf:\n",
    "        documentclass: article\n",
    "        papersize: letter\n",
    "        geometry:\n",
    "            - top = 1in\n",
    "            - bottom = 1in\n",
    "            - left = 1in\n",
    "            - right = 1in\n",
    "---"
   ]
  },
  {
   "cell_type": "markdown",
   "metadata": {},
   "source": [
    "# Problem 1"
   ]
  },
  {
   "cell_type": "markdown",
   "metadata": {},
   "source": [
    "(a) The dataset is prepared by dropping entries with empy data, normalizing the `age` variable, encoding the `passengerClass` variable with dummies, and adding an interept constant column."
   ]
  },
  {
   "cell_type": "code",
   "execution_count": 49,
   "metadata": {},
   "outputs": [
    {
     "data": {
      "text/html": [
       "<div>\n",
       "<style scoped>\n",
       "    .dataframe tbody tr th:only-of-type {\n",
       "        vertical-align: middle;\n",
       "    }\n",
       "\n",
       "    .dataframe tbody tr th {\n",
       "        vertical-align: top;\n",
       "    }\n",
       "\n",
       "    .dataframe thead th {\n",
       "        text-align: right;\n",
       "    }\n",
       "</style>\n",
       "<table border=\"1\" class=\"dataframe\">\n",
       "  <thead>\n",
       "    <tr style=\"text-align: right;\">\n",
       "      <th></th>\n",
       "      <th>survived</th>\n",
       "      <th>age</th>\n",
       "      <th>is_male</th>\n",
       "      <th>is_1</th>\n",
       "      <th>is_2</th>\n",
       "    </tr>\n",
       "  </thead>\n",
       "  <tbody>\n",
       "    <tr>\n",
       "      <th>count</th>\n",
       "      <td>1046.000</td>\n",
       "      <td>1046.000</td>\n",
       "      <td>1046.000</td>\n",
       "      <td>1046.000</td>\n",
       "      <td>1046.000</td>\n",
       "    </tr>\n",
       "    <tr>\n",
       "      <th>mean</th>\n",
       "      <td>0.408</td>\n",
       "      <td>0.000</td>\n",
       "      <td>0.629</td>\n",
       "      <td>0.272</td>\n",
       "      <td>0.250</td>\n",
       "    </tr>\n",
       "    <tr>\n",
       "      <th>std</th>\n",
       "      <td>0.492</td>\n",
       "      <td>1.000</td>\n",
       "      <td>0.483</td>\n",
       "      <td>0.445</td>\n",
       "      <td>0.433</td>\n",
       "    </tr>\n",
       "    <tr>\n",
       "      <th>min</th>\n",
       "      <td>0.000</td>\n",
       "      <td>-2.062</td>\n",
       "      <td>0.000</td>\n",
       "      <td>0.000</td>\n",
       "      <td>0.000</td>\n",
       "    </tr>\n",
       "    <tr>\n",
       "      <th>25%</th>\n",
       "      <td>0.000</td>\n",
       "      <td>-0.616</td>\n",
       "      <td>0.000</td>\n",
       "      <td>0.000</td>\n",
       "      <td>0.000</td>\n",
       "    </tr>\n",
       "    <tr>\n",
       "      <th>50%</th>\n",
       "      <td>0.000</td>\n",
       "      <td>-0.131</td>\n",
       "      <td>1.000</td>\n",
       "      <td>0.000</td>\n",
       "      <td>0.000</td>\n",
       "    </tr>\n",
       "    <tr>\n",
       "      <th>75%</th>\n",
       "      <td>1.000</td>\n",
       "      <td>0.633</td>\n",
       "      <td>1.000</td>\n",
       "      <td>1.000</td>\n",
       "      <td>0.000</td>\n",
       "    </tr>\n",
       "    <tr>\n",
       "      <th>max</th>\n",
       "      <td>1.000</td>\n",
       "      <td>3.477</td>\n",
       "      <td>1.000</td>\n",
       "      <td>1.000</td>\n",
       "      <td>1.000</td>\n",
       "    </tr>\n",
       "  </tbody>\n",
       "</table>\n",
       "</div>"
      ],
      "text/plain": [
       "       survived       age   is_male      is_1      is_2\n",
       "count  1046.000  1046.000  1046.000  1046.000  1046.000\n",
       "mean      0.408     0.000     0.629     0.272     0.250\n",
       "std       0.492     1.000     0.483     0.445     0.433\n",
       "min       0.000    -2.062     0.000     0.000     0.000\n",
       "25%       0.000    -0.616     0.000     0.000     0.000\n",
       "50%       0.000    -0.131     1.000     0.000     0.000\n",
       "75%       1.000     0.633     1.000     1.000     0.000\n",
       "max       1.000     3.477     1.000     1.000     1.000"
      ]
     },
     "execution_count": 49,
     "metadata": {},
     "output_type": "execute_result"
    }
   ],
   "source": [
    "import pandas as pd\n",
    "\n",
    "# Read the dataset\n",
    "df = pd.read_csv('../../data/TitanicSurvival.csv', index_col='rownames')\n",
    "df = df.reset_index(drop=True)\n",
    "df = df.dropna()\n",
    "\n",
    "# Encode categorical variables\n",
    "df['survived'] = df['survived'] == 'yes'\n",
    "df['is_male'] = df['sex'] == 'male'\n",
    "# We do not encode 3rd class to avoid colinearity\n",
    "df['is_1'] = df['passengerClass'] == '1st'\n",
    "df['is_2'] = df['passengerClass'] == '2nd'\n",
    "# Normalize age variable\n",
    "df['age'] = (df['age']-df['age'].mean())/df['age'].std()\n",
    "# Change var type to float for training\n",
    "df = df.drop(columns=['sex', 'passengerClass'])\n",
    "df = df.astype('float')\n",
    "\n",
    "df.describe().round(3)"
   ]
  },
  {
   "cell_type": "markdown",
   "metadata": {},
   "source": [
    "\\pagebreak\n",
    "(b) Recall that the 29 year old female passenger in first class can be found in `df.iloc[0]`. The implementation can be found as follow:"
   ]
  },
  {
   "cell_type": "code",
   "execution_count": 43,
   "metadata": {},
   "outputs": [
    {
     "data": {
      "text/plain": [
       "survived             yes\n",
       "sex               female\n",
       "age                 29.0\n",
       "passengerClass       1st\n",
       "Name: 0, dtype: object"
      ]
     },
     "execution_count": 43,
     "metadata": {},
     "output_type": "execute_result"
    }
   ],
   "source": [
    "df.iloc[0]"
   ]
  }
 ],
 "metadata": {
  "kernelspec": {
   "display_name": "env",
   "language": "python",
   "name": "python3"
  },
  "language_info": {
   "codemirror_mode": {
    "name": "ipython",
    "version": 3
   },
   "file_extension": ".py",
   "mimetype": "text/x-python",
   "name": "python",
   "nbconvert_exporter": "python",
   "pygments_lexer": "ipython3",
   "version": "3.12.3"
  }
 },
 "nbformat": 4,
 "nbformat_minor": 2
}
