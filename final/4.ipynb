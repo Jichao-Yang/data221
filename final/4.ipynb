{
 "cells": [
  {
   "cell_type": "code",
   "execution_count": 1,
   "metadata": {},
   "outputs": [],
   "source": [
    "import numpy as np\n",
    "import pandas as pd\n",
    "import matplotlib.pyplot as plt\n",
    "\n",
    "df = pd.read_csv('../data/final/wrangled/normalized.csv', index_col='year')\n",
    "x_vars = [c for c in df.columns if c != 'instability']"
   ]
  },
  {
   "cell_type": "code",
   "execution_count": null,
   "metadata": {
    "vscode": {
     "languageId": "julia"
    }
   },
   "outputs": [],
   "source": [
    "from keras.models import Model\n",
    "from keras.layers import Input, Dense\n",
    "from sklearn.preprocessing import StandardScaler\n",
    "\n",
    "# Standardize the data\n",
    "scaler = StandardScaler()\n",
    "df_scaled = scaler.fit_transform(df)\n",
    "\n",
    "# Define the size of the encoding\n",
    "encoding_dim = 8  # This can be adjusted\n",
    "\n",
    "# Input layer\n",
    "input_df = Input(shape=(df_scaled.shape[1],))\n",
    "\n",
    "# Encoding layers\n",
    "encoded = Dense(encoding_dim, activation='relu')(input_df)\n",
    "\n",
    "# Decoding layers\n",
    "decoded = Dense(df_scaled.shape[1], activation='sigmoid')(encoded)\n",
    "\n",
    "# Autoencoder model\n",
    "autoencoder = Model(input_df, decoded)\n",
    "\n",
    "# Encoder model\n",
    "encoder = Model(input_df, encoded)\n",
    "\n",
    "# Compile the autoencoder\n",
    "autoencoder.compile(optimizer='adam', loss='mean_squared_error')\n",
    "\n",
    "# Train the autoencoder\n",
    "autoencoder.fit(df_scaled, df_scaled, epochs=50, batch_size=16, shuffle=True, validation_split=0.2)\n",
    "\n",
    "# Encode the data\n",
    "encoded_df = encoder.predict(df_scaled)"
   ]
  }
 ],
 "metadata": {
  "kernelspec": {
   "display_name": "env",
   "language": "python",
   "name": "python3"
  },
  "language_info": {
   "codemirror_mode": {
    "name": "ipython",
    "version": 3
   },
   "file_extension": ".py",
   "mimetype": "text/x-python",
   "name": "python",
   "nbconvert_exporter": "python",
   "pygments_lexer": "ipython3",
   "version": "3.12.3"
  }
 },
 "nbformat": 4,
 "nbformat_minor": 2
}
