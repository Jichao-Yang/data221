{
 "cells": [
  {
   "cell_type": "code",
   "execution_count": 4,
   "metadata": {},
   "outputs": [],
   "source": [
    "import pandas as pd\n",
    "import numpy as np\n",
    "df = pd.read_csv('../data/final/wrangled/pca.csv', index_col=0)"
   ]
  },
  {
   "cell_type": "code",
   "execution_count": 63,
   "metadata": {},
   "outputs": [
    {
     "data": {
      "text/html": [
       "\n",
       "<style>\n",
       "  #altair-viz-9322ec50733f445f82f36c59c4c5cd19.vega-embed {\n",
       "    width: 100%;\n",
       "    display: flex;\n",
       "  }\n",
       "\n",
       "  #altair-viz-9322ec50733f445f82f36c59c4c5cd19.vega-embed details,\n",
       "  #altair-viz-9322ec50733f445f82f36c59c4c5cd19.vega-embed details summary {\n",
       "    position: relative;\n",
       "  }\n",
       "</style>\n",
       "<div id=\"altair-viz-9322ec50733f445f82f36c59c4c5cd19\"></div>\n",
       "<script type=\"text/javascript\">\n",
       "  var VEGA_DEBUG = (typeof VEGA_DEBUG == \"undefined\") ? {} : VEGA_DEBUG;\n",
       "  (function(spec, embedOpt){\n",
       "    let outputDiv = document.currentScript.previousElementSibling;\n",
       "    if (outputDiv.id !== \"altair-viz-9322ec50733f445f82f36c59c4c5cd19\") {\n",
       "      outputDiv = document.getElementById(\"altair-viz-9322ec50733f445f82f36c59c4c5cd19\");\n",
       "    }\n",
       "\n",
       "    const paths = {\n",
       "      \"vega\": \"https://cdn.jsdelivr.net/npm/vega@5?noext\",\n",
       "      \"vega-lib\": \"https://cdn.jsdelivr.net/npm/vega-lib?noext\",\n",
       "      \"vega-lite\": \"https://cdn.jsdelivr.net/npm/vega-lite@5.20.1?noext\",\n",
       "      \"vega-embed\": \"https://cdn.jsdelivr.net/npm/vega-embed@6?noext\",\n",
       "    };\n",
       "\n",
       "    function maybeLoadScript(lib, version) {\n",
       "      var key = `${lib.replace(\"-\", \"\")}_version`;\n",
       "      return (VEGA_DEBUG[key] == version) ?\n",
       "        Promise.resolve(paths[lib]) :\n",
       "        new Promise(function(resolve, reject) {\n",
       "          var s = document.createElement('script');\n",
       "          document.getElementsByTagName(\"head\")[0].appendChild(s);\n",
       "          s.async = true;\n",
       "          s.onload = () => {\n",
       "            VEGA_DEBUG[key] = version;\n",
       "            return resolve(paths[lib]);\n",
       "          };\n",
       "          s.onerror = () => reject(`Error loading script: ${paths[lib]}`);\n",
       "          s.src = paths[lib];\n",
       "        });\n",
       "    }\n",
       "\n",
       "    function showError(err) {\n",
       "      outputDiv.innerHTML = `<div class=\"error\" style=\"color:red;\">${err}</div>`;\n",
       "      throw err;\n",
       "    }\n",
       "\n",
       "    function displayChart(vegaEmbed) {\n",
       "      vegaEmbed(outputDiv, spec, embedOpt)\n",
       "        .catch(err => showError(`Javascript Error: ${err.message}<br>This usually means there's a typo in your chart specification. See the javascript console for the full traceback.`));\n",
       "    }\n",
       "\n",
       "    if(typeof define === \"function\" && define.amd) {\n",
       "      requirejs.config({paths});\n",
       "      let deps = [\"vega-embed\"];\n",
       "      require(deps, displayChart, err => showError(`Error loading script: ${err.message}`));\n",
       "    } else {\n",
       "      maybeLoadScript(\"vega\", \"5\")\n",
       "        .then(() => maybeLoadScript(\"vega-lite\", \"5.20.1\"))\n",
       "        .then(() => maybeLoadScript(\"vega-embed\", \"6\"))\n",
       "        .catch(showError)\n",
       "        .then(() => displayChart(vegaEmbed));\n",
       "    }\n",
       "  })({\"config\": {\"view\": {\"continuousWidth\": 300, \"continuousHeight\": 300}}, \"hconcat\": [{\"data\": {\"name\": \"data-37dd90c668d0ec085450030dd3f9576f\"}, \"mark\": {\"type\": \"circle\"}, \"encoding\": {\"color\": {\"field\": \"kmeans_labels\", \"legend\": null, \"type\": \"nominal\"}, \"tooltip\": [{\"field\": \"year\", \"type\": \"quantitative\"}, {\"field\": \"PC1\", \"type\": \"quantitative\"}, {\"field\": \"PC2\", \"type\": \"quantitative\"}, {\"field\": \"instability\", \"type\": \"quantitative\"}], \"x\": {\"field\": \"PC1\", \"type\": \"quantitative\"}, \"y\": {\"field\": \"PC2\", \"type\": \"quantitative\"}}, \"title\": \"K-Means Clustering\"}, {\"data\": {\"name\": \"data-37dd90c668d0ec085450030dd3f9576f\"}, \"mark\": {\"type\": \"circle\"}, \"encoding\": {\"color\": {\"field\": \"instability\", \"scale\": {\"reverse\": true, \"scheme\": \"redblue\"}, \"type\": \"quantitative\"}, \"tooltip\": [{\"field\": \"year\", \"type\": \"quantitative\"}, {\"field\": \"PC1\", \"type\": \"quantitative\"}, {\"field\": \"PC2\", \"type\": \"quantitative\"}, {\"field\": \"instability\", \"type\": \"quantitative\"}], \"x\": {\"field\": \"PC1\", \"type\": \"quantitative\"}, \"y\": {\"field\": \"PC2\", \"type\": \"quantitative\"}}}, {\"data\": {\"name\": \"data-37dd90c668d0ec085450030dd3f9576f\"}, \"mark\": {\"type\": \"circle\"}, \"encoding\": {\"color\": {\"condition\": {\"test\": \"(datum.dbscan_labels === -1)\", \"value\": \"grey\"}, \"field\": \"dbscan_labels\", \"legend\": null, \"type\": \"nominal\"}, \"tooltip\": [{\"field\": \"year\", \"type\": \"quantitative\"}, {\"field\": \"PC1\", \"type\": \"quantitative\"}, {\"field\": \"PC2\", \"type\": \"quantitative\"}, {\"field\": \"instability\", \"type\": \"quantitative\"}], \"x\": {\"field\": \"PC1\", \"type\": \"quantitative\"}, \"y\": {\"field\": \"PC2\", \"type\": \"quantitative\"}}, \"title\": \"DBSCAN Clustering\"}], \"$schema\": \"https://vega.github.io/schema/vega-lite/v5.20.1.json\", \"datasets\": {\"data-37dd90c668d0ec085450030dd3f9576f\": [{\"year\": 1816, \"PC1\": -1.889485833021516, \"PC2\": -3.7279431008533535, \"instability\": -0.4946120675618449, \"kmeans_labels\": 2, \"dbscan_labels\": -1}, {\"year\": 1817, \"PC1\": -2.958053799629463, \"PC2\": -3.490250559822244, \"instability\": -2.132883607054563, \"kmeans_labels\": 2, \"dbscan_labels\": -1}, {\"year\": 1818, \"PC1\": -3.164509284043804, \"PC2\": -3.45641162446435, \"instability\": -2.160909102997891, \"kmeans_labels\": 2, \"dbscan_labels\": 0}, {\"year\": 1819, \"PC1\": -3.403447085102804, \"PC2\": -3.618116200980738, \"instability\": -2.1881705351407867, \"kmeans_labels\": 2, \"dbscan_labels\": 0}, {\"year\": 1820, \"PC1\": -3.559407679591861, \"PC2\": -3.767684757632314, \"instability\": -2.2147084617799204, \"kmeans_labels\": 2, \"dbscan_labels\": 0}, {\"year\": 1821, \"PC1\": -3.5384051949986848, \"PC2\": -3.6186016581759706, \"instability\": -2.242322834266176, \"kmeans_labels\": 2, \"dbscan_labels\": 0}, {\"year\": 1822, \"PC1\": -3.6020437539109444, \"PC2\": -3.816874940047268, \"instability\": -2.270907906961111, \"kmeans_labels\": 2, \"dbscan_labels\": 0}, {\"year\": 1823, \"PC1\": -3.671476384304087, \"PC2\": -4.128853955794329, \"instability\": -2.3003615828264663, \"kmeans_labels\": 2, \"dbscan_labels\": 0}, {\"year\": 1824, \"PC1\": -3.5331704632688683, \"PC2\": -3.802794224958739, \"instability\": -2.330586022187104, \"kmeans_labels\": 2, \"dbscan_labels\": 0}, {\"year\": 1825, \"PC1\": -2.6276730071710985, \"PC2\": -3.423074534820653, \"instability\": -1.262875756684396, \"kmeans_labels\": 2, \"dbscan_labels\": -1}, {\"year\": 1826, \"PC1\": -2.5450986723738898, \"PC2\": -3.3091463817465634, \"instability\": -1.2928514003099938, \"kmeans_labels\": 2, \"dbscan_labels\": -1}, {\"year\": 1827, \"PC1\": -2.35118816113436, \"PC2\": -3.2688011465595905, \"instability\": -1.034272538885315, \"kmeans_labels\": 2, \"dbscan_labels\": -1}, {\"year\": 1828, \"PC1\": -1.979471008530678, \"PC2\": -3.2825115594290746, \"instability\": -0.5029368634438097, \"kmeans_labels\": 2, \"dbscan_labels\": -1}, {\"year\": 1829, \"PC1\": -1.5784673470507606, \"PC2\": -3.1053005645088563, \"instability\": -0.0784540170019094, \"kmeans_labels\": 2, \"dbscan_labels\": -1}, {\"year\": 1830, \"PC1\": -1.4898955673426575, \"PC2\": -2.8999178017568927, \"instability\": -0.2005303165185791, \"kmeans_labels\": 2, \"dbscan_labels\": -1}, {\"year\": 1831, \"PC1\": -0.8444429751015412, \"PC2\": -2.79811560645388, \"instability\": 0.647315308459695, \"kmeans_labels\": 4, \"dbscan_labels\": -1}, {\"year\": 1832, \"PC1\": -0.8232587656217256, \"PC2\": -2.763744831230841, \"instability\": 0.576363910202864, \"kmeans_labels\": 4, \"dbscan_labels\": -1}, {\"year\": 1833, \"PC1\": -0.7958825029240748, \"PC2\": -2.9316127006423214, \"instability\": 0.74399842229123, \"kmeans_labels\": 4, \"dbscan_labels\": 1}, {\"year\": 1834, \"PC1\": -0.4520528911182816, \"PC2\": -2.958013153856465, \"instability\": 1.3333584726827468, \"kmeans_labels\": 4, \"dbscan_labels\": 1}, {\"year\": 1835, \"PC1\": -0.1696288348125937, \"PC2\": -2.8261664597282663, \"instability\": 1.7086174416016997, \"kmeans_labels\": 4, \"dbscan_labels\": 1}, {\"year\": 1836, \"PC1\": -0.2505727066300979, \"PC2\": -2.926857908355716, \"instability\": 1.5566946885431263, \"kmeans_labels\": 4, \"dbscan_labels\": 1}, {\"year\": 1837, \"PC1\": -0.1233922615564572, \"PC2\": -2.884523973865186, \"instability\": 1.556782899127861, \"kmeans_labels\": 4, \"dbscan_labels\": 1}, {\"year\": 1838, \"PC1\": 0.2540350419499853, \"PC2\": -2.6436396253719625, \"instability\": 1.86152669239595, \"kmeans_labels\": 4, \"dbscan_labels\": 1}, {\"year\": 1839, \"PC1\": 0.2208744469485063, \"PC2\": -2.5406523241916354, \"instability\": 1.5701904410355851, \"kmeans_labels\": 4, \"dbscan_labels\": 1}, {\"year\": 1840, \"PC1\": 0.1669267005721197, \"PC2\": -2.43308154920708, \"instability\": 1.256265896590474, \"kmeans_labels\": 4, \"dbscan_labels\": 1}, {\"year\": 1841, \"PC1\": 0.3314646116137566, \"PC2\": -2.5250706940773227, \"instability\": 1.4480205760870417, \"kmeans_labels\": 4, \"dbscan_labels\": 1}, {\"year\": 1842, \"PC1\": 0.3573657576187038, \"PC2\": -2.6780890120168066, \"instability\": 1.4464462494869126, \"kmeans_labels\": 4, \"dbscan_labels\": 1}, {\"year\": 1843, \"PC1\": -0.0275250694368522, \"PC2\": -2.7058446511525576, \"instability\": 0.7362197236839694, \"kmeans_labels\": 4, \"dbscan_labels\": 1}, {\"year\": 1844, \"PC1\": 0.5986044056355746, \"PC2\": -2.4769935464152435, \"instability\": 1.5242470725693695, \"kmeans_labels\": 4, \"dbscan_labels\": 1}, {\"year\": 1845, \"PC1\": 0.7106464994726838, \"PC2\": -2.216027474453544, \"instability\": 1.3912444981199608, \"kmeans_labels\": 4, \"dbscan_labels\": 1}, {\"year\": 1846, \"PC1\": 0.7138703053557041, \"PC2\": -1.8966520993531937, \"instability\": 1.0716925200345504, \"kmeans_labels\": 4, \"dbscan_labels\": 1}, {\"year\": 1847, \"PC1\": 0.7343610687521029, \"PC2\": -1.8716877676247825, \"instability\": 0.9867398019927616, \"kmeans_labels\": 4, \"dbscan_labels\": 1}, {\"year\": 1848, \"PC1\": 0.7551200956670983, \"PC2\": -2.0235431898776315, \"instability\": 0.9567797089342138, \"kmeans_labels\": 4, \"dbscan_labels\": 1}, {\"year\": 1849, \"PC1\": 1.0006625769539963, \"PC2\": -1.9629517663045704, \"instability\": 1.158214823618327, \"kmeans_labels\": 4, \"dbscan_labels\": 1}, {\"year\": 1850, \"PC1\": 1.2068508285150945, \"PC2\": -1.8728819428456789, \"instability\": 1.376348973945723, \"kmeans_labels\": 4, \"dbscan_labels\": 1}, {\"year\": 1851, \"PC1\": 1.2105587383835057, \"PC2\": -1.844865393098432, \"instability\": 1.4862378421057694, \"kmeans_labels\": 4, \"dbscan_labels\": 1}, {\"year\": 1852, \"PC1\": 1.172743202957771, \"PC2\": -1.7865907641560692, \"instability\": 1.5141441478588442, \"kmeans_labels\": 4, \"dbscan_labels\": 1}, {\"year\": 1853, \"PC1\": 1.185045902838714, \"PC2\": -1.7425590534364896, \"instability\": 1.647779610434424, \"kmeans_labels\": 4, \"dbscan_labels\": 1}, {\"year\": 1854, \"PC1\": 1.0867456567693787, \"PC2\": -1.6605413437754453, \"instability\": 1.3518057803905956, \"kmeans_labels\": 4, \"dbscan_labels\": 1}, {\"year\": 1855, \"PC1\": 1.51876038936795, \"PC2\": -1.544348921417532, \"instability\": 1.7519940993336338, \"kmeans_labels\": 0, \"dbscan_labels\": 1}, {\"year\": 1856, \"PC1\": 1.841470378066071, \"PC2\": -1.4860099365127692, \"instability\": 2.070247592992596, \"kmeans_labels\": 0, \"dbscan_labels\": 2}, {\"year\": 1857, \"PC1\": 2.237892743803568, \"PC2\": -1.4676389735656108, \"instability\": 2.619394894106273, \"kmeans_labels\": 0, \"dbscan_labels\": 2}, {\"year\": 1858, \"PC1\": 2.27262420321572, \"PC2\": -1.4222912334522742, \"instability\": 2.6028817288835446, \"kmeans_labels\": 0, \"dbscan_labels\": 2}, {\"year\": 1859, \"PC1\": 2.228524733993817, \"PC2\": -1.4253982074753273, \"instability\": 2.4974432901900885, \"kmeans_labels\": 0, \"dbscan_labels\": 2}, {\"year\": 1860, \"PC1\": 2.099214002178018, \"PC2\": -1.419515448652402, \"instability\": 2.3455183715126764, \"kmeans_labels\": 0, \"dbscan_labels\": 2}, {\"year\": 1861, \"PC1\": 1.9156401526746945, \"PC2\": -1.273524637573462, \"instability\": 2.173860120268273, \"kmeans_labels\": 0, \"dbscan_labels\": 2}, {\"year\": 1862, \"PC1\": 1.3617954376496022, \"PC2\": -1.0154477206140844, \"instability\": 1.2544645954416629, \"kmeans_labels\": 0, \"dbscan_labels\": -1}, {\"year\": 1863, \"PC1\": 2.0797285288389, \"PC2\": -0.8195397404684682, \"instability\": 2.301106268509409, \"kmeans_labels\": 0, \"dbscan_labels\": 2}, {\"year\": 1864, \"PC1\": 2.153764535055089, \"PC2\": -0.7111550181800361, \"instability\": 2.318231509726331, \"kmeans_labels\": 0, \"dbscan_labels\": 2}, {\"year\": 1865, \"PC1\": 2.1208429409559453, \"PC2\": -0.760557926447175, \"instability\": 2.2847601388371586, \"kmeans_labels\": 0, \"dbscan_labels\": 2}, {\"year\": 1866, \"PC1\": 2.2384571682924133, \"PC2\": -0.8854177413666398, \"instability\": 2.5696152189849086, \"kmeans_labels\": 0, \"dbscan_labels\": 2}, {\"year\": 1867, \"PC1\": 2.183359485032483, \"PC2\": -1.0191234924552457, \"instability\": 2.5949024518279744, \"kmeans_labels\": 0, \"dbscan_labels\": 2}, {\"year\": 1868, \"PC1\": 2.136014969357606, \"PC2\": -1.0946559868975558, \"instability\": 2.574778089114257, \"kmeans_labels\": 0, \"dbscan_labels\": 2}, {\"year\": 1869, \"PC1\": 2.217781843592495, \"PC2\": -1.0813327157336254, \"instability\": 2.6886231488770376, \"kmeans_labels\": 0, \"dbscan_labels\": 2}, {\"year\": 1870, \"PC1\": 2.324429797661673, \"PC2\": -1.0748456943003744, \"instability\": 2.8419584673160654, \"kmeans_labels\": 0, \"dbscan_labels\": 2}, {\"year\": 1871, \"PC1\": 2.480631113576215, \"PC2\": -1.067810019504767, \"instability\": 3.0780521246751227, \"kmeans_labels\": 0, \"dbscan_labels\": 2}, {\"year\": 1872, \"PC1\": 2.542630976492357, \"PC2\": -0.9018601944520472, \"instability\": 3.0351960465848187, \"kmeans_labels\": 0, \"dbscan_labels\": 2}, {\"year\": 1873, \"PC1\": 2.5873545486296896, \"PC2\": -0.7716334590529533, \"instability\": 2.989135355482222, \"kmeans_labels\": 0, \"dbscan_labels\": 2}, {\"year\": 1874, \"PC1\": 2.681581449368713, \"PC2\": -0.7645311520303948, \"instability\": 3.08159246523301, \"kmeans_labels\": 0, \"dbscan_labels\": 2}, {\"year\": 1875, \"PC1\": 2.748734134194456, \"PC2\": -0.7048335749112903, \"instability\": 3.07244153599256, \"kmeans_labels\": 0, \"dbscan_labels\": 2}, {\"year\": 1876, \"PC1\": 2.6843015001986013, \"PC2\": -0.6078995605047893, \"instability\": 2.8228381842842114, \"kmeans_labels\": 0, \"dbscan_labels\": 2}, {\"year\": 1877, \"PC1\": 2.8369653255416227, \"PC2\": -0.5645905679862088, \"instability\": 2.9607889387796016, \"kmeans_labels\": 0, \"dbscan_labels\": 2}, {\"year\": 1878, \"PC1\": 2.747850927028378, \"PC2\": -0.484787680533685, \"instability\": 2.664584940520937, \"kmeans_labels\": 0, \"dbscan_labels\": 2}, {\"year\": 1879, \"PC1\": 2.66793866463261, \"PC2\": -0.3391545890489286, \"instability\": 2.3383416499651046, \"kmeans_labels\": 0, \"dbscan_labels\": 2}, {\"year\": 1880, \"PC1\": 2.521798964892756, \"PC2\": -0.2333280381029877, \"instability\": 2.009392153470601, \"kmeans_labels\": 0, \"dbscan_labels\": 2}, {\"year\": 1881, \"PC1\": 2.474188184918323, \"PC2\": -0.141227498660627, \"instability\": 1.8501768734539543, \"kmeans_labels\": 0, \"dbscan_labels\": 2}, {\"year\": 1882, \"PC1\": 2.13410811048946, \"PC2\": -0.1517896042493086, \"instability\": 1.313923120045893, \"kmeans_labels\": 0, \"dbscan_labels\": 2}, {\"year\": 1883, \"PC1\": 2.0612380912313752, \"PC2\": -0.2635463387741372, \"instability\": 1.3518888754687424, \"kmeans_labels\": 0, \"dbscan_labels\": 2}, {\"year\": 1884, \"PC1\": 2.2312643059578696, \"PC2\": -0.3449884805308315, \"instability\": 1.748219832547726, \"kmeans_labels\": 0, \"dbscan_labels\": 2}, {\"year\": 1885, \"PC1\": 2.447961574973546, \"PC2\": -0.3013523820693067, \"instability\": 2.041212884800806, \"kmeans_labels\": 0, \"dbscan_labels\": 2}, {\"year\": 1886, \"PC1\": 2.4448313280846525, \"PC2\": -0.1982928082520748, \"instability\": 1.948134211687204, \"kmeans_labels\": 0, \"dbscan_labels\": 2}, {\"year\": 1887, \"PC1\": 2.62764582710562, \"PC2\": -0.1198797537692258, \"instability\": 2.200634713230176, \"kmeans_labels\": 0, \"dbscan_labels\": 2}, {\"year\": 1888, \"PC1\": 2.682528231332373, \"PC2\": -0.0983585148686669, \"instability\": 2.250010902910317, \"kmeans_labels\": 0, \"dbscan_labels\": 2}, {\"year\": 1889, \"PC1\": 2.647040912188857, \"PC2\": 0.0224384507470026, \"instability\": 2.0979926540244245, \"kmeans_labels\": 0, \"dbscan_labels\": 2}, {\"year\": 1890, \"PC1\": 2.51329444488796, \"PC2\": 0.1774204366505702, \"instability\": 1.7875303977774528, \"kmeans_labels\": 0, \"dbscan_labels\": 2}, {\"year\": 1891, \"PC1\": 2.411873483962283, \"PC2\": 0.2697167512582671, \"instability\": 1.7065069628507403, \"kmeans_labels\": 0, \"dbscan_labels\": 2}, {\"year\": 1892, \"PC1\": 2.108958426778533, \"PC2\": 0.3251681297826743, \"instability\": 1.299183360521429, \"kmeans_labels\": 0, \"dbscan_labels\": 2}, {\"year\": 1893, \"PC1\": 1.9999017127575816, \"PC2\": 0.35281884132434, \"instability\": 1.1592661813397611, \"kmeans_labels\": 0, \"dbscan_labels\": 2}, {\"year\": 1894, \"PC1\": 2.048105826809333, \"PC2\": 0.4265780312373769, \"instability\": 1.1959216400471273, \"kmeans_labels\": 0, \"dbscan_labels\": 2}, {\"year\": 1895, \"PC1\": 2.1049746421332496, \"PC2\": 0.5906916358325197, \"instability\": 1.1942242978192343, \"kmeans_labels\": 0, \"dbscan_labels\": 2}, {\"year\": 1896, \"PC1\": 1.9724969314520235, \"PC2\": 0.7131813699108928, \"instability\": 0.929781222456116, \"kmeans_labels\": 0, \"dbscan_labels\": 2}, {\"year\": 1897, \"PC1\": 2.0319763757050504, \"PC2\": 0.8468837790892194, \"instability\": 1.055610746288861, \"kmeans_labels\": 0, \"dbscan_labels\": 2}, {\"year\": 1898, \"PC1\": 2.3745894274153327, \"PC2\": 0.955934924172641, \"instability\": 1.67335289326907, \"kmeans_labels\": 0, \"dbscan_labels\": 2}, {\"year\": 1899, \"PC1\": 2.2391388492988717, \"PC2\": 1.025053268967456, \"instability\": 1.5281147027080435, \"kmeans_labels\": 0, \"dbscan_labels\": 2}, {\"year\": 1900, \"PC1\": 2.283366457009618, \"PC2\": 1.1291708621916698, \"instability\": 1.6260770814721717, \"kmeans_labels\": 0, \"dbscan_labels\": 2}, {\"year\": 1901, \"PC1\": 2.2797648856441524, \"PC2\": 1.267961299830669, \"instability\": 1.6154959281306005, \"kmeans_labels\": 3, \"dbscan_labels\": 2}, {\"year\": 1902, \"PC1\": 2.176918494677306, \"PC2\": 1.400791134442573, \"instability\": 1.4357306655817934, \"kmeans_labels\": 3, \"dbscan_labels\": 2}, {\"year\": 1903, \"PC1\": 1.626639952350864, \"PC2\": 1.5296892581874826, \"instability\": 0.535315044156684, \"kmeans_labels\": 3, \"dbscan_labels\": 3}, {\"year\": 1904, \"PC1\": 1.6223797737827952, \"PC2\": 1.6476042121953067, \"instability\": 0.5452881986302052, \"kmeans_labels\": 3, \"dbscan_labels\": 3}, {\"year\": 1905, \"PC1\": 1.372906867835803, \"PC2\": 1.7977486351295957, \"instability\": 0.1161996777414623, \"kmeans_labels\": 3, \"dbscan_labels\": 3}, {\"year\": 1906, \"PC1\": 1.600535004665697, \"PC2\": 1.933838473877297, \"instability\": 0.5130176476843529, \"kmeans_labels\": 3, \"dbscan_labels\": 3}, {\"year\": 1907, \"PC1\": 1.5489747471239768, \"PC2\": 2.007103363888595, \"instability\": 0.5294082654773768, \"kmeans_labels\": 3, \"dbscan_labels\": 3}, {\"year\": 1908, \"PC1\": 1.5225380084756448, \"PC2\": 2.077451939979678, \"instability\": 0.5911501431877387, \"kmeans_labels\": 3, \"dbscan_labels\": 3}, {\"year\": 1909, \"PC1\": 1.4293082738218346, \"PC2\": 2.1646717722168667, \"instability\": 0.5331810643028334, \"kmeans_labels\": 3, \"dbscan_labels\": 3}, {\"year\": 1910, \"PC1\": 1.627902765322478, \"PC2\": 2.247396414276465, \"instability\": 0.98754373473395, \"kmeans_labels\": 3, \"dbscan_labels\": 3}, {\"year\": 1911, \"PC1\": 1.4474231885116726, \"PC2\": 2.3226869782942394, \"instability\": 0.7870449197353702, \"kmeans_labels\": 3, \"dbscan_labels\": 3}, {\"year\": 1912, \"PC1\": 1.4400516377001706, \"PC2\": 2.3524544735166524, \"instability\": 0.9452384175310532, \"kmeans_labels\": 3, \"dbscan_labels\": 3}, {\"year\": 1913, \"PC1\": 1.372945083129046, \"PC2\": 2.3108623264828414, \"instability\": 1.0220430529101636, \"kmeans_labels\": 3, \"dbscan_labels\": 3}, {\"year\": 1914, \"PC1\": 1.652548018621037, \"PC2\": 2.2967111574088244, \"instability\": 1.6467680390250783, \"kmeans_labels\": 3, \"dbscan_labels\": 3}, {\"year\": 1915, \"PC1\": 1.5533329093507615, \"PC2\": 2.34397467554812, \"instability\": 1.5071883549304168, \"kmeans_labels\": 3, \"dbscan_labels\": 3}, {\"year\": 1916, \"PC1\": 1.5338710219560396, \"PC2\": 2.3496127980411035, \"instability\": 1.5746096526438127, \"kmeans_labels\": 3, \"dbscan_labels\": 3}, {\"year\": 1917, \"PC1\": 1.5198571855239764, \"PC2\": 2.290750808262032, \"instability\": 1.7062371303422397, \"kmeans_labels\": 3, \"dbscan_labels\": 3}, {\"year\": 1918, \"PC1\": 1.4091703023012565, \"PC2\": 2.2019429581248398, \"instability\": 1.712364522307466, \"kmeans_labels\": 3, \"dbscan_labels\": 3}, {\"year\": 1919, \"PC1\": 1.4673357857684834, \"PC2\": 2.1174057095004604, \"instability\": 2.027740644998711, \"kmeans_labels\": 3, \"dbscan_labels\": 3}, {\"year\": 1920, \"PC1\": 1.3735876528674604, \"PC2\": 2.1903069216865343, \"instability\": 2.0104099292226167, \"kmeans_labels\": 3, \"dbscan_labels\": 3}, {\"year\": 1921, \"PC1\": 1.501492052121851, \"PC2\": 2.3299897813408217, \"instability\": 2.363619784277293, \"kmeans_labels\": 3, \"dbscan_labels\": 3}, {\"year\": 1922, \"PC1\": 1.344717124499476, \"PC2\": 2.441864209791117, \"instability\": 2.2900348187960136, \"kmeans_labels\": 3, \"dbscan_labels\": 3}, {\"year\": 1923, \"PC1\": 1.1365641253150305, \"PC2\": 2.506788255610871, \"instability\": 2.223400894605346, \"kmeans_labels\": 3, \"dbscan_labels\": 3}, {\"year\": 1924, \"PC1\": 0.6036761303115232, \"PC2\": 2.605343313006483, \"instability\": 1.612559771260914, \"kmeans_labels\": 3, \"dbscan_labels\": -1}, {\"year\": 1925, \"PC1\": 0.467675322264671, \"PC2\": 2.718629471377476, \"instability\": 1.5541879138345365, \"kmeans_labels\": 3, \"dbscan_labels\": -1}, {\"year\": 1926, \"PC1\": -0.4648083623547689, \"PC2\": 2.778175259142569, \"instability\": 0.1487482493967462, \"kmeans_labels\": 3, \"dbscan_labels\": -1}, {\"year\": 1927, \"PC1\": -0.4912159760300474, \"PC2\": 2.834481637171792, \"instability\": 0.2690820817586755, \"kmeans_labels\": 3, \"dbscan_labels\": -1}, {\"year\": 1928, \"PC1\": -0.652448796267683, \"PC2\": 2.9147025812551317, \"instability\": 0.1562222795010661, \"kmeans_labels\": 3, \"dbscan_labels\": -1}, {\"year\": 1929, \"PC1\": -0.5296009062960927, \"PC2\": 2.773881561212483, \"instability\": 0.5272235224343241, \"kmeans_labels\": 3, \"dbscan_labels\": -1}, {\"year\": 1930, \"PC1\": -0.093488769106325, \"PC2\": 2.5158265301902025, \"instability\": 1.485445197853769, \"kmeans_labels\": 3, \"dbscan_labels\": -1}, {\"year\": 1931, \"PC1\": -0.2224979443134361, \"PC2\": 2.207262222242397, \"instability\": 1.4838339727475045, \"kmeans_labels\": 3, \"dbscan_labels\": -1}, {\"year\": 1932, \"PC1\": -0.473583095568941, \"PC2\": 1.9005317779232067, \"instability\": 1.3322178327282403, \"kmeans_labels\": 3, \"dbscan_labels\": -1}, {\"year\": 1933, \"PC1\": -0.6672131739871516, \"PC2\": 1.6557048621739892, \"instability\": 1.3114738088744105, \"kmeans_labels\": 3, \"dbscan_labels\": -1}, {\"year\": 1934, \"PC1\": -0.8727369918776764, \"PC2\": 1.6332765684998884, \"instability\": 1.2167314735295771, \"kmeans_labels\": 3, \"dbscan_labels\": -1}, {\"year\": 1935, \"PC1\": -1.9010766191147723, \"PC2\": 1.7883056880386767, \"instability\": -0.3695099819902932, \"kmeans_labels\": 1, \"dbscan_labels\": 4}, {\"year\": 1936, \"PC1\": -2.0305722366137946, \"PC2\": 1.8004056809615303, \"instability\": -0.4858028570653636, \"kmeans_labels\": 1, \"dbscan_labels\": 4}, {\"year\": 1937, \"PC1\": -1.9973108140103903, \"PC2\": 1.7378835967848791, \"instability\": -0.2852071106965766, \"kmeans_labels\": 1, \"dbscan_labels\": 4}, {\"year\": 1938, \"PC1\": -2.08969268094101, \"PC2\": 1.74330578254595, \"instability\": -0.3026727616644864, \"kmeans_labels\": 1, \"dbscan_labels\": 4}, {\"year\": 1939, \"PC1\": -2.552227235125526, \"PC2\": 1.7720859886332565, \"instability\": -1.034854026527562, \"kmeans_labels\": 1, \"dbscan_labels\": 4}, {\"year\": 1940, \"PC1\": -2.6825372458831627, \"PC2\": 1.8045576079873409, \"instability\": -1.2594753705290718, \"kmeans_labels\": 1, \"dbscan_labels\": 4}, {\"year\": 1941, \"PC1\": -2.698791123938689, \"PC2\": 1.846677874642171, \"instability\": -1.2678787282877209, \"kmeans_labels\": 1, \"dbscan_labels\": 4}, {\"year\": 1942, \"PC1\": -3.089972746629715, \"PC2\": 1.8641731208844905, \"instability\": -1.8929351858158976, \"kmeans_labels\": 1, \"dbscan_labels\": 4}, {\"year\": 1943, \"PC1\": -2.146772099718545, \"PC2\": 1.8674287542046917, \"instability\": -0.2652330179493011, \"kmeans_labels\": 1, \"dbscan_labels\": 4}, {\"year\": 1944, \"PC1\": -2.1638444004385238, \"PC2\": 1.796073964825274, \"instability\": -0.2682405672028004, \"kmeans_labels\": 1, \"dbscan_labels\": 4}, {\"year\": 1945, \"PC1\": -2.21400617614343, \"PC2\": 1.686536931007536, \"instability\": -0.2537937675462402, \"kmeans_labels\": 1, \"dbscan_labels\": 4}, {\"year\": 1946, \"PC1\": -2.2456775713228887, \"PC2\": 1.5273543510330243, \"instability\": -0.1446301367060061, \"kmeans_labels\": 1, \"dbscan_labels\": 4}, {\"year\": 1947, \"PC1\": -2.347505390011092, \"PC2\": 1.3975611159065129, \"instability\": -0.1337493982950433, \"kmeans_labels\": 1, \"dbscan_labels\": 4}, {\"year\": 1948, \"PC1\": -3.092966963873387, \"PC2\": 1.3346273346779096, \"instability\": -1.3038968441691046, \"kmeans_labels\": 1, \"dbscan_labels\": 4}, {\"year\": 1949, \"PC1\": -2.9204879777968933, \"PC2\": 1.3158619686798092, \"instability\": -0.9553564137799444, \"kmeans_labels\": 1, \"dbscan_labels\": 4}, {\"year\": 1950, \"PC1\": -2.9966787938034893, \"PC2\": 1.4143944530359878, \"instability\": -1.0234925460179758, \"kmeans_labels\": 1, \"dbscan_labels\": 4}, {\"year\": 1951, \"PC1\": -3.3032230503891102, \"PC2\": 1.501298275780382, \"instability\": -1.396956226302562, \"kmeans_labels\": 1, \"dbscan_labels\": 4}, {\"year\": 1952, \"PC1\": -3.5684107994489227, \"PC2\": 1.5573077374255386, \"instability\": -1.6907279745847346, \"kmeans_labels\": 1, \"dbscan_labels\": 4}, {\"year\": 1953, \"PC1\": -3.357524783925135, \"PC2\": 1.528753299319998, \"instability\": -1.2322509072103949, \"kmeans_labels\": 1, \"dbscan_labels\": 4}, {\"year\": 1954, \"PC1\": -3.5970656615315364, \"PC2\": 1.4729499232427454, \"instability\": -1.5592621649691487, \"kmeans_labels\": 1, \"dbscan_labels\": 4}, {\"year\": 1955, \"PC1\": -3.5083039660003794, \"PC2\": 1.4535115852450844, \"instability\": -1.3845742012428357, \"kmeans_labels\": 1, \"dbscan_labels\": 4}, {\"year\": 1956, \"PC1\": -3.6214233437429417, \"PC2\": 1.4037621965703428, \"instability\": -1.5073113507942784, \"kmeans_labels\": 1, \"dbscan_labels\": 4}, {\"year\": 1957, \"PC1\": -3.737265066605981, \"PC2\": 1.380701892930647, \"instability\": -1.5815496023315432, \"kmeans_labels\": 1, \"dbscan_labels\": 4}, {\"year\": 1958, \"PC1\": -3.890897918490401, \"PC2\": 1.3399611961520328, \"instability\": -1.7574073059351911, \"kmeans_labels\": 1, \"dbscan_labels\": 4}, {\"year\": 1959, \"PC1\": -3.8496935980529, \"PC2\": 1.317418045127232, \"instability\": -1.675482886972616, \"kmeans_labels\": 1, \"dbscan_labels\": 4}, {\"year\": 1960, \"PC1\": -3.942700406145572, \"PC2\": 1.2568539201274231, \"instability\": -1.7562687221166382, \"kmeans_labels\": 1, \"dbscan_labels\": 4}, {\"year\": 1961, \"PC1\": -3.868202806766174, \"PC2\": 1.219049737395263, \"instability\": -1.617639982164162, \"kmeans_labels\": 1, \"dbscan_labels\": 4}, {\"year\": 1962, \"PC1\": -3.8509965822677454, \"PC2\": 1.2612926958392636, \"instability\": -1.5768960551534017, \"kmeans_labels\": 1, \"dbscan_labels\": 4}, {\"year\": 1963, \"PC1\": -3.859851506831162, \"PC2\": 1.3554105777795933, \"instability\": -1.6184520373063906, \"kmeans_labels\": 1, \"dbscan_labels\": 4}, {\"year\": 1964, \"PC1\": -3.304384157660088, \"PC2\": 1.4808390226391357, \"instability\": -0.6936955356206068, \"kmeans_labels\": 1, \"dbscan_labels\": 4}, {\"year\": 1965, \"PC1\": -2.963396567264285, \"PC2\": 1.5797265785292856, \"instability\": -0.116388757542674, \"kmeans_labels\": 1, \"dbscan_labels\": 4}, {\"year\": 1966, \"PC1\": -2.8584821558310107, \"PC2\": 1.6599686892861245, \"instability\": 0.0964332009257868, \"kmeans_labels\": 1, \"dbscan_labels\": 4}, {\"year\": 1967, \"PC1\": -2.537372635311309, \"PC2\": 1.709419347309419, \"instability\": 0.6943617538869302, \"kmeans_labels\": 1, \"dbscan_labels\": 4}, {\"year\": 1968, \"PC1\": -2.4616068494496086, \"PC2\": 1.7930084201387229, \"instability\": 0.8564072225910802, \"kmeans_labels\": 1, \"dbscan_labels\": 4}, {\"year\": 1969, \"PC1\": -2.5104990171722537, \"PC2\": 1.7767102777763548, \"instability\": 0.7571356734692485, \"kmeans_labels\": 1, \"dbscan_labels\": 4}]}}, {\"mode\": \"vega-lite\"});\n",
       "</script>"
      ],
      "text/plain": [
       "alt.HConcatChart(...)"
      ]
     },
     "execution_count": 63,
     "metadata": {},
     "output_type": "execute_result"
    }
   ],
   "source": [
    "from sklearn.cluster import KMeans, DBSCAN\n",
    "from kneed import KneeLocator\n",
    "\n",
    "import matplotlib.pyplot as plt\n",
    "import altair as alt\n",
    "\n",
    "# Extract the features for clustering\n",
    "X = df[['PC1', 'PC2']]\n",
    "\n",
    "# Use the elbow method to find the optimal number of clusters\n",
    "inertia = []\n",
    "for n in range(1, 11):\n",
    "    kmeans = KMeans(n_clusters=n, random_state=42)\n",
    "    kmeans.fit(X)\n",
    "    inertia.append(kmeans.inertia_)\n",
    "\n",
    "# Based on the elbow plot, choose the optimal number of clusters\n",
    "# Use KneeLocator to find the elbow point\n",
    "kneedle = KneeLocator(range(1, 11), inertia, curve='convex', direction='decreasing')\n",
    "optimal_clusters = kneedle.elbow\n",
    "kmeans = KMeans(n_clusters=5, random_state=42) # to align with DBSCAn\n",
    "df['kmeans_labels'] = kmeans.fit_predict(X)\n",
    "\n",
    "# Apply DBSCAN clustering\n",
    "dbscan = DBSCAN(eps=0.4, min_samples=5)\n",
    "df['dbscan_labels'] = dbscan.fit_predict(X)\n",
    "\n",
    "# Create a scatter plot of the PCA results\n",
    "scatter2 = alt.Chart(df.reset_index()).mark_circle().encode(\n",
    "    x='PC1',\n",
    "    y='PC2',\n",
    "    color=alt.Color('instability', scale=alt.Scale(scheme='redblue', reverse=True)),\n",
    "    tooltip=['year', 'PC1', 'PC2', 'instability']\n",
    ")\n",
    "\n",
    "scatter1 = alt.Chart(df.reset_index()).mark_circle().encode(\n",
    "    x='PC1',\n",
    "    y='PC2',\n",
    "    color=alt.Color('kmeans_labels:N', legend=None),\n",
    "    tooltip=['year', 'PC1', 'PC2', 'instability']\n",
    ").properties(\n",
    "    title='K-Means Clustering'\n",
    ")\n",
    "\n",
    "scatter3 = alt.Chart(df.reset_index()).mark_circle().encode(\n",
    "    x='PC1',\n",
    "    y='PC2',\n",
    "    color=alt.condition(\n",
    "        alt.datum.dbscan_labels == -1,\n",
    "        alt.value('grey'),\n",
    "        alt.Color('dbscan_labels:N', legend=None)\n",
    "    ),\n",
    "    tooltip=['year', 'PC1', 'PC2', 'instability'],\n",
    ").properties(\n",
    "    title='DBSCAN Clustering'\n",
    ")\n",
    "\n",
    "\n",
    "scatter1 | scatter2 | scatter3"
   ]
  },
  {
   "cell_type": "code",
   "execution_count": 64,
   "metadata": {},
   "outputs": [
    {
     "name": "stdout",
     "output_type": "stream",
     "text": [
      "Silhouette Score for KMeans: 0.6216742140448069\n",
      "Silhouette Score for DBSCAN: 0.5006554255105404\n"
     ]
    }
   ],
   "source": [
    "from sklearn.metrics import silhouette_score\n",
    "\n",
    "# Calculate silhouette score for KMeans\n",
    "silhouette_kmeans = silhouette_score(X, df['kmeans_labels'])\n",
    "print(f'Silhouette Score for KMeans: {silhouette_kmeans}')\n",
    "\n",
    "# Calculate silhouette score for DBSCAN\n",
    "silhouette_dbscan = silhouette_score(X, df['dbscan_labels'])\n",
    "print(f'Silhouette Score for DBSCAN: {silhouette_dbscan}')"
   ]
  },
  {
   "cell_type": "markdown",
   "metadata": {},
   "source": [
    "but does the clustering actually have meaning? The simple Silhouette score is not enough to determine the quality of the clustering. We will analyze this more in the next chapter."
   ]
  }
 ],
 "metadata": {
  "kernelspec": {
   "display_name": "env",
   "language": "python",
   "name": "python3"
  },
  "language_info": {
   "codemirror_mode": {
    "name": "ipython",
    "version": 3
   },
   "file_extension": ".py",
   "mimetype": "text/x-python",
   "name": "python",
   "nbconvert_exporter": "python",
   "pygments_lexer": "ipython3",
   "version": "3.12.3"
  }
 },
 "nbformat": 4,
 "nbformat_minor": 2
}
