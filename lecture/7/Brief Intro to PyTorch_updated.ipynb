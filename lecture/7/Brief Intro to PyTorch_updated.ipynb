{
 "cells": [
  {
   "cell_type": "markdown",
   "id": "5bb79567",
   "metadata": {},
   "source": [
    "\n",
    "    \n",
    "(install a version compatible with your hardware)  \n",
    "    \n"
   ]
  },
  {
   "cell_type": "code",
   "execution_count": 30,
   "id": "6cf8b35f",
   "metadata": {},
   "outputs": [],
   "source": [
    "import numpy as np\n",
    "import pandas as pd\n",
    "import torch\n",
    "import matplotlib.pyplot as plt\n",
    "import seaborn as sns\n",
    "plt.style.use('fivethirtyeight')"
   ]
  },
  {
   "cell_type": "markdown",
   "id": "29bc17b5",
   "metadata": {},
   "source": [
    "### First a bit of (review?) Neural Network terminology:"
   ]
  },
  {
   "cell_type": "markdown",
   "id": "bc3bbf02",
   "metadata": {
    "slideshow": {
     "slide_type": "slide"
    }
   },
   "source": [
    "## Logistic Regression\n",
    "\n",
    "<img src=\"https://miro.medium.com/max/1433/1*rtRMr8B8aoZO44-rfDVnsw.png\" width=1000>"
   ]
  },
  {
   "cell_type": "markdown",
   "id": "8e01bb94",
   "metadata": {
    "slideshow": {
     "slide_type": "slide"
    }
   },
   "source": [
    "Another way to visualize it...\n",
    "\n",
    "<img src=\"https://qph.cf2.quoracdn.net/main-qimg-98dfd80df18bc6804ce919e73247562f-pjlq\" width=1100>\n",
    "\n",
    "The perceptron!"
   ]
  },
  {
   "cell_type": "markdown",
   "id": "239a30a1",
   "metadata": {
    "slideshow": {
     "slide_type": "slide"
    }
   },
   "source": [
    "### Neural Networks (NN) for classification\n",
    "\n",
    "NNs are computational learning systems that use a network of functions to translate input into output (make predictions). They are interconnected systems of **perceptrons**. Origin:\n",
    "- brain (information processor) as a model (hierarchical representation of the visual cortex)\n",
    "- information flows through **neurons**\n",
    "- complex webs of interconnected neurons in the brain"
   ]
  },
  {
   "cell_type": "markdown",
   "id": "3bb25188",
   "metadata": {
    "slideshow": {
     "slide_type": "slide"
    }
   },
   "source": [
    " They consist of:\n",
    "\n",
    "- input layer (the features used for classification)\n",
    "- hidden layers (more hidden layers, deeper the network)\n",
    "- output layer (might have multiple nodes for multi-category classification).\n",
    "- every node in one layer is connected with every node in the next layer\n",
    "\n",
    "<img src=\"https://miro.medium.com/v2/resize:fit:1400/format:webp/1*Gh5PS4R_A5drl5ebd_gNrg@2x.png\" width=\"600\"/>\n",
    "\n",
    "Each non-input node (perceptron) creates an output by passing the weighted sum of its inputs through a non-linear activation function. This is the output of the node, which then becomes the input of another node in the next layer.\n"
   ]
  },
  {
   "cell_type": "markdown",
   "id": "baa2d4f5",
   "metadata": {
    "slideshow": {
     "slide_type": "slide"
    }
   },
   "source": [
    "<img src=\"https://miro.medium.com/v2/resize:fit:1400/format:webp/1*FcEfcrucAFymCr0gMFQ0QA@2x.png\" width=\"400\"/>\n",
    "\n",
    "\n",
    "Each node outputs the following (b is called the bias, w are the weights, f is the activation function):\n",
    "$$ f(b+\\sum w_i x_i) $$"
   ]
  },
  {
   "cell_type": "markdown",
   "id": "055b8cbf",
   "metadata": {
    "slideshow": {
     "slide_type": "slide"
    }
   },
   "source": [
    "**Logistic regression as a perceptron**: \n",
    "\n",
    "- binary (0-1) response variable $y$\n",
    "- several predictors $x_1$, $x_2$,...\n",
    "- use a linear model for prediction: $b_0+b_1x_1+b_2x_2+...=b_0+\\sum b_i x_i$\n",
    "- number of parameters is 1 + number of predictors\n",
    "- if p=P(Y=1), $$\\log (\\frac{\\hat p}{1-\\hat p})=b_0+\\sum b_i x_i$$ \n",
    "- and so $$\\hat p= \\frac{1}{(1+e^{-(b_0+\\sum b_i x_i)})}$$\n",
    "\n",
    "### How many parameters does a NN have?"
   ]
  },
  {
   "cell_type": "markdown",
   "id": "c762888e",
   "metadata": {
    "slideshow": {
     "slide_type": "slide"
    }
   },
   "source": [
    "### Examples of activation functions f\n",
    "(more here: https://en.wikipedia.org/wiki/Activation_function )\n",
    "\n",
    "- Identity (what happens if we use this?): $$f(x)=x$$ \n",
    "- Rectified linear unit (ReLU): $$f(x)=\\max(0,x)$$\n",
    "- Sigmoid (logistic): $$f(x)=\\frac{1}{1+e^{-x}}$$\n",
    "- Step functions"
   ]
  },
  {
   "cell_type": "markdown",
   "id": "df54dcf6",
   "metadata": {
    "slideshow": {
     "slide_type": "slide"
    }
   },
   "source": [
    "## What kind of decision boundaries are we obtaining?\n",
    "\n",
    "In the next few cells we assume that:\n",
    "- we have two predictors $x_1$ and $x_2$\n",
    "- $x_1$ and $x_2$ take values between 0 and 1\n",
    "\n",
    "For random values of network parameters, we show the corresponding decision boundaries.\n"
   ]
  },
  {
   "cell_type": "code",
   "execution_count": 31,
   "id": "08c805ef",
   "metadata": {
    "slideshow": {
     "slide_type": "slide"
    }
   },
   "outputs": [
    {
     "data": {
      "text/plain": [
       "(10000, 2)"
      ]
     },
     "execution_count": 31,
     "metadata": {},
     "output_type": "execute_result"
    }
   ],
   "source": [
    "# for visualization - construct a grid of potential points for classifying\n",
    "# same as in Lecture 12\n",
    "x1 = np.array([])\n",
    "x2 = np.array([])\n",
    "for x in np.arange(0, 1, 0.01):\n",
    "    for y in np.arange(0, 1, 0.01):\n",
    "        x1 = np.append(x1, x)\n",
    "        x2 = np.append(x2, y)\n",
    "        \n",
    "test_grid = pd.DataFrame(\n",
    "        {\"X1\": x1,\n",
    "         \"X2\": x2})\n",
    "test_grid.shape"
   ]
  },
  {
   "cell_type": "code",
   "execution_count": 32,
   "id": "f7e69813",
   "metadata": {
    "slideshow": {
     "slide_type": "slide"
    }
   },
   "outputs": [],
   "source": [
    "# activation functions\n",
    "\n",
    "# ReLU: rectified linear function\n",
    "def relu(x):\n",
    "    return max(0, x)\n",
    "\n",
    "# sigmoid\n",
    "def sigmoid(x):\n",
    "    return 1/(1+np.exp(x))"
   ]
  },
  {
   "cell_type": "code",
   "execution_count": 33,
   "id": "d957400e",
   "metadata": {
    "slideshow": {
     "slide_type": "slide"
    }
   },
   "outputs": [
    {
     "name": "stderr",
     "output_type": "stream",
     "text": [
      "/tmp/ipykernel_2444/1045663233.py:8: FutureWarning: Series.__getitem__ treating keys as positions is deprecated. In a future version, integer keys will always be treated as labels (consistent with DataFrame behavior). To access a value by position, use `ser.iloc[pos]`\n",
      "  return sigmoid(p[0]+p[1]*x[0]+p[2]*x[1])\n"
     ]
    },
    {
     "data": {
      "image/png": "[encoded data removed]",
      "text/plain": [
       "<Figure size 640x480 with 1 Axes>"
      ]
     },
     "metadata": {},
     "output_type": "display_data"
    }
   ],
   "source": [
    "# logistic regression decision boundary\n",
    "\n",
    "# parameters p chosen randomly\n",
    "p= np.random.normal(loc=0,scale=10,size=3)\n",
    "\n",
    "# the output for values of predictors x1 and x2 (x is an array of size 2) \n",
    "def output(x):\n",
    "    return sigmoid(p[0]+p[1]*x[0]+p[2]*x[1])\n",
    "\n",
    "# apply the output to all points on the grid\n",
    "tmp=test_grid.apply(output,axis=1)\n",
    "\n",
    "# the threshold for coloring is the median of tmp\n",
    "plt.scatter(x1[tmp>np.median(tmp)],x2[tmp>np.median(tmp)], color='orange', alpha=0.3, s=30)\n",
    "plt.scatter(x1[tmp<=np.median(tmp)],x2[tmp<=np.median(tmp)], color='lightblue', alpha=0.3, s=30)\n",
    "plt.xlabel('X1')\n",
    "plt.ylabel('X2')\n",
    "plt.xlim(0, 1)\n",
    "plt.ylim(0, 1);"
   ]
  },
  {
   "cell_type": "code",
   "execution_count": 34,
   "id": "17704597",
   "metadata": {
    "scrolled": true,
    "slideshow": {
     "slide_type": "slide"
    }
   },
   "outputs": [
    {
     "name": "stderr",
     "output_type": "stream",
     "text": [
      "/tmp/ipykernel_2444/3038154962.py:17: FutureWarning: Series.__getitem__ treating keys as positions is deprecated. In a future version, integer keys will always be treated as labels (consistent with DataFrame behavior). To access a value by position, use `ser.iloc[pos]`\n",
      "  n1= sigmoid(p1[0]+p1[1]*x[0]+p1[2]*x[1])\n",
      "/tmp/ipykernel_2444/3038154962.py:20: FutureWarning: Series.__getitem__ treating keys as positions is deprecated. In a future version, integer keys will always be treated as labels (consistent with DataFrame behavior). To access a value by position, use `ser.iloc[pos]`\n",
      "  n2= sigmoid(p2[0]+p2[1]*x[0]+p2[2]*x[1])\n",
      "/tmp/ipykernel_2444/3038154962.py:23: FutureWarning: Series.__getitem__ treating keys as positions is deprecated. In a future version, integer keys will always be treated as labels (consistent with DataFrame behavior). To access a value by position, use `ser.iloc[pos]`\n",
      "  n3= sigmoid(p3[0]+p3[1]*x[0]+p3[2]*x[1])\n"
     ]
    },
    {
     "data": {
      "image/png": "[encoded data removed]",
      "text/plain": [
       "<Figure size 640x480 with 1 Axes>"
      ]
     },
     "metadata": {},
     "output_type": "display_data"
    }
   ],
   "source": [
    "# run this several times\n",
    "\n",
    "# a NN with 2 hidden layers, each with 3 nodes\n",
    "\n",
    "# weights chosen randomly - how many parameters?\n",
    "p1= np.random.normal(loc=2,scale=10,size=3)\n",
    "p2= np.random.normal(loc=2,scale=10,size=3)\n",
    "p3= np.random.normal(loc=2,scale=10,size=3)\n",
    "p4= np.random.normal(scale=10,size=4)\n",
    "p5= np.random.normal(scale=10,size=4)\n",
    "p6= np.random.normal(scale=10,size=4)\n",
    "p7= np.random.normal(scale=10,size=4)\n",
    "\n",
    "# the output for values of predictors x1 and x2\n",
    "def output2(x):\n",
    "    # first node of the first layer\n",
    "    n1= sigmoid(p1[0]+p1[1]*x[0]+p1[2]*x[1])\n",
    "    \n",
    "    # second node of the first layer\n",
    "    n2= sigmoid(p2[0]+p2[1]*x[0]+p2[2]*x[1])\n",
    "    \n",
    "    # second node of the first layer\n",
    "    n3= sigmoid(p3[0]+p3[1]*x[0]+p3[2]*x[1])\n",
    "    \n",
    "    # first node of the second layer - it uses the data from n1 and n2\n",
    "    n4= sigmoid(p4[0]+p4[1]*n1+p4[2]*n2+p4[3]*n3)\n",
    "    \n",
    "    # second node of the second layer - \n",
    "    n5= sigmoid(p5[0]+p5[1]*n1+p5[2]*n2+p5[3]*n3)\n",
    "    \n",
    "    # third node of the second layer - \n",
    "    n6= sigmoid(p6[0]+p6[1]*n1+p6[2]*n2+p6[3]*n3)\n",
    "    \n",
    "    # output node\n",
    "    return sigmoid(p7[0]+p7[1]*n4+p7[2]*n5+p7[3]*n6)\n",
    "\n",
    "# apply the output to all points on the grid\n",
    "tmp=test_grid.apply(output2,axis=1)\n",
    "\n",
    "# the threshold for coloring is the median of tmp\n",
    "plt.scatter(x1[tmp>np.median(tmp)],x2[tmp>np.median(tmp)], color='orange', alpha=0.3, s=30)\n",
    "plt.scatter(x1[tmp<=np.median(tmp)],x2[tmp<=np.median(tmp)], color='lightblue', alpha=0.3, s=30)\n",
    "plt.xlabel('X1')\n",
    "plt.ylabel('X2')\n",
    "plt.xlim(0, 1)\n",
    "plt.ylim(0, 1);"
   ]
  },
  {
   "cell_type": "markdown",
   "id": "e04a41c5",
   "metadata": {
    "slideshow": {
     "slide_type": "slide"
    }
   },
   "source": [
    "\n",
    "After seeing amateur drawings of decision boundaries, some professional stuff here:\n",
    "\n",
    "https://playground.tensorflow.org\n",
    "\n",
    "How well can you separate the data?"
   ]
  },
  {
   "cell_type": "markdown",
   "id": "fe311a5a",
   "metadata": {},
   "source": [
    "### Training a Neural Network - Key Concepts\n",
    "\n",
    "|   |   |   |\n",
    "|:--|:--|:--|\n",
    "| <img src=\"https://github.com/david-biron/DATA221imgs/blob/main/icon_definition.png?raw=true\" width=\"50\" height=\"\"> | **Forward Propagation** | The process of passing input data through the network to make predictions. Each neuron applies a mathematical operation (like matrix multiplication followed by an activation function). The final output is compared with the actual target value to compute the loss. |\n",
    "\n",
    "|   |   |   |\n",
    "|:--|:--|:--|\n",
    "| <img src=\"https://github.com/david-biron/DATA221imgs/blob/main/icon_definition.png?raw=true\" width=\"50\" height=\"\"> | **Back Propagation** | A technique used to adjust the weights of the network to reduce the loss. It involves computing the gradient (rate of change) of the loss with respect to each parameter. Uses the chain rule to efficiently propagate gradients backward through the network. |\n"
   ]
  },
  {
   "cell_type": "markdown",
   "id": "6c927597",
   "metadata": {},
   "source": [
    "|   |   |   |\n",
    "|:--|:--|:--|\n",
    "| <img src=\"https://github.com/david-biron/DATA221imgs/blob/main/icon_definition.png?raw=true\" width=\"50\" height=\"\"> | **Epoch** | One complete pass of the entire dataset through the neural network. Each point gets passed forward, a loss is calculate, and the gradient update is propagated backward through the network. If we train for 10 epochs, the model sees the entire dataset 10 times.|\n",
    "\n",
    "|   |   |   |\n",
    "|:--|:--|:--|\n",
    "| <img src=\"https://github.com/david-biron/DATA221imgs/blob/main/icon_definition.png?raw=true\" width=\"50\" height=\"\"> | **Batches** | A subset of the dataset processed at one time. Instead of updating the model after every single data point (which is slow), we compute the loss and update weights after processing a batch of examples. |\n",
    "\n",
    "|   |   |   |\n",
    "|:--|:--|:--|\n",
    "| <img src=\"https://github.com/david-biron/DATA221imgs/blob/main/icon_definition.png?raw=true\" width=\"50\" height=\"\"> | **Mini-Batches/Mini-Batch Gradient Descent** | Instead of processing one data point at a time (slow) or the entire dataset at once (requires too much memory), we divide the data into mini-batches. Each mini-batch runs through forward propagation, computes loss, performs backpropagation, and updates weights.|\n",
    "\n",
    "Example\n",
    "- Dataset size: 10,000 images\n",
    "- Batch size: 100\n",
    "- Epochs: 5\n",
    "- Total updates per epoch: 10,000÷100=100 weight updates\n",
    "- Total updates after 5 epochs:5×100=500\n",
    "\n",
    "Using batches makes training faster and more memory-efficient while still ensuring the model learns effectively.\n"
   ]
  },
  {
   "cell_type": "markdown",
   "id": "29da13e9",
   "metadata": {},
   "source": [
    "### How to Choose Hidden Layers, Nodes, and Activation Functions\n",
    "\n",
    "There is **no universal rule** for selecting the best **hidden layers, number of nodes, and activation functions**. However, these **best practices** can help:\n",
    "\n",
    "#### Choosing the Number of Hidden Layers\n",
    "| **Number of Hidden Layers** | **When to Use** | **Example Use Case** |\n",
    "|-----------------|---------------------------|---------------------------|\n",
    "| **0 (No Hidden Layers)** | Linear relationships only | Linear regression, logistic regression |\n",
    "| **1 (Single Hidden Layer)** | Simple patterns | Basic neural networks (e.g., XOR classifier) |\n",
    "| **2–3 Hidden Layers** | Most common for structured data | Tabular data (e.g., predicting house prices) |\n",
    "| **4+ Hidden Layers** | Complex problems like image, text, speech processing | Deep learning models (CNNs, RNNs, Transformers) |\n",
    "\n",
    "**Rule of Thumb**\n",
    "- Start **small** (1–2 layers) and increase **if accuracy is low**.\n",
    "- If increasing layers **doesn’t improve performance**, the model may be **too deep** for the data.\n",
    "\n",
    "---\n",
    "\n",
    "#### Choosing the Number of Nodes per Layer\n",
    "The number of neurons in a layer affects **model capacity** and **overfitting risk**.\n",
    "\n",
    "**Guidelines for Choosing Neurons**\n",
    "1. **Start with a size between the input and output layers.**  \n",
    "   - If you have **10 inputs** and **1 output**, try a hidden layer with **5–10 neurons** first.\n",
    "2. **Use the \"power of two\" rule for exploration.**  \n",
    "   - Try **8, 16, 32, 64, ...** and find the best performing architecture.\n",
    "3. **Keep it balanced across layers.**  \n",
    "   - Avoid large jumps in neurons across layers (e.g., 128 → 4 → 128).\n",
    "4. **Use cross-validation to find the optimal number.**\n",
    "   - Experiment with different sizes and see how validation accuracy changes.\n",
    "\n",
    "**Rule of Thumb:**  \n",
    "- Start with **2–3 times** the number of input features.  \n",
    "- If model **underfits** (low accuracy), **increase neurons**.  \n",
    "- If model **overfits** (good training but bad validation accuracy), **reduce neurons**.\n",
    "\n",
    "---\n",
    "\n",
    "#### Choosing the Right Activation Function**\n",
    "The **activation function** decides how neurons process and pass information.  \n",
    "\n",
    "**Common Activation Functions**\n",
    "\n",
    "| **Activation** | **Formula** | **When to Use** | **Pros** | **Cons** |\n",
    "|:---|:---|:---|:---|:---|\n",
    "| **Sigmoid** | $\\frac{1}{1 + e^{-x}}$ | **Output layer for binary classification** | Probabilistic interpretation | Can cause vanishing gradients |\n",
    "| **ReLU** | $x$ if $x > 0$, else $0$ | **Hidden layers in most deep networks** | Avoids vanishing gradient | Can suffer from dead neurons (if $x \\leq 0$) |\n",
    "| **Leaky ReLU** | $x$ if $x > 0$, else $0.01x$ | **Fixes dead neurons in ReLU** | Allows small negative values | Still not ideal for all cases |\n",
    "| **Tanh** | $\\frac{e^x - e^{-x}}{e^x + e^{-x}}$ | **When inputs are centered around 0** | Avoids shifting weights too much | Can still suffer from vanishing gradients |\n",
    "| **Softmax** | $\\frac{e^{x_i}}{\\sum e^{x_j}}$ | **Output layer for multi-class classification** | Outputs sum to 1 (probability) | Can be unstable for large inputs |\n"
   ]
  },
  {
   "cell_type": "markdown",
   "id": "cb42b01c",
   "metadata": {},
   "source": [
    "#### Let's walk through a simple example...\n",
    "\n",
    "|   |   |\n",
    "|:--|:--|\n",
    "|<img src=\"https://github.com/david-biron/DATA221imgs/blob/main/icon_example.png?raw=true\" width=\"50\" height=\"\"> |Remember this data?|"
   ]
  },
  {
   "cell_type": "code",
   "execution_count": 35,
   "id": "fa1c2d67",
   "metadata": {},
   "outputs": [
    {
     "data": {
      "text/html": [
       "<div>\n",
       "<style scoped>\n",
       "    .dataframe tbody tr th:only-of-type {\n",
       "        vertical-align: middle;\n",
       "    }\n",
       "\n",
       "    .dataframe tbody tr th {\n",
       "        vertical-align: top;\n",
       "    }\n",
       "\n",
       "    .dataframe thead th {\n",
       "        text-align: right;\n",
       "    }\n",
       "</style>\n",
       "<table border=\"1\" class=\"dataframe\">\n",
       "  <thead>\n",
       "    <tr style=\"text-align: right;\">\n",
       "      <th></th>\n",
       "      <th>Age</th>\n",
       "      <th>sysBP</th>\n",
       "      <th>HD</th>\n",
       "    </tr>\n",
       "  </thead>\n",
       "  <tbody>\n",
       "    <tr>\n",
       "      <th>0</th>\n",
       "      <td>20</td>\n",
       "      <td>100</td>\n",
       "      <td>0</td>\n",
       "    </tr>\n",
       "    <tr>\n",
       "      <th>1</th>\n",
       "      <td>30</td>\n",
       "      <td>130</td>\n",
       "      <td>0</td>\n",
       "    </tr>\n",
       "    <tr>\n",
       "      <th>2</th>\n",
       "      <td>40</td>\n",
       "      <td>150</td>\n",
       "      <td>1</td>\n",
       "    </tr>\n",
       "    <tr>\n",
       "      <th>3</th>\n",
       "      <td>45</td>\n",
       "      <td>140</td>\n",
       "      <td>1</td>\n",
       "    </tr>\n",
       "    <tr>\n",
       "      <th>4</th>\n",
       "      <td>50</td>\n",
       "      <td>110</td>\n",
       "      <td>0</td>\n",
       "    </tr>\n",
       "    <tr>\n",
       "      <th>5</th>\n",
       "      <td>60</td>\n",
       "      <td>140</td>\n",
       "      <td>1</td>\n",
       "    </tr>\n",
       "    <tr>\n",
       "      <th>6</th>\n",
       "      <td>65</td>\n",
       "      <td>120</td>\n",
       "      <td>0</td>\n",
       "    </tr>\n",
       "    <tr>\n",
       "      <th>7</th>\n",
       "      <td>70</td>\n",
       "      <td>110</td>\n",
       "      <td>0</td>\n",
       "    </tr>\n",
       "    <tr>\n",
       "      <th>8</th>\n",
       "      <td>80</td>\n",
       "      <td>130</td>\n",
       "      <td>1</td>\n",
       "    </tr>\n",
       "    <tr>\n",
       "      <th>9</th>\n",
       "      <td>90</td>\n",
       "      <td>120</td>\n",
       "      <td>1</td>\n",
       "    </tr>\n",
       "  </tbody>\n",
       "</table>\n",
       "</div>"
      ],
      "text/plain": [
       "   Age  sysBP  HD\n",
       "0   20    100   0\n",
       "1   30    130   0\n",
       "2   40    150   1\n",
       "3   45    140   1\n",
       "4   50    110   0\n",
       "5   60    140   1\n",
       "6   65    120   0\n",
       "7   70    110   0\n",
       "8   80    130   1\n",
       "9   90    120   1"
      ]
     },
     "execution_count": 35,
     "metadata": {},
     "output_type": "execute_result"
    }
   ],
   "source": [
    "fake_df = pd.DataFrame([[20, 100, 0],\n",
    "                        [30, 130, 0],\n",
    "                        [40, 150, 1],\n",
    "                        [45, 140, 1],\n",
    "                        [50, 110, 0],\n",
    "                        [60, 140, 1],\n",
    "                        [65, 120, 0],\n",
    "                        [70, 110, 0],\n",
    "                        [80, 130, 1],\n",
    "                        [90, 120, 1]], columns=['Age', 'sysBP', 'HD'])\n",
    "fake_df"
   ]
  },
  {
   "cell_type": "markdown",
   "id": "37851684",
   "metadata": {},
   "source": [
    "We want to use `Age` and `sysBP` to predict `HD`. Imagine that we want to get predicted probabilities (between 0 and 1)\n",
    "\n",
    "- There are two input nodes and one output node.\n",
    "\n",
    "- I also decided that I want one hidden layer with 2 nodes.\n",
    "\n",
    "How would you draw this network? What are the parameters that I need to estimate? What do I still need to choose?\n"
   ]
  },
  {
   "cell_type": "markdown",
   "id": "816a96f8",
   "metadata": {},
   "source": [
    "Each connection has a weight and a bias, let's initialize them randomly. I'll set the biases to 0. The weights I've chosen (pseudo) randomly. [-1, 0.25, -0.5, 0.55, -0.47, 0.44]\n",
    "\n",
    "Each node needs an activation function. For the output node, we will use the sigmoid function (Why?)\n",
    "\n",
    "Let's use ReLU for the others."
   ]
  },
  {
   "cell_type": "code",
   "execution_count": 36,
   "id": "e90cc9b5",
   "metadata": {
    "hideCode": true
   },
   "outputs": [
    {
     "data": {
      "image/png": "[encoded data removed]",
      "text/plain": [
       "<Figure size 600x600 with 1 Axes>"
      ]
     },
     "metadata": {},
     "output_type": "display_data"
    }
   ],
   "source": [
    "import matplotlib.pyplot as plt\n",
    "\n",
    "import matplotlib.pyplot as plt\n",
    "import numpy as np\n",
    "\n",
    "# Create figure\n",
    "fig, ax = plt.subplots(figsize=(6, 6))\n",
    "ax.set_xlim([-1, 3.3])\n",
    "ax.set_ylim([-1, 3.3])\n",
    "ax.axis(\"off\")  # Hide axes\n",
    "\n",
    "# Define neuron positions\n",
    "input_neurons = [(0, 2), (0, 0)]  # (Age, sysBP)\n",
    "hidden_neurons = [(1.5, 2), (1.5, 0)]  # Hidden layer (2 neurons)\n",
    "output_neuron = [(3, 1)]  # Output neuron (HD probability)\n",
    "\n",
    "# Draw neurons (lighter color for transparency)\n",
    "for x, y in input_neurons + hidden_neurons + output_neuron:\n",
    "    ax.add_patch(plt.Circle((x, y), 0.2, color=\"blue\", ec=\"black\", alpha=0.3, lw=1))\n",
    "\n",
    "# Label neurons\n",
    "ax.text(0, 2, \"Age\", fontsize=12, ha=\"center\")\n",
    "ax.text(0, 0, \"sysBP\", fontsize=12, ha=\"center\")\n",
    "ax.text(1.5, 2.2, \"ReLU\", fontsize=12, ha=\"center\")\n",
    "ax.text(1.5, 0.2, \"ReLU\", fontsize=12, ha=\"center\")\n",
    "ax.text(3, 1.2, \"Sigmoid\", fontsize=12, ha=\"center\")\n",
    "\n",
    "# Define weights with updated positions\n",
    "weights = {\n",
    "    ((0, 2), (1.5, 2)): (\"w1 = -1\", -0.2, 0.1),  # Shift text slightly\n",
    "    ((0, 0), (1.5, 2)): (\"w2 = 0.25\", -0.9, 0.2),   # Adjust placement\n",
    "    ((0, 2), (1.5, 0)): (\"w3 = -0.5\", 0.2, -0.2),\n",
    "    ((0, 0), (1.5, 0)): (\"w4 = 0.55\", -0.3, 0.1),\n",
    "    ((1.5, 2), (3, 1)): (\"w5 = -0.47\", 0, 0.2),\n",
    "    ((1.5, 0), (3, 1)): (\"w6 = 0.44\", 0, -0.2)\n",
    "}\n",
    "\n",
    "# Draw arrows and label weights\n",
    "for (x1, y1), (x2, y2) in weights.keys():\n",
    "    ax.annotate(\"\", xy=(x2 - 0.15, y2), xytext=(x1 + 0.15, y1),\n",
    "                arrowprops=dict(arrowstyle=\"->\", color=\"black\", lw=1))\n",
    "    weight_label, dx, dy = weights[((x1, y1), (x2, y2))]\n",
    "    ax.text((x1 + x2) / 2 + dx, (y1 + y2) / 2 + dy, weight_label, fontsize=10, color=\"red\")\n",
    "\n",
    "# Label biases\n",
    "for i, (x, y) in enumerate(hidden_neurons + output_neuron):\n",
    "    ax.text(x + 0.3, y, f\"b{i+1} = 0\", fontsize=10, color=\"green\")\n",
    "\n",
    "# Layer labels\n",
    "ax.text(0, 2.5, \"Input Layer\", fontsize=12, color=\"purple\", ha=\"center\")\n",
    "ax.text(1.5, 2.5, \"Hidden Layer\", fontsize=12, color=\"purple\", ha=\"center\")\n",
    "ax.text(3, 2.5, \"Output Layer\", fontsize=12, color=\"purple\", ha=\"center\")\n",
    "\n",
    "plt.show()\n"
   ]
  },
  {
   "cell_type": "markdown",
   "id": "4592b684",
   "metadata": {},
   "source": [
    "#### Step 1: Given Data and Initial Weights\n",
    "**Training Example:**\n",
    "$$\n",
    "\\text{Age} = 20, \\quad \\text{sysBP} = 100, \\quad \\text{HD} = 0\n",
    "$$\n",
    "\n",
    "**Initial Weights and Biases**\n",
    "\n",
    "| **From → To** | **Weight** |\n",
    "|:------------|:-----------|\n",
    "| Age → Hidden1 | w1 = -1.0 |\n",
    "| sysBP → Hidden1 | w2 = 0.25 |\n",
    "| Age → Hidden2 | w3 = -0.5 |\n",
    "| sysBP → Hidden2 | w4 = 0.55 |\n",
    "| Hidden1 → Output | w5 = -0.47 |\n",
    "| Hidden2 → Output | w6 = 0.44 |\n",
    "| Biases | b1 = 0, b2 = 0, b3 = 0 |\n",
    "\n"
   ]
  },
  {
   "cell_type": "markdown",
   "id": "f0a4491c",
   "metadata": {},
   "source": [
    "### Step 2: Forward Propagation\n",
    "**Compute Hidden Layer Activations**\n",
    "\n",
    "Each hidden neuron performs:\n",
    "$$\n",
    "z = (w_1 \\cdot \\text{Age}) + (w_2 \\cdot \\text{sysBP}) + b\n",
    "$$\n",
    "$$\n",
    "h = \\text{ReLU}(z) = \\max(0, z)\n",
    "$$\n",
    "\n",
    "**Hidden Neuron 1:**\n",
    "$$\n",
    "z_1 = (-1.0 \\times 20) + (0.25 \\times 100) + 0\n",
    "$$\n",
    "$$\n",
    "z_1 = -20 + 25 = 5.0\n",
    "$$\n",
    "$$\n",
    "h_1 = \\text{ReLU}(5.0) = 5.0\n",
    "$$\n",
    "\n",
    "**Hidden Neuron 2:**\n",
    "$$\n",
    "z_2 = (-0.5 \\times 20) + (0.55 \\times 100) + 0\n",
    "$$\n",
    "$$\n",
    "z_2 = -10 + 55 = 45.0\n",
    "$$\n",
    "$$\n",
    "h_2 = \\text{ReLU}(45.0) = 45.0\n",
    "$$\n",
    "\n",
    "---\n",
    "\n",
    "**Compute Output Layer Activation**\n",
    "\n",
    "The output neuron computes:\n",
    "$$\n",
    "z_{\\text{out}} = (w_5 \\cdot h_1) + (w_6 \\cdot h_2) + b_3\n",
    "$$\n",
    "$$\n",
    "z_{\\text{out}} = (-0.47 \\times 5.0) + (0.44 \\times 45.0) + 0\n",
    "$$\n",
    "$$\n",
    "z_{\\text{out}} = -2.35 + 19.8 = 17.45\n",
    "$$\n",
    "\n",
    "Then, apply the **Sigmoid activation function**:\n",
    "$$\n",
    "\\hat{y} = \\sigma(z_{\\text{out}}) = \\frac{1}{1 + e^{-17.45}}\n",
    "$$\n",
    "\n",
    "Since $ e^{-17.45} $ is very small, the output is **very close to 1**:\n",
    "$$\n",
    "\\hat{y} \\approx 0.9999997\n",
    "$$\n",
    "\n",
    "**Prediction**: The model predicts **HD = 1**, but the actual label is **HD = 0**."
   ]
  },
  {
   "cell_type": "markdown",
   "id": "c8712c39",
   "metadata": {},
   "source": [
    "### Step 3: Compute Loss\n",
    "We use **Binary Cross Entropy Loss**:\n",
    "$$\n",
    "L = - \\left( y \\log(\\hat{y}) + (1 - y) \\log(1 - \\hat{y}) \\right)\n",
    "$$\n",
    "\n",
    "Since $ y = 0 $, the loss simplifies to:\n",
    "$$\n",
    "L = -\\log(1 - \\hat{y})\n",
    "$$\n",
    "$$\n",
    "L = -\\log(1 - 0.9999997)\n",
    "$$\n",
    "\n",
    "Using logarithms:\n",
    "$$\n",
    "L \\approx -\\log(0.0000003) = 15.01\n",
    "$$\n",
    "\n",
    "**High loss** because the model is very confident in the wrong prediction!"
   ]
  },
  {
   "cell_type": "markdown",
   "id": "f6a82da4",
   "metadata": {},
   "source": [
    "### Step 4: Backpropagation (Gradient Computation)\n",
    "Now, we compute **gradients** step by step.\n",
    "\n",
    "**Compute Gradient of Loss w.r.t. Output Neuron**\n",
    "$$\n",
    "\\frac{\\partial L}{\\partial \\hat{y}} = -\\frac{y}{\\hat{y}} + \\frac{1 - y}{1 - \\hat{y}}\n",
    "$$\n",
    "Since $ y = 0 $:\n",
    "$$\n",
    "\\frac{\\partial L}{\\partial \\hat{y}} = \\frac{1}{1 - 0.9999997}\n",
    "$$\n",
    "$$\n",
    "= \\frac{1}{0.0000003} = 3333333.3\n",
    "$$\n",
    "\n",
    "**Compute Gradient of Output Neuron w.r.t. $ z_{\\text{out}} $**\n",
    "$$\n",
    "\\frac{\\partial \\hat{y}}{\\partial z_{\\text{out}}} = \\hat{y} (1 - \\hat{y}) = 0.9999997 \\times (1 - 0.9999997) = 0.0000003\n",
    "$$\n",
    "\n",
    "**Compute Gradient of Loss w.r.t. $ z_{\\text{out}} $**\n",
    "Using chain rule:\n",
    "$$\n",
    "\\frac{\\partial L}{\\partial z_{\\text{out}}} = \\frac{\\partial L}{\\partial \\hat{y}} \\times \\frac{\\partial \\hat{y}}{\\partial z_{\\text{out}}}\n",
    "$$\n",
    "$$\n",
    "= 3333333.3 \\times 0.0000003 = 1.0\n",
    "$$\n",
    "\n",
    "**Compute Gradients for Output Layer Weights and Bias**\n",
    "$$\n",
    "\\frac{\\partial L}{\\partial w_5} = 1.0 \\times h_1 = 1.0 \\times 5.0 = 5.0\n",
    "$$\n",
    "$$\n",
    "\\frac{\\partial L}{\\partial w_6} = 1.0 \\times h_2 = 1.0 \\times 45.0 = 45.0\n",
    "$$\n",
    "$$\n",
    "\\frac{\\partial L}{\\partial b_3} = 1.0\n",
    "$$\n",
    "\n",
    "**Compute Gradients for Hidden Layer Weights and Biases**\n",
    "Since:\n",
    "$$\n",
    "\\frac{\\partial L}{\\partial h_1} = 1.0 \\times w_5 = -0.47\n",
    "$$\n",
    "$$\n",
    "\\frac{\\partial L}{\\partial h_2} = 1.0 \\times w_6 = 0.44\n",
    "$$\n",
    "\n",
    "We propagate to inputs:\n",
    "$$\n",
    "\\frac{\\partial L}{\\partial w_1} = (-0.47) \\times 20 = -9.4\n",
    "$$\n",
    "$$\n",
    "\\frac{\\partial L}{\\partial w_2} = (-0.47) \\times 100 = -47\n",
    "$$\n",
    "$$\n",
    "\\frac{\\partial L}{\\partial w_3} = (0.44) \\times 20 = 8.8\n",
    "$$\n",
    "$$\n",
    "\\frac{\\partial L}{\\partial w_4} = (0.44) \\times 100 = 44\n",
    "$$\n",
    "$$\n",
    "\\frac{\\partial L}{\\partial b_1} = -0.47, \\quad \\frac{\\partial L}{\\partial b_2} = 0.44\n",
    "$$\n"
   ]
  },
  {
   "cell_type": "markdown",
   "id": "65c3e907",
   "metadata": {},
   "source": [
    "### Step 5: Update Weights (Gradient Descent)\n",
    "Using **learning rate** $ \\eta = 0.01 $:\n",
    "\n",
    "$$\n",
    "w_1 = -1.0 - 0.01(-9.4) = -0.906\n",
    "$$\n",
    "$$\n",
    "w_2 = 0.25 - 0.01(-47) = 0.72\n",
    "$$\n",
    "$$\n",
    "w_3 = -0.5 - 0.01(8.8) = -0.588\n",
    "$$\n",
    "$$\n",
    "w_4 = 0.55 - 0.01(44) = 0.11\n",
    "$$\n",
    "$$\n",
    "w_5 = -0.47 - 0.01(5) = -0.52\n",
    "$$\n",
    "$$\n",
    "w_6 = 0.44 - 0.01(45) = -0.01\n",
    "$$\n",
    "$$\n",
    "b_1 = 0 - 0.01(-0.47) = 0.0047\n",
    "$$\n",
    "$$\n",
    "b_2 = 0 - 0.01(0.44) = -0.0044\n",
    "$$\n",
    "$$\n",
    "b_3 = 0 - 0.01(1.0) = -0.01\n",
    "$$\n"
   ]
  },
  {
   "cell_type": "markdown",
   "id": "d3f9779b",
   "metadata": {},
   "source": [
    "Imagine having to do this for 100s of neurons and 1000s of training data points....\n",
    "\n",
    "Matrix operations make this much more efficient! In Pytorch, we use tensors:"
   ]
  },
  {
   "cell_type": "markdown",
   "id": "be4df584",
   "metadata": {},
   "source": [
    "### What are Tensors?\n",
    "\n",
    "|   |   |\n",
    "|:--|:--|\n",
    "| <img src=\"https://github.com/david-biron/DATA221imgs/blob/main/icon_definition.png?raw=true\" width=\"50\" height=\"\"> | A **tensor** is a generalization of scalars, vectors, and matrices to higher dimensions. In PyTorch, tensors are the fundamental data structure used for computations. |\n",
    "\n",
    "Pytorch tensors are optimized for deep learning, making them essential for efficient computation.\n"
   ]
  },
  {
   "cell_type": "markdown",
   "id": "fbcaa52c",
   "metadata": {},
   "source": [
    "### Brief intro to pytorch tensors \n",
    "\n",
    "At first glance, tensor look like numpy arrays:\n",
    "\n",
    "* $0d$ (scalar), $1d$, $2d$, ...\n",
    "* All elements must be of the **same data type**. \n",
    "* Can be initialized in [all sorts of ways](https://pytorch.org/docs/stable/tensors.html).\n",
    "* By default, created on the CPU (but can be moved to a GPU). "
   ]
  },
  {
   "cell_type": "code",
   "execution_count": 37,
   "id": "db8dea57",
   "metadata": {},
   "outputs": [
    {
     "name": "stdout",
     "output_type": "stream",
     "text": [
      "tensor([0.9132, 0.0553, 0.1486, 0.4359])\n",
      "    Shape:  torch.Size([4])\n",
      "     Type:  torch.float32\n",
      "\n",
      "tensor([[0, 0],\n",
      "        [0, 0]], dtype=torch.int32)\n",
      "    Shape:  torch.Size([2, 2])\n",
      "     Type:  torch.int32\n"
     ]
    }
   ],
   "source": [
    "tensor_1d = torch.rand(4)\n",
    "print(tensor_1d)\n",
    "print('    Shape: ', tensor_1d.shape)\n",
    "print('     Type: ', tensor_1d.dtype)\n",
    "\n",
    "print() \n",
    "\n",
    "tensor_2d = torch.zeros(2,2, dtype=torch.int32)\n",
    "print(tensor_2d)\n",
    "print('    Shape: ', tensor_2d.shape)\n",
    "print('     Type: ', tensor_2d.dtype)\n",
    "\n"
   ]
  },
  {
   "cell_type": "markdown",
   "id": "537ebcc6",
   "metadata": {},
   "source": [
    "* Slicing works similar to arrays\n",
    "\n",
    "#### Note: \n",
    "\n",
    "A $0d$ (or any other) slice of a tensor is still a tensor. \n",
    "\n",
    "To get the element as a, say, float use `.item()`  "
   ]
  },
  {
   "cell_type": "code",
   "execution_count": 38,
   "id": "e061065a",
   "metadata": {},
   "outputs": [
    {
     "name": "stdout",
     "output_type": "stream",
     "text": [
      "First column of t1:  tensor([0.2546, 0.9625])\n",
      "Second row of t1:  tensor([0.9625, 0.4736]) \n",
      "\n",
      "\n",
      "tensor(0.2546) 0.2546488046646118\n",
      "tensor(True)\n",
      "False\n"
     ]
    }
   ],
   "source": [
    "t1 = torch.rand(2,2)\n",
    "t2 = torch.eye(2) # identity tensor \n",
    "\n",
    "print('First column of t1: ', t1[:,0])\n",
    "print('Second row of t1: ', t1[1,:], '\\n\\n')\n",
    "\n",
    "print(t1[0,0] , t1[0,0].item())\n",
    "\n",
    "# BTW, this can be a bit confusing: \n",
    "print(t1[0,0] == t1[0,0].item()) # checks if the values are equal\n",
    "print(t1[0,0] is t1[0,0].item()) # checks if the two point to the\n",
    "                                 # same object! \n",
    "    "
   ]
  },
  {
   "cell_type": "markdown",
   "id": "0f191891",
   "metadata": {},
   "source": [
    "#### Tensors can be converted to numpy arrays. "
   ]
  },
  {
   "cell_type": "code",
   "execution_count": 39,
   "id": "06897455",
   "metadata": {},
   "outputs": [
    {
     "data": {
      "text/plain": [
       "array([[1., 0., 0.],\n",
       "       [0., 1., 0.],\n",
       "       [0., 0., 1.]], dtype=float32)"
      ]
     },
     "execution_count": 39,
     "metadata": {},
     "output_type": "execute_result"
    }
   ],
   "source": [
    "torch.eye(3).numpy()"
   ]
  },
  {
   "cell_type": "markdown",
   "id": "440cb548",
   "metadata": {},
   "source": [
    "* If the tensor is on the CPU, the array converted from the tensor will **share memory**\n",
    "* But they are not the same object - the tensor object is larger, has different functionality, and can store information that the array does not have).  "
   ]
  },
  {
   "cell_type": "code",
   "execution_count": 40,
   "id": "a581997d",
   "metadata": {},
   "outputs": [
    {
     "name": "stdout",
     "output_type": "stream",
     "text": [
      "A numpy array converted from a tensor:\n",
      "[[1. 0.]\n",
      " [0. 1.]] <class 'numpy.ndarray'> \n",
      "\n",
      "Changing the first element of the tensor...\n",
      "... changes the numpy array:\n",
      "tensor([[7., 0.],\n",
      "        [0., 1.]]) \n",
      " [[7. 0.]\n",
      " [0. 1.]] \n",
      "\n",
      "Changing the last element of the numpy array...\n",
      "... changes the tensor:\n",
      "tensor([[7., 0.],\n",
      "        [0., 3.]]) \n",
      " [[7. 0.]\n",
      " [0. 3.]] \n",
      "\n",
      "But are they the same object?\n"
     ]
    },
    {
     "data": {
      "text/plain": [
       "False"
      ]
     },
     "execution_count": 40,
     "metadata": {},
     "output_type": "execute_result"
    }
   ],
   "source": [
    "t2 = torch.eye(2) # identity tensor \n",
    "\n",
    "ndarray = t2.numpy()\n",
    "print('A numpy array converted from a tensor:')\n",
    "print(ndarray, type(ndarray), '\\n')\n",
    "\n",
    "######################################################\n",
    "# Careful!                                           #\n",
    "# If the tensor is on the CPU (rather than GPU)      #\n",
    "# the two objects share the same memory location:    #\n",
    "######################################################\n",
    "\n",
    "print('Changing the first element of the tensor...')\n",
    "t2[0,0] = 7\n",
    "print('... changes the numpy array:')\n",
    "print(t2, '\\n', ndarray, '\\n')\n",
    "\n",
    "print('Changing the last element of the numpy array...')\n",
    "ndarray[1,1] = 3\n",
    "print('... changes the tensor:')\n",
    "print(t2, '\\n', ndarray, '\\n')\n",
    "\n",
    "print('But are they the same object?')\n",
    "t2 is ndarray # but are not the same object...\n"
   ]
  },
  {
   "cell_type": "markdown",
   "id": "84f09862",
   "metadata": {},
   "source": [
    "#### A tensor can keep track of the gradient from optimization steps \n",
    "\n",
    "`requires_grad=True` will create a tensor where gradients are calculated when it is operated on (for optimization purposes) and stored as a [computational graph](https://pytorch.org/blog/computational-graphs-constructed-in-pytorch/) alongside with the tensor values.  \n",
    "\n",
    "This is used for tensors that store **model parameters that need to be optimzed**.  \n",
    "\n",
    "For a tensor with gradients to be **converted** to a numpy array it needs to be `detach`ed from the gradients first. "
   ]
  },
  {
   "cell_type": "code",
   "execution_count": 41,
   "id": "c617f478",
   "metadata": {},
   "outputs": [
    {
     "name": "stdout",
     "output_type": "stream",
     "text": [
      "tensor([[0.5951, 0.3713, 0.6769],\n",
      "        [0.3823, 0.4698, 0.6673],\n",
      "        [0.9802, 0.1590, 0.0536]], requires_grad=True)\n",
      "Can't call numpy() on Tensor that requires grad. Use tensor.detach().numpy() instead.\n"
     ]
    }
   ],
   "source": [
    "parameters_w_grad = torch.rand(3,3, requires_grad=True)\n",
    "print(parameters_w_grad)\n",
    "\n",
    "try:\n",
    "    parameters_w_grad.numpy()\n",
    "except Exception as e:\n",
    "    print(e)"
   ]
  },
  {
   "cell_type": "code",
   "execution_count": 42,
   "id": "26ea37fe",
   "metadata": {},
   "outputs": [
    {
     "name": "stdout",
     "output_type": "stream",
     "text": [
      "[[0.59507513 0.37129515 0.6768956 ]\n",
      " [0.38228202 0.46979177 0.6673128 ]\n",
      " [0.98021597 0.15895307 0.05361605]]\n"
     ]
    }
   ],
   "source": [
    "print(parameters_w_grad.detach().numpy())"
   ]
  },
  {
   "cell_type": "markdown",
   "id": "73d9b6cc",
   "metadata": {},
   "source": [
    "#### Like arrays, tensors can be added (element by element) and multiplied (element by element or matmul)\n",
    "\n"
   ]
  },
  {
   "cell_type": "code",
   "execution_count": 43,
   "id": "301a7781",
   "metadata": {},
   "outputs": [
    {
     "data": {
      "text/plain": [
       "torch.Size([60, 2])"
      ]
     },
     "execution_count": 43,
     "metadata": {},
     "output_type": "execute_result"
    }
   ],
   "source": [
    "t1 = torch.rand(2,3,4,5)\n",
    "t1.view(-1, 2).shape\n",
    "# t2 = torch.rand(5,7)\n",
    "\n",
    "# t1 @ t2"
   ]
  },
  {
   "cell_type": "code",
   "execution_count": 44,
   "id": "1da415c3",
   "metadata": {
    "scrolled": true
   },
   "outputs": [
    {
     "name": "stdout",
     "output_type": "stream",
     "text": [
      "Two tensors:\n",
      "tensor([[0.2241, 0.6714],\n",
      "        [0.5003, 0.4475]]) \n",
      "\n",
      " tensor([[1., 0.],\n",
      "        [0., 1.]]) \n",
      "\n",
      "Addition (element by element):\n",
      " tensor([[1.2241, 0.6714],\n",
      "        [0.5003, 1.4475]]) \n",
      "\n",
      "Multiplication element by element:\n",
      " tensor([[0.2241, 0.0000],\n",
      "        [0.0000, 0.4475]]) \n",
      "\n",
      "Matrix multiplication:\n",
      " tensor([[0.2241, 0.6714],\n",
      "        [0.5003, 0.4475]])\n"
     ]
    }
   ],
   "source": [
    "t1 = torch.rand(2,2)\n",
    "t2 = torch.eye(2) # identity tensor \n",
    "\n",
    "print('Two tensors:')\n",
    "print(t1, '\\n\\n', t2, '\\n')\n",
    "print('Addition (element by element):\\n', t1+t2, '\\n')\n",
    "print('Multiplication element by element:\\n', t1*t2, '\\n')\n",
    "print('Matrix multiplication:\\n', t1@t2 )\n"
   ]
  },
  {
   "cell_type": "markdown",
   "id": "cc8c719b",
   "metadata": {},
   "source": [
    "#### Reshaping tensors with [`view()`](https://pytorch.org/docs/stable/generated/torch.Tensor.view.html)\n",
    "\n",
    "If it appears, `-1` dimension is inferred from the other dimnensions of the tensor. "
   ]
  },
  {
   "cell_type": "code",
   "execution_count": 45,
   "id": "89bdd5eb",
   "metadata": {},
   "outputs": [
    {
     "name": "stdout",
     "output_type": "stream",
     "text": [
      "A 2x2 tensor flattened to a 1d row with 4 elements:\n",
      "tensor([8., 7., 7., 8.]) torch.Size([4]) \n",
      "\n",
      "A 2x2 tensor reshaped to a 4x1 tensor - #rows inferred:\n",
      "tensor([[8.],\n",
      "        [7.],\n",
      "        [7.],\n",
      "        [8.]]) torch.Size([4, 1]) \n",
      "\n",
      "A 2x2 tensor reshaped to a 1x4 tensor - #columns inferred:\n",
      "tensor([[8., 7., 7., 8.]]) torch.Size([1, 4]) \n",
      "\n",
      "A 2x2 tensor flattened to a 1d row - #columns inferred:\n",
      "tensor([8., 7., 7., 8.]) torch.Size([4]) \n",
      "\n"
     ]
    }
   ],
   "source": [
    "t2 = torch.eye(2)+7 # identity tensor \n",
    "\n",
    "print('A 2x2 tensor flattened to a 1d row with 4 elements:')\n",
    "print(t2.view(4),\n",
    "      t2.view(4).shape, '\\n') # four elements in a row\n",
    "\n",
    "print('A 2x2 tensor reshaped to a 4x1 tensor - #rows inferred:')\n",
    "print(t2.view(-1,1),\n",
    "      t2.view(-1,1).shape, '\\n') # One column, infer number of rows\n",
    "\n",
    "print('A 2x2 tensor reshaped to a 1x4 tensor - #columns inferred:')\n",
    "print(t2.view(1,-1),\n",
    "      t2.view(1,-1).shape, '\\n') # On row, infer number of columns\n",
    "\n",
    "print('A 2x2 tensor flattened to a 1d row - #columns inferred:')\n",
    "print(t2.view(-1),\n",
    "      t2.view(-1).shape, '\\n') # inferred number of elements in a row\n"
   ]
  },
  {
   "cell_type": "markdown",
   "id": "6225307a",
   "metadata": {},
   "source": [
    "#### Moving tensor to a GPU \n",
    "\n",
    "On some M1, M2, and M3 Macbooks, the MPS frameworks supports working with GPU.   \n",
    "\n",
    "In that case, device='mps'. "
   ]
  },
  {
   "cell_type": "code",
   "execution_count": 46,
   "id": "d495bb05",
   "metadata": {},
   "outputs": [
    {
     "name": "stdout",
     "output_type": "stream",
     "text": [
      "cuda\n"
     ]
    }
   ],
   "source": [
    "if torch.cuda.is_available(): \n",
    "    device = 'cuda'\n",
    "else: \n",
    "    device = 'cpu'\n",
    "    \n",
    "print(device) \n",
    "    \n",
    "t1 = torch.rand(2,2)\n",
    "t1.to(device) # Move to GPU if available   \n",
    "# OR \n",
    "t1 = torch.rand(2,2, device=device) # Create on GPU if available\n",
    "\n"
   ]
  },
  {
   "cell_type": "markdown",
   "id": "07a88eca",
   "metadata": {},
   "source": [
    "(An Aside on GPUs)\n",
    "\n",
    "### Why do we need GPUs?\n",
    "\n",
    "|   |   |\n",
    "|:--|:--|\n",
    "| <img src=\"https://github.com/david-biron/DATA221imgs/blob/main/icon_definition.png?raw=true\" width=\"50\" height=\"\"> | A **Graphics Processing Unit (GPU)** is a specialized processor designed for parallel computation.\n",
    "Unlike CPUs, which handle a few tasks at high speed, GPUs can perform thousands of operations simultaneously. |\n",
    "\n",
    "\n",
    "\n",
    "- CPUs are designed for tasks that require a lot of logical thinking and quick switching between different tasks (e.g., running programs, browsing the web, or managing files).\n",
    "\n",
    "- GPUs are designed for tasks that require performing the same type of calculation over and over again on lots of data at once (e.g., rendering images in video games or processing large amounts of numbers in machine learning).\n",
    "\n",
    "### Why Move a Tensor to a GPU?\n",
    "\n",
    "- Massive Parallelization: Deep learning models require matrix operations on large datasets. GPUs can handle these operations in parallel, making them significantly faster.\n",
    "\n",
    "- Optimized Hardware: GPUs have thousands of cores optimized for vector and matrix calculations, essential for deep learning.\n",
    "\n",
    "- Training Efficiency: A CPU might take hours or days for complex models, while a GPU can reduce this time significantly.\n"
   ]
  },
  {
   "cell_type": "markdown",
   "id": "9c17eb30",
   "metadata": {},
   "source": [
    "#### All Computers Have a CPU\n",
    "- Desktops, laptops, smartphones, ...\n",
    "- The \"brain\" of the computer\n",
    "- Handles everyday tasks (running programs, browsing the web, managing files,...)\n",
    "\n",
    "#### Not All Computers Have a Powerful GPU\n",
    "- Most computers have some form of GPU, but not all of them have a powerful, dedicated GPU\n",
    "    - Integrated GPUs (Basic Graphics)\n",
    "        - Found in most laptops, budget desktops, and even smartphones.\n",
    "        - Built inside the CPU and shares memory (RAM) with the rest of the system.\n",
    "        - Good enough for watching videos, basic gaming, and displaying images.\n",
    "    - Dedicated GPUs (Powerful Graphics)\n",
    "        - Separate physical hardware with its own memory (VRAM).\n",
    "        - Designed for heavy workloads like gaming, video editing, and deep learning.\n",
    "        - Found in gaming PCs, workstations, and high-end laptops.\n",
    "\n",
    "#### Do You Need a Dedicated GPU for PyTorch?\n",
    "\n",
    "No, PyTorch can run on a CPU, but it will be much slower for deep learning.\n",
    "\n",
    "If you're working with big neural networks (like image recognition or natural language processing), a dedicated GPU (like an NVIDIA GPU with CUDA support) will significantly speed up training.\n",
    "\n",
    "If your computer only has an integrated GPU, it likely won’t provide much speed-up for deep learning.\n",
    "\n",
    "(Ok, now back to Pytorch)\n",
    "\n",
    "#### How to know if you have a dedicated GPU?\n",
    "\n",
    "You can ask Pytorch!\n",
    "\n",
    "Run the code below:\n",
    "- If it prints True and shows a GPU name (like \"NVIDIA GeForce RTX 3060\"), you have a dedicated GPU.\n",
    "- If it prints False, your computer doesn’t have a usable GPU for PyTorch."
   ]
  },
  {
   "cell_type": "code",
   "execution_count": 47,
   "id": "2bf69a89",
   "metadata": {},
   "outputs": [
    {
     "name": "stdout",
     "output_type": "stream",
     "text": [
      "True\n",
      "1\n",
      "NVIDIA GeForce GTX 1050 Ti with Max-Q Design\n"
     ]
    }
   ],
   "source": [
    "print(torch.cuda.is_available())  # Returns True if a GPU is available\n",
    "print(torch.cuda.device_count())  # Number of GPUs detected\n",
    "print(torch.cuda.get_device_name(0))  # Name of the first GPU"
   ]
  },
  {
   "cell_type": "markdown",
   "id": "2bda1b00",
   "metadata": {},
   "source": [
    "### Brief intro to pytorch `autograd`\n",
    "\n",
    "* Calculating gradients of loss functions using the chain rule is necessary for figuring out the contribution of the parameters to errors. \n",
    "\n",
    "$\\rightarrow$ Optimizing model parameters (typically) requires calculating gradients of loss functions using the chain rule.  \n",
    "\n",
    "* The `autograd` module performs these calculations and makes the results available to the optimizer by constructing a [computational graph](https://pytorch.org/blog/computational-graphs-constructed-in-pytorch/). \n",
    "\n",
    "* The calculations are performed 'under the hood' - they do not have to be implemented explicitly for every model. \n",
    "\n",
    "#### Simple example\n",
    "\n",
    "All operations on the tensor `x` will be tracked on an operational graph. \n"
   ]
  },
  {
   "cell_type": "code",
   "execution_count": 48,
   "id": "54690fd0",
   "metadata": {},
   "outputs": [
    {
     "name": "stdout",
     "output_type": "stream",
     "text": [
      "x: tensor([0.5000, 0.5000, 0.5000, 0.5000], requires_grad=True)\n",
      "x.grad:  None\n",
      "\n",
      "First forward pass with three operations\n",
      "    Note that the operations result in a scalar:\n",
      "\n",
      "f(x) = x**2: tensor([0.2500, 0.2500, 0.2500, 0.2500], grad_fn=<PowBackward0>)\n",
      "f(x).grad_fn:  <PowBackward0 object at 0x7f064f7d0610>\n",
      "x.grad:  None\n",
      "\n",
      "g(x) = 4*[f(x)]: tensor([1., 1., 1., 1.], grad_fn=<MulBackward0>)\n",
      "g(x).grad_fn:  <MulBackward0 object at 0x7f0651c30ee0>\n",
      "x.grad:  None\n",
      "\n",
      "h(x) = g(x).g(x): tensor(4., grad_fn=<DotBackward0>)\n",
      "<DotBackward0 object at 0x7f0651c30ee0>\n",
      "x.grad:  None\n",
      "\n",
      "\n",
      " Performing the first backward pass\n",
      "x.grad = dh/dx:  tensor([8., 8., 8., 8.])\n",
      "(the first computational graph was released.)\n",
      "\n",
      "\n",
      "Second forward pass with the same three operations:\n",
      "\n",
      "f(x) = x**2: tensor([0.2500, 0.2500, 0.2500, 0.2500], grad_fn=<PowBackward0>)\n",
      "x.grad:  tensor([8., 8., 8., 8.])\n",
      "\n",
      "g(x) = 4*[f(x)]: tensor([1., 1., 1., 1.], grad_fn=<MulBackward0>)\n",
      "x.grad:  tensor([8., 8., 8., 8.])\n",
      "\n",
      "h(x) = g(x).g(x): tensor(4., grad_fn=<DotBackward0>)\n",
      "x.grad:  tensor([8., 8., 8., 8.])\n",
      "\n",
      "\n",
      " Performing the second backward pass\n",
      "Accumulated x.grad = dh/dx:  tensor([16., 16., 16., 16.])\n",
      "(the second computational graph was released.)\n",
      "\n",
      "\n"
     ]
    }
   ],
   "source": [
    "x = torch.tensor([1/2, 1/2, 1/2, 1/2], requires_grad=True)\n",
    "print('x:', x) \n",
    "print('x.grad: ', x.grad)\n",
    "print()\n",
    "\n",
    "print('First forward pass with three operations')\n",
    "print('    Note that the operations result in a scalar:\\n')\n",
    "f_of_x = x**2\n",
    "print('f(x) = x**2:', f_of_x) \n",
    "print('f(x).grad_fn: ', f_of_x.grad_fn) # 'Pow' stands for \n",
    "                                        # power operation\n",
    "print('x.grad: ', x.grad)\n",
    "print()\n",
    "\n",
    "g_of_x = 4*f_of_x\n",
    "print('g(x) = 4*[f(x)]:', g_of_x) \n",
    "print('g(x).grad_fn: ', g_of_x.grad_fn) # 'Mul' stands for \n",
    "                                        # multiplication operation\n",
    "print('x.grad: ', x.grad)\n",
    "print()\n",
    "\n",
    "h_of_x = g_of_x @ g_of_x\n",
    "print('h(x) = g(x).g(x):', h_of_x) \n",
    "print(h_of_x.grad_fn) # 'Dot' stands for dot product operation\n",
    "print('x.grad: ', x.grad)\n",
    "print()\n",
    "\n",
    "print('\\n Performing the first backward pass')\n",
    "h_of_x.backward() # By default, the previous computational  \n",
    "                  # graph is released\n",
    "print('x.grad = dh/dx: ', x.grad) # These values can inform an \n",
    "                                  # optimizer how to adjust x. \n",
    "                                  # Of course, typically the gradient\n",
    "                                  # is calculated for a loss function \n",
    "                                  # and not for arbitrary operations. \n",
    "print('(the first computational graph was released.)\\n\\n')\n",
    "\n",
    "print('Second forward pass with the same three operations:\\n')\n",
    "f_of_x = x**2\n",
    "print('f(x) = x**2:', f_of_x) \n",
    "print('x.grad: ', x.grad)\n",
    "print()\n",
    "\n",
    "g_of_x = 4*f_of_x\n",
    "print('g(x) = 4*[f(x)]:', g_of_x) \n",
    "print('x.grad: ', x.grad)\n",
    "print()\n",
    "\n",
    "h_of_x = g_of_x @ g_of_x\n",
    "print('h(x) = g(x).g(x):', h_of_x) \n",
    "print('x.grad: ', x.grad)\n",
    "print()\n",
    "\n",
    "##################################################\n",
    "# The .backward() method calculates the gradient #\n",
    "##################################################\n",
    "\n",
    "print('\\n Performing the second backward pass')\n",
    "h_of_x.backward() # Calculate the gradient\n",
    "print('Accumulated x.grad = dh/dx: ', x.grad) # By default, the dh/dx \n",
    "                                              # are accumulated!\n",
    "print('(the second computational graph was released.)\\n\\n')\n"
   ]
  },
  {
   "cell_type": "markdown",
   "id": "0a5186b9",
   "metadata": {},
   "source": [
    "#### Why is all this information computed and stored? \n",
    "\n",
    "Well...\n",
    "\n",
    "Just in case:\n",
    "* The tensor in question holds model parameters (**weights**). \n",
    "* The operations performed on the tensor calculated a **loss function**. \n",
    "    \n",
    "In that case, parameters will need to be gradually improved (**optimized**) and the gradients come in handy (GD).   \n",
    "\n"
   ]
  },
  {
   "cell_type": "markdown",
   "id": "deb42185",
   "metadata": {},
   "source": [
    "### Example: linear regression with the Galton dataset\n",
    "\n",
    "The Galton dataset contains information on $\\sim 1000$ individuals that include their hights and their parents' heights. \n"
   ]
  },
  {
   "cell_type": "code",
   "execution_count": 49,
   "id": "6afc7170",
   "metadata": {},
   "outputs": [
    {
     "ename": "FileNotFoundError",
     "evalue": "[Errno 2] No such file or directory: '../Data/galton.csv'",
     "output_type": "error",
     "traceback": [
      "\u001b[0;31m---------------------------------------------------------------------------\u001b[0m",
      "\u001b[0;31mFileNotFoundError\u001b[0m                         Traceback (most recent call last)",
      "Cell \u001b[0;32mIn[49], line 1\u001b[0m\n\u001b[0;32m----> 1\u001b[0m galton \u001b[38;5;241m=\u001b[39m \u001b[43mpd\u001b[49m\u001b[38;5;241;43m.\u001b[39;49m\u001b[43mread_csv\u001b[49m\u001b[43m(\u001b[49m\u001b[38;5;124;43m'\u001b[39;49m\u001b[38;5;124;43m../Data/galton.csv\u001b[39;49m\u001b[38;5;124;43m'\u001b[39;49m\u001b[43m)\u001b[49m\n\u001b[1;32m      2\u001b[0m \u001b[38;5;28mprint\u001b[39m(\u001b[38;5;124m'\u001b[39m\u001b[38;5;124mNo. of records is: \u001b[39m\u001b[38;5;132;01m%d\u001b[39;00m\u001b[38;5;124m'\u001b[39m\u001b[38;5;241m%\u001b[39m\u001b[38;5;28mlen\u001b[39m(galton))\n\u001b[1;32m      3\u001b[0m galton\u001b[38;5;241m.\u001b[39mdropna(inplace\u001b[38;5;241m=\u001b[39m\u001b[38;5;28;01mTrue\u001b[39;00m)\n",
      "File \u001b[0;32m~/code/data221/env/lib/python3.12/site-packages/pandas/io/parsers/readers.py:1026\u001b[0m, in \u001b[0;36mread_csv\u001b[0;34m(filepath_or_buffer, sep, delimiter, header, names, index_col, usecols, dtype, engine, converters, true_values, false_values, skipinitialspace, skiprows, skipfooter, nrows, na_values, keep_default_na, na_filter, verbose, skip_blank_lines, parse_dates, infer_datetime_format, keep_date_col, date_parser, date_format, dayfirst, cache_dates, iterator, chunksize, compression, thousands, decimal, lineterminator, quotechar, quoting, doublequote, escapechar, comment, encoding, encoding_errors, dialect, on_bad_lines, delim_whitespace, low_memory, memory_map, float_precision, storage_options, dtype_backend)\u001b[0m\n\u001b[1;32m   1013\u001b[0m kwds_defaults \u001b[38;5;241m=\u001b[39m _refine_defaults_read(\n\u001b[1;32m   1014\u001b[0m     dialect,\n\u001b[1;32m   1015\u001b[0m     delimiter,\n\u001b[0;32m   (...)\u001b[0m\n\u001b[1;32m   1022\u001b[0m     dtype_backend\u001b[38;5;241m=\u001b[39mdtype_backend,\n\u001b[1;32m   1023\u001b[0m )\n\u001b[1;32m   1024\u001b[0m kwds\u001b[38;5;241m.\u001b[39mupdate(kwds_defaults)\n\u001b[0;32m-> 1026\u001b[0m \u001b[38;5;28;01mreturn\u001b[39;00m \u001b[43m_read\u001b[49m\u001b[43m(\u001b[49m\u001b[43mfilepath_or_buffer\u001b[49m\u001b[43m,\u001b[49m\u001b[43m \u001b[49m\u001b[43mkwds\u001b[49m\u001b[43m)\u001b[49m\n",
      "File \u001b[0;32m~/code/data221/env/lib/python3.12/site-packages/pandas/io/parsers/readers.py:620\u001b[0m, in \u001b[0;36m_read\u001b[0;34m(filepath_or_buffer, kwds)\u001b[0m\n\u001b[1;32m    617\u001b[0m _validate_names(kwds\u001b[38;5;241m.\u001b[39mget(\u001b[38;5;124m\"\u001b[39m\u001b[38;5;124mnames\u001b[39m\u001b[38;5;124m\"\u001b[39m, \u001b[38;5;28;01mNone\u001b[39;00m))\n\u001b[1;32m    619\u001b[0m \u001b[38;5;66;03m# Create the parser.\u001b[39;00m\n\u001b[0;32m--> 620\u001b[0m parser \u001b[38;5;241m=\u001b[39m \u001b[43mTextFileReader\u001b[49m\u001b[43m(\u001b[49m\u001b[43mfilepath_or_buffer\u001b[49m\u001b[43m,\u001b[49m\u001b[43m \u001b[49m\u001b[38;5;241;43m*\u001b[39;49m\u001b[38;5;241;43m*\u001b[39;49m\u001b[43mkwds\u001b[49m\u001b[43m)\u001b[49m\n\u001b[1;32m    622\u001b[0m \u001b[38;5;28;01mif\u001b[39;00m chunksize \u001b[38;5;129;01mor\u001b[39;00m iterator:\n\u001b[1;32m    623\u001b[0m     \u001b[38;5;28;01mreturn\u001b[39;00m parser\n",
      "File \u001b[0;32m~/code/data221/env/lib/python3.12/site-packages/pandas/io/parsers/readers.py:1620\u001b[0m, in \u001b[0;36mTextFileReader.__init__\u001b[0;34m(self, f, engine, **kwds)\u001b[0m\n\u001b[1;32m   1617\u001b[0m     \u001b[38;5;28mself\u001b[39m\u001b[38;5;241m.\u001b[39moptions[\u001b[38;5;124m\"\u001b[39m\u001b[38;5;124mhas_index_names\u001b[39m\u001b[38;5;124m\"\u001b[39m] \u001b[38;5;241m=\u001b[39m kwds[\u001b[38;5;124m\"\u001b[39m\u001b[38;5;124mhas_index_names\u001b[39m\u001b[38;5;124m\"\u001b[39m]\n\u001b[1;32m   1619\u001b[0m \u001b[38;5;28mself\u001b[39m\u001b[38;5;241m.\u001b[39mhandles: IOHandles \u001b[38;5;241m|\u001b[39m \u001b[38;5;28;01mNone\u001b[39;00m \u001b[38;5;241m=\u001b[39m \u001b[38;5;28;01mNone\u001b[39;00m\n\u001b[0;32m-> 1620\u001b[0m \u001b[38;5;28mself\u001b[39m\u001b[38;5;241m.\u001b[39m_engine \u001b[38;5;241m=\u001b[39m \u001b[38;5;28;43mself\u001b[39;49m\u001b[38;5;241;43m.\u001b[39;49m\u001b[43m_make_engine\u001b[49m\u001b[43m(\u001b[49m\u001b[43mf\u001b[49m\u001b[43m,\u001b[49m\u001b[43m \u001b[49m\u001b[38;5;28;43mself\u001b[39;49m\u001b[38;5;241;43m.\u001b[39;49m\u001b[43mengine\u001b[49m\u001b[43m)\u001b[49m\n",
      "File \u001b[0;32m~/code/data221/env/lib/python3.12/site-packages/pandas/io/parsers/readers.py:1880\u001b[0m, in \u001b[0;36mTextFileReader._make_engine\u001b[0;34m(self, f, engine)\u001b[0m\n\u001b[1;32m   1878\u001b[0m     \u001b[38;5;28;01mif\u001b[39;00m \u001b[38;5;124m\"\u001b[39m\u001b[38;5;124mb\u001b[39m\u001b[38;5;124m\"\u001b[39m \u001b[38;5;129;01mnot\u001b[39;00m \u001b[38;5;129;01min\u001b[39;00m mode:\n\u001b[1;32m   1879\u001b[0m         mode \u001b[38;5;241m+\u001b[39m\u001b[38;5;241m=\u001b[39m \u001b[38;5;124m\"\u001b[39m\u001b[38;5;124mb\u001b[39m\u001b[38;5;124m\"\u001b[39m\n\u001b[0;32m-> 1880\u001b[0m \u001b[38;5;28mself\u001b[39m\u001b[38;5;241m.\u001b[39mhandles \u001b[38;5;241m=\u001b[39m \u001b[43mget_handle\u001b[49m\u001b[43m(\u001b[49m\n\u001b[1;32m   1881\u001b[0m \u001b[43m    \u001b[49m\u001b[43mf\u001b[49m\u001b[43m,\u001b[49m\n\u001b[1;32m   1882\u001b[0m \u001b[43m    \u001b[49m\u001b[43mmode\u001b[49m\u001b[43m,\u001b[49m\n\u001b[1;32m   1883\u001b[0m \u001b[43m    \u001b[49m\u001b[43mencoding\u001b[49m\u001b[38;5;241;43m=\u001b[39;49m\u001b[38;5;28;43mself\u001b[39;49m\u001b[38;5;241;43m.\u001b[39;49m\u001b[43moptions\u001b[49m\u001b[38;5;241;43m.\u001b[39;49m\u001b[43mget\u001b[49m\u001b[43m(\u001b[49m\u001b[38;5;124;43m\"\u001b[39;49m\u001b[38;5;124;43mencoding\u001b[39;49m\u001b[38;5;124;43m\"\u001b[39;49m\u001b[43m,\u001b[49m\u001b[43m \u001b[49m\u001b[38;5;28;43;01mNone\u001b[39;49;00m\u001b[43m)\u001b[49m\u001b[43m,\u001b[49m\n\u001b[1;32m   1884\u001b[0m \u001b[43m    \u001b[49m\u001b[43mcompression\u001b[49m\u001b[38;5;241;43m=\u001b[39;49m\u001b[38;5;28;43mself\u001b[39;49m\u001b[38;5;241;43m.\u001b[39;49m\u001b[43moptions\u001b[49m\u001b[38;5;241;43m.\u001b[39;49m\u001b[43mget\u001b[49m\u001b[43m(\u001b[49m\u001b[38;5;124;43m\"\u001b[39;49m\u001b[38;5;124;43mcompression\u001b[39;49m\u001b[38;5;124;43m\"\u001b[39;49m\u001b[43m,\u001b[49m\u001b[43m \u001b[49m\u001b[38;5;28;43;01mNone\u001b[39;49;00m\u001b[43m)\u001b[49m\u001b[43m,\u001b[49m\n\u001b[1;32m   1885\u001b[0m \u001b[43m    \u001b[49m\u001b[43mmemory_map\u001b[49m\u001b[38;5;241;43m=\u001b[39;49m\u001b[38;5;28;43mself\u001b[39;49m\u001b[38;5;241;43m.\u001b[39;49m\u001b[43moptions\u001b[49m\u001b[38;5;241;43m.\u001b[39;49m\u001b[43mget\u001b[49m\u001b[43m(\u001b[49m\u001b[38;5;124;43m\"\u001b[39;49m\u001b[38;5;124;43mmemory_map\u001b[39;49m\u001b[38;5;124;43m\"\u001b[39;49m\u001b[43m,\u001b[49m\u001b[43m \u001b[49m\u001b[38;5;28;43;01mFalse\u001b[39;49;00m\u001b[43m)\u001b[49m\u001b[43m,\u001b[49m\n\u001b[1;32m   1886\u001b[0m \u001b[43m    \u001b[49m\u001b[43mis_text\u001b[49m\u001b[38;5;241;43m=\u001b[39;49m\u001b[43mis_text\u001b[49m\u001b[43m,\u001b[49m\n\u001b[1;32m   1887\u001b[0m \u001b[43m    \u001b[49m\u001b[43merrors\u001b[49m\u001b[38;5;241;43m=\u001b[39;49m\u001b[38;5;28;43mself\u001b[39;49m\u001b[38;5;241;43m.\u001b[39;49m\u001b[43moptions\u001b[49m\u001b[38;5;241;43m.\u001b[39;49m\u001b[43mget\u001b[49m\u001b[43m(\u001b[49m\u001b[38;5;124;43m\"\u001b[39;49m\u001b[38;5;124;43mencoding_errors\u001b[39;49m\u001b[38;5;124;43m\"\u001b[39;49m\u001b[43m,\u001b[49m\u001b[43m \u001b[49m\u001b[38;5;124;43m\"\u001b[39;49m\u001b[38;5;124;43mstrict\u001b[39;49m\u001b[38;5;124;43m\"\u001b[39;49m\u001b[43m)\u001b[49m\u001b[43m,\u001b[49m\n\u001b[1;32m   1888\u001b[0m \u001b[43m    \u001b[49m\u001b[43mstorage_options\u001b[49m\u001b[38;5;241;43m=\u001b[39;49m\u001b[38;5;28;43mself\u001b[39;49m\u001b[38;5;241;43m.\u001b[39;49m\u001b[43moptions\u001b[49m\u001b[38;5;241;43m.\u001b[39;49m\u001b[43mget\u001b[49m\u001b[43m(\u001b[49m\u001b[38;5;124;43m\"\u001b[39;49m\u001b[38;5;124;43mstorage_options\u001b[39;49m\u001b[38;5;124;43m\"\u001b[39;49m\u001b[43m,\u001b[49m\u001b[43m \u001b[49m\u001b[38;5;28;43;01mNone\u001b[39;49;00m\u001b[43m)\u001b[49m\u001b[43m,\u001b[49m\n\u001b[1;32m   1889\u001b[0m \u001b[43m\u001b[49m\u001b[43m)\u001b[49m\n\u001b[1;32m   1890\u001b[0m \u001b[38;5;28;01massert\u001b[39;00m \u001b[38;5;28mself\u001b[39m\u001b[38;5;241m.\u001b[39mhandles \u001b[38;5;129;01mis\u001b[39;00m \u001b[38;5;129;01mnot\u001b[39;00m \u001b[38;5;28;01mNone\u001b[39;00m\n\u001b[1;32m   1891\u001b[0m f \u001b[38;5;241m=\u001b[39m \u001b[38;5;28mself\u001b[39m\u001b[38;5;241m.\u001b[39mhandles\u001b[38;5;241m.\u001b[39mhandle\n",
      "File \u001b[0;32m~/code/data221/env/lib/python3.12/site-packages/pandas/io/common.py:873\u001b[0m, in \u001b[0;36mget_handle\u001b[0;34m(path_or_buf, mode, encoding, compression, memory_map, is_text, errors, storage_options)\u001b[0m\n\u001b[1;32m    868\u001b[0m \u001b[38;5;28;01melif\u001b[39;00m \u001b[38;5;28misinstance\u001b[39m(handle, \u001b[38;5;28mstr\u001b[39m):\n\u001b[1;32m    869\u001b[0m     \u001b[38;5;66;03m# Check whether the filename is to be opened in binary mode.\u001b[39;00m\n\u001b[1;32m    870\u001b[0m     \u001b[38;5;66;03m# Binary mode does not support 'encoding' and 'newline'.\u001b[39;00m\n\u001b[1;32m    871\u001b[0m     \u001b[38;5;28;01mif\u001b[39;00m ioargs\u001b[38;5;241m.\u001b[39mencoding \u001b[38;5;129;01mand\u001b[39;00m \u001b[38;5;124m\"\u001b[39m\u001b[38;5;124mb\u001b[39m\u001b[38;5;124m\"\u001b[39m \u001b[38;5;129;01mnot\u001b[39;00m \u001b[38;5;129;01min\u001b[39;00m ioargs\u001b[38;5;241m.\u001b[39mmode:\n\u001b[1;32m    872\u001b[0m         \u001b[38;5;66;03m# Encoding\u001b[39;00m\n\u001b[0;32m--> 873\u001b[0m         handle \u001b[38;5;241m=\u001b[39m \u001b[38;5;28;43mopen\u001b[39;49m\u001b[43m(\u001b[49m\n\u001b[1;32m    874\u001b[0m \u001b[43m            \u001b[49m\u001b[43mhandle\u001b[49m\u001b[43m,\u001b[49m\n\u001b[1;32m    875\u001b[0m \u001b[43m            \u001b[49m\u001b[43mioargs\u001b[49m\u001b[38;5;241;43m.\u001b[39;49m\u001b[43mmode\u001b[49m\u001b[43m,\u001b[49m\n\u001b[1;32m    876\u001b[0m \u001b[43m            \u001b[49m\u001b[43mencoding\u001b[49m\u001b[38;5;241;43m=\u001b[39;49m\u001b[43mioargs\u001b[49m\u001b[38;5;241;43m.\u001b[39;49m\u001b[43mencoding\u001b[49m\u001b[43m,\u001b[49m\n\u001b[1;32m    877\u001b[0m \u001b[43m            \u001b[49m\u001b[43merrors\u001b[49m\u001b[38;5;241;43m=\u001b[39;49m\u001b[43merrors\u001b[49m\u001b[43m,\u001b[49m\n\u001b[1;32m    878\u001b[0m \u001b[43m            \u001b[49m\u001b[43mnewline\u001b[49m\u001b[38;5;241;43m=\u001b[39;49m\u001b[38;5;124;43m\"\u001b[39;49m\u001b[38;5;124;43m\"\u001b[39;49m\u001b[43m,\u001b[49m\n\u001b[1;32m    879\u001b[0m \u001b[43m        \u001b[49m\u001b[43m)\u001b[49m\n\u001b[1;32m    880\u001b[0m     \u001b[38;5;28;01melse\u001b[39;00m:\n\u001b[1;32m    881\u001b[0m         \u001b[38;5;66;03m# Binary mode\u001b[39;00m\n\u001b[1;32m    882\u001b[0m         handle \u001b[38;5;241m=\u001b[39m \u001b[38;5;28mopen\u001b[39m(handle, ioargs\u001b[38;5;241m.\u001b[39mmode)\n",
      "\u001b[0;31mFileNotFoundError\u001b[0m: [Errno 2] No such file or directory: '../Data/galton.csv'"
     ]
    }
   ],
   "source": [
    "galton = pd.read_csv('../Data/galton.csv')\n",
    "print('No. of records is: %d'%len(galton))\n",
    "galton.dropna(inplace=True)\n",
    "print('No. of records after dropping missing data is: %d'%len(galton))\n",
    "galton.head()\n"
   ]
  },
  {
   "cell_type": "markdown",
   "id": "7c859be4",
   "metadata": {},
   "source": [
    "#### The linear regression model: \n",
    "\n",
    "$$\n",
    "\n",
    "\\text{ Child Height } = \\beta_1 \\times \\text{ Mid Parents Height }\n",
    "\n",
    "$$\n",
    "\n",
    "<br> \n",
    "\n",
    "* On predictor\n",
    "* One weight/parameter \n",
    "* No intercept/bias"
   ]
  },
  {
   "cell_type": "code",
   "execution_count": null,
   "id": "a67fae9f",
   "metadata": {},
   "outputs": [
    {
     "name": "stdout",
     "output_type": "stream",
     "text": [
      "Before training:\n",
      "    Linear coef = 0.05\n",
      "    Parent height=74.00 , predicted child height=3.94\n",
      "\n",
      "\n",
      "After training:\n",
      "    Linear coef = 0.96\n",
      "    Parent height=74.00 , predicted child height=70.92\n",
      "\n",
      "\n",
      "On average, parents in the dataset were\n",
      "taller than their children by 2.46\"\n"
     ]
    },
    {
     "data": {
      "image/png": "[encoded data removed]",
      "text/plain": [
       "<Figure size 640x480 with 1 Axes>"
      ]
     },
     "metadata": {},
     "output_type": "display_data"
    }
   ],
   "source": [
    "x = torch.tensor([galton.midparentHeight])\n",
    "y = torch.tensor(galton.childHeight)\n",
    "\n",
    "w = torch.rand(1, requires_grad=True) # single weight/parameter\n",
    "\n",
    "def forward(x):\n",
    "    return w*x # Introducing a bias would require a 'data row' of 1s. \n",
    "               # For simplicity, our model will assume 0 bias. \n",
    "\n",
    "def MSE(y, y_hat): \n",
    "    return ((y-y_hat)**2).mean()\n",
    "\n",
    "parentsHeightTest = 74.00\n",
    "\n",
    "y_hat = forward(parentsHeightTest)\n",
    "print('Before training:')\n",
    "print('    Linear coef = %.2f'%(w.item()))\n",
    "print('    Parent height=%.2f , predicted child height=%.2f\\n\\n'%\\\n",
    "      (parentsHeightTest, y_hat))\n",
    "\n",
    "#############################################################\n",
    "learning_rate = 1e-5 # (try 1e-3 to see what might happen...)\n",
    "n_epochs = 50 \n",
    "#############################################################\n",
    "\n",
    "losses = []\n",
    "for epoch in range(n_epochs):\n",
    "\n",
    "    y_hat = forward(x)   # forward pass -> current prediction\n",
    "    loss = MSE(y, y_hat) # calculate loss\n",
    "    losses.append(loss.item())\n",
    "    loss.backward()      # backward pass -> calculate gradient\n",
    "    \n",
    "    with torch.no_grad():  \n",
    "        w -= learning_rate * w.grad # update weight using \n",
    "                                    # gradient descent\n",
    "     \n",
    "    w.grad.zero_() # avoid accumulating these grads into next epoch\n",
    "    \n",
    "plt.scatter(range(n_epochs), losses)\n",
    "\n",
    "y_hat = forward(parentsHeightTest)    \n",
    "print('After training:')\n",
    "print('    Linear coef = %.2f'%(w.item()))\n",
    "print('    Parent height=%.2f , predicted child height=%.2f\\n\\n'%\\\n",
    "      (parentsHeightTest, y_hat))\n",
    "\n",
    "deltaHeight = (galton.midparentHeight - galton.childHeight).mean()\n",
    "print('On average, parents in the dataset were')\n",
    "print('taller than their children by %.2f\"'%deltaHeight)\n"
   ]
  },
  {
   "cell_type": "markdown",
   "id": "e700627a",
   "metadata": {},
   "source": [
    "### Same example using a built-in loss function and an optimizer\n",
    "\n",
    "####  Design the model\n",
    "* Inherit from `torch.nn` basic methods and attributes for Neural Network models \n",
    "* Input shape (`torch.nn` models expect features in columns and samples in rows, like a DataFrame)\n",
    "* Forward pass \n",
    "* Output shape\n",
    "\n",
    "#### Choose the loss function \n",
    "* Here - built in MSE instead of our implementaiton\n",
    "\n",
    "#### Choose the optimizer\n",
    "* Here - [Stochastic Gradient Descent](https://pytorch.org/docs/stable/generated/torch.optim.SGD.html) instead of our implementation of the gradient descent learning rule.\n",
    "\n",
    "[Adam](https://pytorch.org/docs/stable/generated/torch.optim.Adam.html) is another popular one. \n",
    "\n",
    "\n",
    "#### Train the model (for each epoch)\n",
    "* Forward pass: calculate predictions and loss\n",
    "* Backward pass: calculate gradients \n",
    "* Optimizer step: update model parameters (weights) \n",
    "\n",
    "<br/> \n",
    "\n",
    "\n",
    "**Recall:**\n",
    "\n",
    "By default, PyTorch accumulates the gradients on subsequent backward passes. \n",
    "\n",
    "During training with every batch the gradients need to be explicitly set to zero using `optimizer.zero_grad()` before starting the backpropagation. \n",
    "\n",
    "The accumulating behavior can be convenient when we want to compute the gradient of the loss summed over multiple batches (or with RNNs).\n",
    "\n",
    "\n",
    "\n",
    "\n"
   ]
  },
  {
   "cell_type": "code",
   "execution_count": 17,
   "id": "86b19278",
   "metadata": {},
   "outputs": [
    {
     "name": "stdout",
     "output_type": "stream",
     "text": [
      "Before training:\n",
      "    Parent height=74.00\n",
      "    Predicted child height=-48.16\n",
      "\n",
      "\n",
      "After training:\n",
      "    Parent height=74.00\n",
      "    Predicted child height=70.56\n",
      "\n",
      "\n",
      "Model parameter 0: 0.95\n",
      "Model parameter 1: 0.32\n"
     ]
    },
    {
     "data": {
      "image/png": "[encoded data removed]",
      "text/plain": [
       "<Figure size 640x480 with 1 Axes>"
      ]
     },
     "metadata": {},
     "output_type": "display_data"
    }
   ],
   "source": [
    "import torch.nn as nn # Neural Networks module\n",
    "\n",
    "########################################################\n",
    "# torch.nn models expect the features to be in columns #\n",
    "#                        and samples to be in rows     #\n",
    "########################################################\n",
    "\n",
    "X = torch.tensor(galton.midparentHeight, \n",
    "                 dtype=torch.float32).view(-1,1)\n",
    "Y = torch.tensor(galton.childHeight, \n",
    "                 dtype=torch.float32).view(-1,1)\n",
    "\n",
    "n_samples, n_features = X.shape # 934 samples, single feature \n",
    "\n",
    "\n",
    "######################################################\n",
    "# Define the model:                                  #\n",
    "#    - Inherit from the basic Neural Networks class  #\n",
    "#    - Define layers in the constructor              #\n",
    "#    - Apply layers in the forward pass              # \n",
    "######################################################\n",
    "\n",
    "class OurLR(nn.Module): # inherit from torch.nn.Module \n",
    "\n",
    "    def __init__(self, in_dim, out_dim): # constructor\n",
    "        super().__init__() # parent constructor\n",
    "        self.layer1 = nn.Linear(in_dim, out_dim) # one linear layer: \n",
    "                                                 # weights + bias\n",
    "                                  # If there were more layers in the \n",
    "                                  # neural network they could be \n",
    "                                  # defined here\n",
    "        \n",
    "    def forward(self, x): \n",
    "        return self.layer1(x) \n",
    "\n",
    "###################################\n",
    "# Create an instance of the model #   \n",
    "###################################\n",
    "\n",
    "in_dim, out_dim = n_features, n_features # One input, one output\n",
    "model = OurLR(in_dim, out_dim)\n",
    "\n",
    "                  ########\n",
    "                  # bias #\n",
    "                  ########\n",
    "#                    | \n",
    "######  * weight     V        #######\n",
    "# in # ---------->   + -----> # out #\n",
    "######                        #######\n",
    "\n",
    "parentsHeightTest = torch.tensor([74.00])\n",
    "y_hat = model(parentsHeightTest)\n",
    "print('Before training:')\n",
    "print('    Parent height=%.2f'%parentsHeightTest)\n",
    "print('    Predicted child height=%.2f\\n\\n'%y_hat)\n",
    "\n",
    "\n",
    "######################################################\n",
    "# Define learning rate, loss function, and optimizer #\n",
    "######################################################\n",
    "learning_rate = 1e-5 \n",
    "n_epochs = 50 \n",
    "loss_fun = nn.MSELoss()\n",
    "optimizer = torch.optim.SGD(model.parameters(), \n",
    "                            lr=learning_rate) # parameters = weight\n",
    "\n",
    "###################\n",
    "# Train the model #\n",
    "###################\n",
    "losses = []\n",
    "for epoch in range(n_epochs):\n",
    "\n",
    "    y_hat = model(X)   # forward pass -> current prediction\n",
    "    loss = loss_fun(Y, y_hat) # calculate loss\n",
    "    loss.backward()      # backward pass -> calculate gradient\n",
    "    losses.append(loss.item())\n",
    "    \n",
    "    optimizer.step() # update weight using stochastic gradient descent\n",
    "    optimizer.zero_grad() # zero the gradient so it does not accumulate\n",
    "    \n",
    "plt.scatter(range(n_epochs), losses)\n",
    "\n",
    "###################\n",
    "# Test the model  #\n",
    "###################\n",
    "y_hat = model(parentsHeightTest)    \n",
    "print('After training:')\n",
    "print('    Parent height=%.2f'%parentsHeightTest)\n",
    "print('    Predicted child height=%.2f\\n\\n'%y_hat)\n",
    "\n",
    "for count, param in enumerate(model.parameters()):\n",
    "    print('Model parameter %d: %.2f'%(count, param.item()))\n",
    "    "
   ]
  },
  {
   "cell_type": "markdown",
   "id": "5f292379",
   "metadata": {},
   "source": [
    "### Building a simple linear neural network using pytorch\n",
    "\n",
    "### Goal: to classify images of hand written digits to $10$ classes: $0, 1, 2, \\dots , 9$\n",
    "\n",
    "We'll use a subset of the MNIST datases: \n",
    "\n",
    "$28 \\times 28$ greyscale images of hand written digits. \n",
    "\n",
    "\n",
    "<br/>\n",
    "\n",
    "<br/>\n",
    "\n",
    "\n",
    "Same pipeline as before: \n",
    "\n",
    "####  Design the model\n",
    "* Inherit from `torch.nn` + Input/output shapes:\n",
    "    * Input $=$ image size $= 28 \\times 28 = 784$\n",
    "    * Output $=$ number of classes = $10$ <br/> Each output will be treated as a **'likelihood'** and the maximal one will determine the class.\n",
    "* Forward pass: layers and [activation functions](https://pytorch.org/docs/stable/nn.html#non-linear-activations-weighted-sum-nonlinearity) \n",
    "\n",
    "#### Choose the [loss function](https://pytorch.org/docs/stable/nn.html#loss-functions) \n",
    "\n",
    "#### Choose the [optimizer](https://pytorch.org/docs/stable/optim.html)\n",
    "\n",
    "#### Train the model (for each epoch, for each batch)\n",
    "* Forward pass: calculate predictions and loss\n",
    "* Backward pass: calculate gradients \n",
    "* Optimizer step: update model parameters\n",
    "\n"
   ]
  },
  {
   "cell_type": "code",
   "execution_count": 18,
   "id": "f8b236c4",
   "metadata": {},
   "outputs": [],
   "source": [
    "import torch\n",
    "import torch.nn as nn \n",
    "from torchvision.datasets import MNIST\n",
    "import torchvision.transforms as transforms\n",
    "from torch.utils.data import DataLoader"
   ]
  },
  {
   "cell_type": "markdown",
   "id": "5c267272",
   "metadata": {},
   "source": [
    "* Here, we will use the `MNIST` dataset from `torchvision.datasets`, which is already divided to training and testing sets. \n",
    "\n",
    "* Any set of images can be loaded with the (generic) dataloader provided that it is organized appropriately: \n",
    "\n",
    "[`torchvision.datasets.ImageFolder`](https://pytorch.org/vision/stable/generated/torchvision.datasets.ImageFolder.html) is a data loader for images arranged in subfolders by class. E.g.: \n",
    "\n",
    "`root/dog/xxx.png` <br/>\n",
    "`root/dog/xxy.png` <br/>\n",
    "`root/dog/[...]/xxz.png` <br/>\n",
    "\n",
    "<br/> \n",
    "\n",
    "`root/cat/123.png` <br/>\n",
    "`root/cat/nsdf3.png` <br/>\n",
    "`root/cat/[...]/asd932_.png` <br/>\n"
   ]
  },
  {
   "cell_type": "code",
   "execution_count": 19,
   "id": "c77d8ab1",
   "metadata": {},
   "outputs": [],
   "source": [
    "from torchvision import transforms\n",
    "from torchvision.datasets import MNIST\n",
    "from torch.utils.data import DataLoader\n",
    "\n",
    "#########################\n",
    "# Some hyper parameters # \n",
    "#########################\n",
    "\n",
    "in_dim = 28*28 \n",
    "out_dim = 10 # there are 10 distinct digits (classes)\n",
    "hidden_dim = 300\n",
    "n_epochs = 5 \n",
    "batch_size = 100 \n",
    "learning_rate = 1e-3 \n",
    "\n",
    "# If unclear - draw the model \n",
    "# (although not every neuron in the hidden layer)\n",
    "\n",
    "\n",
    "####################################################################\n",
    "# Set up using torchvision.transforms for preprocessing each image #   \n",
    "####################################################################\n",
    "\n",
    "img_transform = transforms.Compose([\n",
    "    transforms.ToTensor(), # instead of grayscale - values from 0..255 to 0..1\n",
    "    transforms.Normalize([0.5], [0.5]) # shift to center at 0\n",
    "])\n",
    "\n",
    "\n",
    "################################################\n",
    "#        Load data from a local folder         #\n",
    "#   (some sources have naming discrepancies)   #\n",
    "################################################\n",
    "\n",
    "X_train = MNIST('data/MNIST', train=True, transform=img_transform, \n",
    "                download=True)\n",
    "X_test = MNIST('data/MNIST', train=False, transform=img_transform)\n",
    "\n",
    "\n",
    "#############################\n",
    "# Specify the dataloader(s) # \n",
    "#############################\n",
    "\n",
    "loader_train = DataLoader(dataset=X_train, batch_size=batch_size, \n",
    "                          shuffle=True)\n",
    "loader_test = DataLoader(dataset=X_test, batch_size=batch_size, \n",
    "                         shuffle=False)\n"
   ]
  },
  {
   "cell_type": "code",
   "execution_count": 20,
   "id": "d049cfd1",
   "metadata": {},
   "outputs": [
    {
     "data": {
      "image/png": "[encoded data removed]",
      "text/plain": [
       "<Figure size 640x480 with 3 Axes>"
      ]
     },
     "metadata": {},
     "output_type": "display_data"
    }
   ],
   "source": [
    "########################################\n",
    "# Show a few example images and labels #\n",
    "########################################\n",
    "\n",
    "imgs, lbls = next(iter(loader_test)) # one batch\n",
    "for i in range(3): \n",
    "    plt.subplot(1,3,i+1)\n",
    "    plt.imshow(imgs[i][0], cmap='bone')\n",
    "    plt.title(lbls[i].item())\n",
    "    plt.axis('off')\n"
   ]
  },
  {
   "cell_type": "markdown",
   "id": "893c2f59",
   "metadata": {},
   "source": [
    "#### A fully connected linear network with one hidden layer: "
   ]
  },
  {
   "cell_type": "code",
   "execution_count": 21,
   "id": "6f56882e",
   "metadata": {},
   "outputs": [],
   "source": [
    "##########################################\n",
    "# Specify the model class (model design) #\n",
    "##########################################\n",
    "\n",
    "class SimpleLinearNN(nn.Module): \n",
    "    \n",
    "    def __init__(self, in_dim, hidden_dim, out_dim):\n",
    "        super().__init__() # inherited constructor\n",
    "        self.layer_1 = nn.Linear(in_dim, hidden_dim)\n",
    "        self.relu = nn.ReLU() # Rectifier Linear Unit \n",
    "                              # activation function \n",
    "        self.layer_2 = nn.Linear(hidden_dim, out_dim)\n",
    "        \n",
    "    def forward(self, x): \n",
    "        output = self.layer_1(x)\n",
    "        output = self.relu(output)\n",
    "        output = self.layer_2(output)\n",
    "        # No final activation function: \n",
    "        #    the loss function will expect \n",
    "        #    the unnormalized numbers (logits without an activation function) as input\n",
    "        return output\n",
    "    \n",
    "    \n",
    "###################################\n",
    "# Create an instance of the model #\n",
    "###################################\n",
    "\n",
    "model = SimpleLinearNN(in_dim, hidden_dim, out_dim)\n",
    "\n",
    "\n",
    "######################################\n",
    "# Define loss function and optimizer # \n",
    "######################################\n",
    "\n",
    "loss_fun = nn.CrossEntropyLoss() # A loss function that expects \n",
    "                                 # unnormalized input  \n",
    "optimizer = torch.optim.Adam(model.parameters(), lr=learning_rate)\n"
   ]
  },
  {
   "cell_type": "markdown",
   "id": "61866f02",
   "metadata": {},
   "source": [
    "### Training the simple linear neural network using pytorch\n"
   ]
  },
  {
   "cell_type": "code",
   "execution_count": 22,
   "id": "11df79ac",
   "metadata": {},
   "outputs": [
    {
     "name": "stdout",
     "output_type": "stream",
     "text": [
      "Epoch 0, batch 0: loss = 2.373\n",
      "Epoch 0, batch 200: loss = 0.264\n",
      "Epoch 0, batch 400: loss = 0.280\n",
      "Epoch 1, batch 0: loss = 0.215\n",
      "Epoch 1, batch 200: loss = 0.136\n",
      "Epoch 1, batch 400: loss = 0.056\n",
      "Epoch 2, batch 0: loss = 0.254\n",
      "Epoch 2, batch 200: loss = 0.057\n",
      "Epoch 2, batch 400: loss = 0.185\n",
      "Epoch 3, batch 0: loss = 0.109\n",
      "Epoch 3, batch 200: loss = 0.127\n",
      "Epoch 3, batch 400: loss = 0.138\n",
      "Epoch 4, batch 0: loss = 0.034\n",
      "Epoch 4, batch 200: loss = 0.093\n",
      "Epoch 4, batch 400: loss = 0.038\n",
      "CPU times: user 38.5 s, sys: 1min 49s, total: 2min 28s\n",
      "Wall time: 10.9 s\n"
     ]
    }
   ],
   "source": [
    "%%time \n",
    "\n",
    "###################\n",
    "# Train the model # \n",
    "###################\n",
    "\n",
    "losses = [] \n",
    "for epoch in range(n_epochs): \n",
    "    for k, (imgs, lbls) in enumerate(loader_train): \n",
    "        \n",
    "        # Forward pass and loss\n",
    "        imgs = imgs.view(-1, 28*28) # each row will contain one \n",
    "                                    # 'flattened' image from batch\n",
    "        network_outputs = model(imgs) # one prediction per image \n",
    "                                      # from the batch\n",
    "        loss = loss_fun(network_outputs, lbls) # compare predictions \n",
    "                                               # and labels\n",
    "        \n",
    "        # Backward pass and parameter adjustment\n",
    "        loss.backward()\n",
    "        optimizer.step()\n",
    "        optimizer.zero_grad() # so as not to accumulate grads \n",
    "                              # between batches\n",
    "        \n",
    "        # Indicate progress\n",
    "        if k%200 == 0: \n",
    "            print('Epoch %d, batch %d: loss = %.3f'%\\\n",
    "                  (epoch, k, loss.item()))\n",
    "        losses.append(loss)\n",
    "        \n",
    "\n"
   ]
  },
  {
   "cell_type": "code",
   "execution_count": 23,
   "id": "47924a76",
   "metadata": {},
   "outputs": [
    {
     "data": {
      "image/png": "[encoded data removed]",
      "text/plain": [
       "<Figure size 640x480 with 1 Axes>"
      ]
     },
     "metadata": {},
     "output_type": "display_data"
    }
   ],
   "source": [
    "##########################\n",
    "# Plot (smoothed) losses #\n",
    "##########################\n",
    "\n",
    "win = 10\n",
    "\n",
    "losses_values = [x.detach().numpy() for x in losses] # remove the computational graph from each tensor\n",
    "losses_values = np.convolve(losses_values, np.ones(win), 'valid') / win # rolling window average\n",
    "iters = np.array(range(len(losses_values)))\n",
    "losses_values = losses_values[::win]\n",
    "iters = iters[::win] \n",
    "\n",
    "plt.figure()\n",
    "plt.plot(iters, losses_values) \n",
    "plt.xlabel('Iterations')\n",
    "plt.ylabel('Loss');\n",
    "\n"
   ]
  },
  {
   "cell_type": "markdown",
   "id": "52755fd4",
   "metadata": {},
   "source": [
    "### Testing the simple linear neural network using pytorch\n",
    "\n",
    "**Note (I):**\n",
    "After training we do not need the gradient calculations to be performed so we can \n",
    "* `.detach()` (creates a new copy of the tensor) or \n",
    "* set `.requires_grad_(False)` (sets the flag in place) or \n",
    "* use `with torch.no_grad():` (skips the calculations without copying or changing the tensor) \n",
    "\n",
    "<br/>\n",
    "\n",
    "**Note (II):**\n",
    "\n",
    "When `dim` (dimension to maximize over) is specified in `torch.max()`, the function returns the max value and index:"
   ]
  },
  {
   "cell_type": "code",
   "execution_count": 24,
   "id": "273524ef",
   "metadata": {},
   "outputs": [
    {
     "name": "stdout",
     "output_type": "stream",
     "text": [
      "tensor([[0.0475, 0.2900, 0.1858]])\n",
      "Max value = 0.290 , Index of max = 1\n"
     ]
    }
   ],
   "source": [
    "random_tensor = torch.rand(1, 3)\n",
    "print(random_tensor)\n",
    "val, idx = torch.max(random_tensor, dim=1) # maximize over columns \n",
    "                                           # and (!) return indices\n",
    "print('Max value = %.3f , Index of max = %d'%(val, idx))\n"
   ]
  },
  {
   "cell_type": "code",
   "execution_count": 25,
   "id": "2292d2ee",
   "metadata": {},
   "outputs": [
    {
     "name": "stdout",
     "output_type": "stream",
     "text": [
      "Accuracy = 0.970  (yay!)\n"
     ]
    }
   ],
   "source": [
    "##################\n",
    "# Test the model # \n",
    "##################\n",
    "\n",
    "accuracy = 0 \n",
    "with torch.no_grad(): \n",
    "    for imgs, lbls in loader_test:\n",
    "        imgs = imgs.view(-1, 28*28)\n",
    "        network_outputs = model(imgs)\n",
    "        _, y_hats = torch.max(network_outputs, dim=1) # pick class \n",
    "                                                      # with maximal \n",
    "                                                      # likelihood\n",
    "        accuracy += (y_hats == lbls).sum().item()\n",
    "\n",
    "accuracy = accuracy / len(loader_test.dataset)    \n",
    "mystr = ' (yay!)' if accuracy>=0.95 else '' \n",
    "print('Accuracy = %.3f'%accuracy, mystr)        "
   ]
  },
  {
   "cell_type": "markdown",
   "id": "a96e64e4",
   "metadata": {},
   "source": [
    "### Building a simple convolutional neural network using pytorch\n",
    "\n",
    "A few clarifications (see links for more details): \n",
    "\n",
    "* [Convolutional layers](https://www.ibm.com/topics/convolutional-neural-networks#:~:text=The%20convolutional%20layer%20is%20the%20core%20building%20block%20of%20a,filter%2C%20and%20a%20feature%20map.) are a building block that make CNNs less sensitive to translation (where a feature is on a particular image) by implementing filters that can detect various features regardless of their exact position in the image. \n",
    "    * A $3\\times 3$ filter (kernel) size will be able to work on the image starting from the second pixel and ending at the pixel-before-last in every dimension. Therefore, the output image will be smaller by $2$ pixels in every dimension.   \n",
    "\n",
    "* Max pooling: [`torch.nn.MaxPool2d`](https://pytorch.org/docs/stable/generated/torch.nn.MaxPool2d.html) downsamples evey $2\\times2$ square of pixels to one pixel equal to the maximal of the four. This is a simple (and common) way of reducing the number of parameters and computations in the network. \n",
    "    * A $2\\times 2$ max pooling filter will shrink every dimension by a factor of $2$. \n",
    "    \n",
    "* For the overall architecture to make sense, it is necessary to keep track of the data size after each operation. These sizes are noted in comments alongside the implementation of each layer/operation in the forward pass.  \n",
    "\n",
    "* The exact architecture implemented below is, by and large, arbitrary. Classifying hand written digits turns out to be not a very hard problem. "
   ]
  },
  {
   "cell_type": "markdown",
   "id": "8b4f600f",
   "metadata": {},
   "source": [
    "<img src=\"https://miro.medium.com/v2/resize:fit:1400/format:webp/1*HPbsBA5BJovt-vrbF1C7Jg.png\" width=\"600\">"
   ]
  },
  {
   "cell_type": "markdown",
   "id": "089c94ff",
   "metadata": {},
   "source": [
    "<img src=\"https://miro.medium.com/v2/resize:fit:1400/format:webp/1*32zCSTBi3giSApz1oQV-zA.gif\" width=\"600\">"
   ]
  },
  {
   "cell_type": "markdown",
   "id": "02d1f94f",
   "metadata": {},
   "source": [
    "<img src=\"https://miro.medium.com/v2/resize:fit:1400/format:webp/1*qImgD2KGZw7ETjw3mOxNyg.gif\" width=\"600\">"
   ]
  },
  {
   "cell_type": "code",
   "execution_count": 26,
   "id": "323a614b",
   "metadata": {},
   "outputs": [],
   "source": [
    "#########################\n",
    "# Some hyper parameters # \n",
    "#########################\n",
    "\n",
    "img_dim = 28 \n",
    "out_dim = 10 # there are 10 distinct digits (classes)\n",
    "n_epochs = 3 \n",
    "batch_size = 100 \n",
    "learning_rate = 1e-3 \n",
    "\n",
    "################################################\n",
    "#        Load data from a local folder         #\n",
    "#   (some sources have naming discrepancies)   #\n",
    "################################################\n",
    "\n",
    "img_transform = transforms.Compose([\n",
    "    transforms.ToTensor(),\n",
    "    transforms.Normalize([0.5], [0.5]), # instead of greyscale \n",
    "                                        # values between 0..255\n",
    "    transforms.Resize((img_dim, img_dim)) \n",
    "])\n",
    "\n",
    "X_train = MNIST('data/MNIST', train=True, transform=img_transform, \n",
    "                download=True)\n",
    "X_test = MNIST('data/MNIST', train=False, transform=img_transform)\n",
    "\n",
    "\n",
    "#############################\n",
    "# Specify the dataloader(s) # \n",
    "#############################\n",
    "\n",
    "loader_train = DataLoader(dataset=X_train, batch_size=batch_size, \n",
    "                          shuffle=True)\n",
    "loader_test = DataLoader(dataset=X_test, batch_size=batch_size, \n",
    "                         shuffle=False)\n",
    "\n",
    "\n",
    "##########################################\n",
    "# Specify the model class (model design) #\n",
    "##########################################\n",
    "\n",
    "class SimpleConvolutionalNN(nn.Module): \n",
    "    \n",
    "    def __init__(self):\n",
    "        super().__init__() # inherited constructor\n",
    "        self.convLayer_1 = nn.Conv2d(in_channels=1, out_channels=30, # One channel - grayscale iamges, 3x3 filter\n",
    "                                     kernel_size=3)\n",
    "        self.pool = nn.MaxPool2d(kernel_size=2, stride=2) # Reduce image size by half\n",
    "        self.relu = nn.ReLU()\n",
    "        self.convLayer_2 = nn.Conv2d(in_channels=30, out_channels=60, \n",
    "                                     kernel_size=3)\n",
    "        self.convLayer_3 = nn.Conv2d(in_channels=60, out_channels=60, \n",
    "                                     kernel_size=3)\n",
    "        self.LinLayer_4 = nn.Linear(540, 60)\n",
    "        self.LinLayer_5 = nn.Linear(60, 10)\n",
    "        \n",
    "    def forward(self, x): \n",
    "        output = x                         # batch_size x 1 x 28 x 28\n",
    "        output = self.convLayer_1(output)  # batch_size x 30 x 26 x 26\n",
    "        output = self.relu(output)         # batch_size x 30 x 26 x 26\n",
    "        output = self.pool(output)         # batch_size x 30 x 13 x 13\n",
    "        output = self.convLayer_2(output)  # batch_size x 60 x 11 x 11 \n",
    "        output = self.relu(output)         # batch_size x 60 x 11 x 11\n",
    "        output = self.pool(output)         # batch_size x 60 x 5 x 5\n",
    "        output = self.convLayer_3(output)  # batch_size x 60 x 3 x 3\n",
    "        output = torch.flatten(output, 1)  # batch_size x 540\n",
    "        output = self.LinLayer_4(output)   # batch_size x 60 \n",
    "        output = self.relu(output)         # batch_size x 60\n",
    "        output = self.LinLayer_5(output)   # batch_size x 10 \n",
    "        # No final activation function: \n",
    "        #     the loss function will expect \n",
    "        #     the unnormalized numbers as input\n",
    "        return output\n",
    "      \n",
    "###################################\n",
    "# Create an instance of the model #\n",
    "###################################\n",
    "\n",
    "model = SimpleConvolutionalNN()\n",
    "\n",
    "\n",
    "######################################\n",
    "# Define loss function and optimizer # \n",
    "######################################\n",
    "\n",
    "loss_fun = nn.CrossEntropyLoss() # A loss function that expects \n",
    "                                 # unnormalized input  \n",
    "optimizer = torch.optim.Adam(model.parameters(), lr=learning_rate)\n",
    "\n"
   ]
  },
  {
   "cell_type": "code",
   "execution_count": 27,
   "id": "33691e9d",
   "metadata": {},
   "outputs": [
    {
     "name": "stdout",
     "output_type": "stream",
     "text": [
      "Epoch 0, batch 0: loss = 2.304\n",
      "Epoch 0, batch 200: loss = 0.122\n",
      "Epoch 0, batch 400: loss = 0.177\n",
      "Epoch 1, batch 0: loss = 0.089\n",
      "Epoch 1, batch 200: loss = 0.009\n",
      "Epoch 1, batch 400: loss = 0.015\n",
      "Epoch 2, batch 0: loss = 0.016\n",
      "Epoch 2, batch 200: loss = 0.034\n",
      "Epoch 2, batch 400: loss = 0.248\n",
      "\n",
      "CPU times: user 2min 50s, sys: 8min 10s, total: 11min\n",
      "Wall time: 49.4 s\n"
     ]
    },
    {
     "data": {
      "image/png": "[encoded data removed]",
      "text/plain": [
       "<Figure size 640x480 with 1 Axes>"
      ]
     },
     "metadata": {},
     "output_type": "display_data"
    }
   ],
   "source": [
    "%%time \n",
    "\n",
    "###################\n",
    "# Train the model # \n",
    "###################\n",
    "\n",
    "losses = [] \n",
    "for epoch in range(n_epochs): \n",
    "    for k, (imgs, lbls) in enumerate(loader_train): \n",
    "        \n",
    "        # Forward pass and loss\n",
    "        network_outputs = model(imgs) # one prediction per image \n",
    "                                      # from the batch\n",
    "        loss = loss_fun(network_outputs, lbls) # compare predictions \n",
    "                                               # and labels\n",
    "        \n",
    "        # Backward pass and parameter adjustment\n",
    "        loss.backward()\n",
    "        optimizer.step()\n",
    "        optimizer.zero_grad() # so as not to accumulate grads \n",
    "                              # between batches\n",
    "        \n",
    "        # Indicate progress\n",
    "        if k%200 == 0: \n",
    "            print('Epoch %d, batch %d: loss = %.3f'%\\\n",
    "                  (epoch, k, loss.item()))\n",
    "        losses.append(loss)\n",
    "print()\n",
    "        \n",
    "##########################\n",
    "# Plot (smoothed) losses #\n",
    "##########################\n",
    "\n",
    "win = 10\n",
    "\n",
    "losses_values = [x.detach().numpy() for x in losses] # remove the \n",
    "                                            # computational graph \n",
    "                                            # from each tensor\n",
    "losses_values = np.convolve(losses_values, \n",
    "                            np.ones(win), \n",
    "                            'valid')/win # rolling window average\n",
    "\n",
    "iters = np.array(range(len(losses_values)))\n",
    "losses_values = losses_values[::win]\n",
    "iters = iters[::win] \n",
    "\n",
    "plt.figure()\n",
    "plt.plot(iters, losses_values) \n",
    "plt.xlabel('Iterations')\n",
    "plt.ylabel('Loss');\n"
   ]
  },
  {
   "cell_type": "markdown",
   "id": "d6b9c4d6",
   "metadata": {},
   "source": [
    "### Testing the simple convolutional neural network using pytorch\n",
    "\n",
    "(Same as before) \n"
   ]
  },
  {
   "cell_type": "code",
   "execution_count": 29,
   "id": "99b2d71a",
   "metadata": {},
   "outputs": [
    {
     "name": "stdout",
     "output_type": "stream",
     "text": [
      "Accuracy = 0.988  (yay!)\n"
     ]
    }
   ],
   "source": [
    "##################\n",
    "# Test the model # \n",
    "##################\n",
    "\n",
    "accuracy = 0 \n",
    "with torch.no_grad(): \n",
    "    for imgs, lbls in loader_test:\n",
    "        network_outputs = model(imgs)\n",
    "        _, y_hats = torch.max(network_outputs, dim=1) # pick class \n",
    "                                                      # with maxinal \n",
    "                                                      # likelihood\n",
    "        accuracy += (y_hats == lbls).sum().item()\n",
    "\n",
    "accuracy = accuracy / len(loader_test.dataset)    \n",
    "mystr = ' (yay!)' if accuracy>=0.95 else '' \n",
    "print('Accuracy = %.3f'%(accuracy), mystr)        "
   ]
  },
  {
   "cell_type": "markdown",
   "id": "28398f40",
   "metadata": {},
   "source": [
    "### Summary\n",
    "\n",
    "* **Design the model** (input, hidden layers, activation functions, output...) \n",
    "* **Create instances** of the:\n",
    "    * Model\n",
    "    * Loss function \n",
    "    * Optimizer\n",
    "* **Train the model.** <br/> For each epoch: <br/> $ \\hspace{8mm}$ For each sample or batch of samples: <br/> $ \\hspace{16mm} \\circ$ Forward pass (calculate predictions) <br/> $ \\hspace{16mm} \\circ$ Calculate loss <br/> $ \\hspace{16mm} \\circ$  Backward pass (calculate gradients) <br/> $ \\hspace{16mm} \\circ$ Optimizer step (update weights) <br/> $ \\hspace{16mm} \\circ$ (zero the gradients)\n",
    "* **Test/evaluate the model** using a testing dataset that was set aside\n",
    "\n"
   ]
  },
  {
   "cell_type": "code",
   "execution_count": null,
   "id": "d78b6b41",
   "metadata": {},
   "outputs": [],
   "source": []
  }
 ],
 "metadata": {
  "celltoolbar": "Hide code",
  "kernelspec": {
   "display_name": "env",
   "language": "python",
   "name": "python3"
  },
  "language_info": {
   "codemirror_mode": {
    "name": "ipython",
    "version": 3
   },
   "file_extension": ".py",
   "mimetype": "text/x-python",
   "name": "python",
   "nbconvert_exporter": "python",
   "pygments_lexer": "ipython3",
   "version": "3.12.3"
  },
  "varInspector": {
   "cols": {
    "lenName": 16,
    "lenType": 16,
    "lenVar": 40
   },
   "kernels_config": {
    "python": {
     "delete_cmd_postfix": "",
     "delete_cmd_prefix": "del ",
     "library": "var_list.py",
     "varRefreshCmd": "print(var_dic_list())"
    },
    "r": {
     "delete_cmd_postfix": ") ",
     "delete_cmd_prefix": "rm(",
     "library": "var_list.r",
     "varRefreshCmd": "cat(var_dic_list()) "
    }
   },
   "types_to_exclude": [
    "module",
    "function",
    "builtin_function_or_method",
    "instance",
    "_Feature"
   ],
   "window_display": false
  }
 },
 "nbformat": 4,
 "nbformat_minor": 5
}
