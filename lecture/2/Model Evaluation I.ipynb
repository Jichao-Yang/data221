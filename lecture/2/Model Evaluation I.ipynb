{
 "cells": [
  {
   "cell_type": "markdown",
   "id": "11ce827a",
   "metadata": {
    "slideshow": {
     "slide_type": "slide"
    }
   },
   "source": [
    "<div style=\"text-align: center;\"> \n",
    "\n",
    "# Metrics For Evaluating Classification Models\n",
    "\n",
    "## Amanda Kube Jotte - University of Chicago\n",
    "## Data 22100 - Winter 2025\n",
    "\n",
    "<img src=\"https://raw.githubusercontent.com/amandakube/Data118LectureImages/main/UChicago_DSI.png\" alt=\"UC-DSI\" width=\"500\" height=\"600\">\n",
    "    \n",
    "</div>\n"
   ]
  },
  {
   "cell_type": "markdown",
   "id": "1bbafb4f",
   "metadata": {
    "slideshow": {
     "slide_type": "slide"
    }
   },
   "source": [
    "## The Confusion Matrix\n",
    "\n",
    "### Confusion matrix for a binary classification model (reminder) \n",
    "\n",
    "A $2\\times 2$ table summarizing the possible outcomes and predictions\n",
    "\n",
    "<center>\n",
    "<img src=\"https://github.com/david-biron/DATA221imgs/blob/main/ConfusionMatrix2x2.png?raw=true\" width=\"300\"> \n",
    "</center>\n",
    "\n",
    "* **True Positive:** </br> \n",
    "Predicted positive (1) and the real outcome is positive (1).\n",
    "\n",
    "* **True Negative:** </br> \n",
    "Predicted negative (0) and the real outcome is negative (0).\n",
    "\n",
    "\n",
    "* **False Positive / Type 1 Error:** </br>\n",
    "Predicted positive (1) and the real outcome is negative (0).\n",
    "\n",
    "* **False Negative / Type 2 Error:** </br>\n",
    "Predicted negative (0) and the real outcome is positive (1).\n",
    "\n",
    "\n",
    "\n"
   ]
  },
  {
   "cell_type": "markdown",
   "id": "c9fa89f8",
   "metadata": {
    "slideshow": {
     "slide_type": "slide"
    }
   },
   "source": [
    "### Confusion Matrix with more classes \n",
    "\n",
    "The generalization of this idea to a classification problem with any number of classes is straightforward: \n",
    "\n",
    "\n",
    "<img src=\"https://github.com/david-biron/DATA221imgs/blob/main/ConfusionMatrixPics.png?raw=true\" width=\"450\">\n",
    "\n",
    "\n",
    "#### Note:\n",
    "\n",
    "* The numbers on the **diagonal** are **true predictions**. </br> \n",
    "  E.g., an airplane identified as an airplane.  \n",
    "\n",
    "* The **off diagional** numbers are **false predictions**. </br>\n",
    "  E.g., an airplane identified as a frog.  \n",
    "  \n",
    "* **Type I errors** are obtained from **summing the off-diagonal columns**. </br>\n",
    "  E.g., Actual images of non-airplanes were erroneously identified as airplanes. </br> \n",
    "  Hence, the sum of the first column (without the diagonal element) is the number of 'False positive airplanes'. \n",
    "\n",
    "* **Type II errors** are obtained from **summing the off-diagonal rows**. </br>\n",
    "  E.g., Actual images of airplanes were erroneously identified as non-airplanes. </br> \n",
    "  Hence, the sum of the first row (without the diagonal element) is the number of 'False negative airplanes'. \n",
    "\n",
    "\n",
    "#### Thus, each class has its own Type I error (FP) and Type II error (FN) rates.   \n"
   ]
  },
  {
   "cell_type": "markdown",
   "id": "9ba5a09b",
   "metadata": {},
   "source": [
    "|   |   |\n",
    "|:--|:--|\n",
    "| <img src=\"https://github.com/david-biron/DATA221imgs/blob/main/icon_example.png?raw=true\" width=\"50\"> | A Naive Bayes classifier for penguin species: |\n",
    "\n",
    "\n"
   ]
  },
  {
   "cell_type": "markdown",
   "id": "3013fec1",
   "metadata": {
    "slideshow": {
     "slide_type": "slide"
    }
   },
   "source": [
    "### The Palmer Station penguins dataset \n",
    "\n",
    "\n",
    "We will use the [Palmer Station penguins dataset can be found here](https://allisonhorst.github.io/palmerpenguins/).\n",
    "\n",
    "<img src=\"https://github.com/david-biron/DATA221imgs/blob/main/culmen_depth.png?raw=true\" width=\"300\">\n"
   ]
  },
  {
   "cell_type": "code",
   "execution_count": 2,
   "id": "b84c040c",
   "metadata": {
    "slideshow": {
     "slide_type": "slide"
    }
   },
   "outputs": [
    {
     "data": {
      "text/html": [
       "<div>\n",
       "<style scoped>\n",
       "    .dataframe tbody tr th:only-of-type {\n",
       "        vertical-align: middle;\n",
       "    }\n",
       "\n",
       "    .dataframe tbody tr th {\n",
       "        vertical-align: top;\n",
       "    }\n",
       "\n",
       "    .dataframe thead th {\n",
       "        text-align: right;\n",
       "    }\n",
       "</style>\n",
       "<table border=\"1\" class=\"dataframe\">\n",
       "  <thead>\n",
       "    <tr style=\"text-align: right;\">\n",
       "      <th></th>\n",
       "      <th>Species</th>\n",
       "      <th>Island</th>\n",
       "      <th>Beak Length (mm)</th>\n",
       "      <th>Beak Depth (mm)</th>\n",
       "      <th>Flipper Length (mm)</th>\n",
       "      <th>Body Mass (g)</th>\n",
       "      <th>Sex</th>\n",
       "    </tr>\n",
       "  </thead>\n",
       "  <tbody>\n",
       "    <tr>\n",
       "      <th>0</th>\n",
       "      <td>Adelie</td>\n",
       "      <td>Torgersen</td>\n",
       "      <td>39.1</td>\n",
       "      <td>18.7</td>\n",
       "      <td>181.0</td>\n",
       "      <td>3750.0</td>\n",
       "      <td>MALE</td>\n",
       "    </tr>\n",
       "    <tr>\n",
       "      <th>1</th>\n",
       "      <td>Adelie</td>\n",
       "      <td>Torgersen</td>\n",
       "      <td>39.5</td>\n",
       "      <td>17.4</td>\n",
       "      <td>186.0</td>\n",
       "      <td>3800.0</td>\n",
       "      <td>FEMALE</td>\n",
       "    </tr>\n",
       "    <tr>\n",
       "      <th>2</th>\n",
       "      <td>Adelie</td>\n",
       "      <td>Torgersen</td>\n",
       "      <td>40.3</td>\n",
       "      <td>18.0</td>\n",
       "      <td>195.0</td>\n",
       "      <td>3250.0</td>\n",
       "      <td>FEMALE</td>\n",
       "    </tr>\n",
       "    <tr>\n",
       "      <th>3</th>\n",
       "      <td>Adelie</td>\n",
       "      <td>Torgersen</td>\n",
       "      <td>NaN</td>\n",
       "      <td>NaN</td>\n",
       "      <td>NaN</td>\n",
       "      <td>NaN</td>\n",
       "      <td>None</td>\n",
       "    </tr>\n",
       "    <tr>\n",
       "      <th>4</th>\n",
       "      <td>Adelie</td>\n",
       "      <td>Torgersen</td>\n",
       "      <td>36.7</td>\n",
       "      <td>19.3</td>\n",
       "      <td>193.0</td>\n",
       "      <td>3450.0</td>\n",
       "      <td>FEMALE</td>\n",
       "    </tr>\n",
       "  </tbody>\n",
       "</table>\n",
       "</div>"
      ],
      "text/plain": [
       "  Species     Island  Beak Length (mm)  Beak Depth (mm)  Flipper Length (mm)  \\\n",
       "0  Adelie  Torgersen              39.1             18.7                181.0   \n",
       "1  Adelie  Torgersen              39.5             17.4                186.0   \n",
       "2  Adelie  Torgersen              40.3             18.0                195.0   \n",
       "3  Adelie  Torgersen               NaN              NaN                  NaN   \n",
       "4  Adelie  Torgersen              36.7             19.3                193.0   \n",
       "\n",
       "   Body Mass (g)     Sex  \n",
       "0         3750.0    MALE  \n",
       "1         3800.0  FEMALE  \n",
       "2         3250.0  FEMALE  \n",
       "3            NaN    None  \n",
       "4         3450.0  FEMALE  "
      ]
     },
     "execution_count": 2,
     "metadata": {},
     "output_type": "execute_result"
    }
   ],
   "source": [
    "import pandas as pd \n",
    "import numpy as np \n",
    "\n",
    "penguins = pd.read_json(\"data/penguins.json\")\n",
    "penguins.head()"
   ]
  },
  {
   "cell_type": "code",
   "execution_count": 3,
   "id": "c096e6b6",
   "metadata": {
    "slideshow": {
     "slide_type": "slide"
    }
   },
   "outputs": [
    {
     "data": {
      "text/html": [
       "<div>\n",
       "<style scoped>\n",
       "    .dataframe tbody tr th:only-of-type {\n",
       "        vertical-align: middle;\n",
       "    }\n",
       "\n",
       "    .dataframe tbody tr th {\n",
       "        vertical-align: top;\n",
       "    }\n",
       "\n",
       "    .dataframe thead th {\n",
       "        text-align: right;\n",
       "    }\n",
       "</style>\n",
       "<table border=\"1\" class=\"dataframe\">\n",
       "  <thead>\n",
       "    <tr style=\"text-align: right;\">\n",
       "      <th></th>\n",
       "      <th>Species</th>\n",
       "      <th>Beak Length (mm)</th>\n",
       "      <th>Beak Depth (mm)</th>\n",
       "      <th>Flipper Length (mm)</th>\n",
       "      <th>Body Mass (g)</th>\n",
       "    </tr>\n",
       "  </thead>\n",
       "  <tbody>\n",
       "    <tr>\n",
       "      <th>0</th>\n",
       "      <td>Adelie</td>\n",
       "      <td>39.1</td>\n",
       "      <td>18.7</td>\n",
       "      <td>181.0</td>\n",
       "      <td>3750.0</td>\n",
       "    </tr>\n",
       "    <tr>\n",
       "      <th>1</th>\n",
       "      <td>Adelie</td>\n",
       "      <td>39.5</td>\n",
       "      <td>17.4</td>\n",
       "      <td>186.0</td>\n",
       "      <td>3800.0</td>\n",
       "    </tr>\n",
       "    <tr>\n",
       "      <th>2</th>\n",
       "      <td>Adelie</td>\n",
       "      <td>40.3</td>\n",
       "      <td>18.0</td>\n",
       "      <td>195.0</td>\n",
       "      <td>3250.0</td>\n",
       "    </tr>\n",
       "    <tr>\n",
       "      <th>4</th>\n",
       "      <td>Adelie</td>\n",
       "      <td>36.7</td>\n",
       "      <td>19.3</td>\n",
       "      <td>193.0</td>\n",
       "      <td>3450.0</td>\n",
       "    </tr>\n",
       "    <tr>\n",
       "      <th>5</th>\n",
       "      <td>Adelie</td>\n",
       "      <td>39.3</td>\n",
       "      <td>20.6</td>\n",
       "      <td>190.0</td>\n",
       "      <td>3650.0</td>\n",
       "    </tr>\n",
       "  </tbody>\n",
       "</table>\n",
       "</div>"
      ],
      "text/plain": [
       "  Species  Beak Length (mm)  Beak Depth (mm)  Flipper Length (mm)  \\\n",
       "0  Adelie              39.1             18.7                181.0   \n",
       "1  Adelie              39.5             17.4                186.0   \n",
       "2  Adelie              40.3             18.0                195.0   \n",
       "4  Adelie              36.7             19.3                193.0   \n",
       "5  Adelie              39.3             20.6                190.0   \n",
       "\n",
       "   Body Mass (g)  \n",
       "0         3750.0  \n",
       "1         3800.0  \n",
       "2         3250.0  \n",
       "4         3450.0  \n",
       "5         3650.0  "
      ]
     },
     "execution_count": 3,
     "metadata": {},
     "output_type": "execute_result"
    }
   ],
   "source": [
    "#######################\n",
    "# Rudimentary cleanup #\n",
    "#######################\n",
    "\n",
    "penguins = penguins[['Species', 'Beak Length (mm)', 'Beak Depth (mm)', \n",
    "                     'Flipper Length (mm)', 'Body Mass (g)']]\n",
    "penguins = penguins.dropna()\n",
    "penguins.head()"
   ]
  },
  {
   "cell_type": "markdown",
   "id": "42548e56",
   "metadata": {
    "slideshow": {
     "slide_type": "slide"
    }
   },
   "source": [
    "### (1) Note the units - they could matter \n",
    "\n",
    "Why? \n",
    "\n",
    "(although the GaussianNB implementation seems to take care of that). \n",
    "\n",
    "### (2) Where will a GausianNB classifier get $\\mu$ and $\\sigma$ for each species? \n",
    "\n",
    "..."
   ]
  },
  {
   "cell_type": "code",
   "execution_count": 4,
   "id": "0eb59750",
   "metadata": {
    "slideshow": {
     "slide_type": "slide"
    }
   },
   "outputs": [
    {
     "name": "stdout",
     "output_type": "stream",
     "text": [
      "First testing datapoint: \n",
      "     Beak Length (mm)  Beak Depth (mm)  Flipper Length (mm)  Body Mass (g)\n",
      "66              35.5             16.2                195.0         3350.0\n",
      "Model prediction:  Adelie \n",
      "\n"
     ]
    }
   ],
   "source": [
    "from sklearn.model_selection import train_test_split\n",
    "from sklearn.naive_bayes import GaussianNB\n",
    "\n",
    "predictors = penguins.columns[1:]\n",
    "outcome = penguins.columns[0]\n",
    "\n",
    "###############################################\n",
    "# Split data to training and testing datasets #\n",
    "###############################################\n",
    "X_train, X_test, y_train, y_test = \\\n",
    "    train_test_split(penguins[predictors], \n",
    "                     penguins[outcome], test_size=0.25) \n",
    "\n",
    "##############################################\n",
    "# Initialize an instance of the model object #\n",
    "##############################################\n",
    "model = GaussianNB()\n",
    "\n",
    "##########################################\n",
    "# Train the model / fit model parameters #\n",
    "##########################################\n",
    "model.fit(X_train, y_train)\n",
    "\n",
    "##########################\n",
    "# Predict with the model #\n",
    "##########################\n",
    "y_hat = model.predict(X_test)\n",
    "\n",
    "##################\n",
    "# Test the model #\n",
    "##################\n",
    "print('First testing datapoint: \\n', pd.DataFrame(X_test.iloc[0,:]).T)\n",
    "print('Model prediction: ', y_hat[0], '\\n')\n"
   ]
  },
  {
   "cell_type": "markdown",
   "id": "226388a5",
   "metadata": {
    "slideshow": {
     "slide_type": "slide"
    }
   },
   "source": [
    "### Calculating the confusion matrix with `sklearn.metrics`"
   ]
  },
  {
   "cell_type": "code",
   "execution_count": 5,
   "id": "a1ff024c",
   "metadata": {
    "slideshow": {
     "slide_type": "fragment"
    }
   },
   "outputs": [
    {
     "name": "stdout",
     "output_type": "stream",
     "text": [
      "[[39  1  0]\n",
      " [ 0 18  0]\n",
      " [ 0  0 28]]\n",
      "['Adelie' 'Chinstrap' 'Gentoo']\n"
     ]
    }
   ],
   "source": [
    "from sklearn.metrics import confusion_matrix\n",
    "\n",
    "# The confusion_matrix (numbers) \n",
    "cm = confusion_matrix(y_test, y_hat) # <--- Note the use of the \n",
    "                                     # TESTING data \n",
    "print(cm) \n",
    "\n",
    "# The labels for the confusion matrix \n",
    "# (in the same oreder as used by the model) \n",
    "labels = penguins['Species'].unique()\n",
    "print(labels)\n",
    "\n"
   ]
  },
  {
   "cell_type": "markdown",
   "id": "1300702a",
   "metadata": {
    "slideshow": {
     "slide_type": "slide"
    }
   },
   "source": [
    "### [Visualizing](https://scikit-learn.org/stable/modules/generated/sklearn.metrics.ConfusionMatrixDisplay.html) the confusion matrix with `sklearn.metrics`"
   ]
  },
  {
   "cell_type": "code",
   "execution_count": 8,
   "id": "04377ae9",
   "metadata": {
    "scrolled": false,
    "slideshow": {
     "slide_type": "fragment"
    }
   },
   "outputs": [
    {
     "data": {
      "image/png": "[encoded data removed]",
      "text/plain": [
       "<Figure size 640x480 with 2 Axes>"
      ]
     },
     "metadata": {},
     "output_type": "display_data"
    },
    {
     "data": {
      "image/png": "[encoded data removed]",
      "text/plain": [
       "<Figure size 640x480 with 2 Axes>"
      ]
     },
     "metadata": {},
     "output_type": "display_data"
    },
    {
     "data": {
      "image/png": "[encoded data removed]",
      "text/plain": [
       "<Figure size 640x480 with 2 Axes>"
      ]
     },
     "metadata": {},
     "output_type": "display_data"
    },
    {
     "data": {
      "image/png": "[encoded data removed]",
      "text/plain": [
       "<Figure size 640x480 with 2 Axes>"
      ]
     },
     "metadata": {},
     "output_type": "display_data"
    }
   ],
   "source": [
    "import matplotlib.pyplot as plt\n",
    "from sklearn.metrics import ConfusionMatrixDisplay\n",
    "\n",
    "title0 = 'Penguins Confusion Matrix, from '\n",
    "\n",
    "# Visualize the confusion matrix (i)\n",
    "disp = ConfusionMatrixDisplay(cm, display_labels=labels).plot(\n",
    "                                                  cmap=plt.cm.Blues)\n",
    "disp.ax_.set_title(title0+'plot(), not normalized');\n",
    "\n",
    "# Visualize the confusion matrix (ii)\n",
    "disp = ConfusionMatrixDisplay.from_predictions(\n",
    "     y_test,\n",
    "     y_hat, \n",
    "     display_labels=labels,\n",
    "     cmap=plt.cm.Blues,\n",
    "     normalize='all', # Normalized over the total number of samples \n",
    "    )\n",
    "disp.ax_.set_title(title0+'predictions, normalized over total');\n",
    "\n",
    "# Visualize the confusion matrix (iii)\n",
    "disp = ConfusionMatrixDisplay.from_estimator(\n",
    "     model,\n",
    "     X_test, # run the model to get y_hat\n",
    "     y_test,\n",
    "     display_labels=labels,\n",
    "     cmap=plt.cm.Blues,\n",
    "     normalize='true', # Normalized over the true outcomes (rows)  \n",
    "                       # Shows Type II error rates (FNs)\n",
    "    )\n",
    "disp.ax_.set_title(title0+'estimator, Type II error (FN) rates');\n",
    "\n",
    "# Visualize the confusion matrix (iv)\n",
    "disp = ConfusionMatrixDisplay.from_predictions(\n",
    "     y_test,\n",
    "     y_hat, \n",
    "     display_labels=labels,\n",
    "     cmap=plt.cm.Blues,\n",
    "     normalize='pred', # Normalized over the predictions (columns)   \n",
    "                       # Shows Type I error rates (FPs) \n",
    "    )\n",
    "disp.ax_.set_title(title0+'predictions, Type I error (FP) rates');\n",
    "\n",
    "\n"
   ]
  },
  {
   "cell_type": "markdown",
   "id": "2b6d1844",
   "metadata": {
    "slideshow": {
     "slide_type": "fragment"
    }
   },
   "source": [
    "#### `ConfusionMatrixDisplay` returns an  [sklearn.metrics._plot.confusion_matrix.ConfusionMatrixDisplay object](https://scikit-learn.org/stable/modules/generated/sklearn.metrics.ConfusionMatrixDisplay.html#sklearn.metrics.ConfusionMatrixDisplay)\n"
   ]
  },
  {
   "cell_type": "code",
   "execution_count": 7,
   "id": "706eea20",
   "metadata": {
    "slideshow": {
     "slide_type": "fragment"
    }
   },
   "outputs": [
    {
     "data": {
      "text/plain": [
       "sklearn.metrics._plot.confusion_matrix.ConfusionMatrixDisplay"
      ]
     },
     "execution_count": 7,
     "metadata": {},
     "output_type": "execute_result"
    }
   ],
   "source": [
    "type(disp)"
   ]
  },
  {
   "cell_type": "markdown",
   "id": "6f679018",
   "metadata": {
    "slideshow": {
     "slide_type": "slide"
    }
   },
   "source": [
    "## Numerical Evaluation Metrics"
   ]
  },
  {
   "cell_type": "markdown",
   "id": "4938c6e4",
   "metadata": {
    "slideshow": {
     "slide_type": "slide"
    }
   },
   "source": [
    "### Accuracy \n",
    "\n",
    "|   |   |\n",
    "|:--|:--|\n",
    "| <img src=\"https://github.com/david-biron/DATA221imgs/blob/main/icon_definition.png?raw=true\" width=\"50\" height=\"\"> | The **Accuracy** of a classifier is the ratio of the number of correctly predicted samples by the total number of samples. $$ Accuracy \\equiv \\frac{\\text{No. of correct predictions}}{\\text{Total no. of samples}} $$ |\n",
    "\n",
    " $$ \\text{For a binary classifier: } \\  Accuracy = \\frac{TP+TN}{TP+FP+TN+FN} $$   \n",
    " \n",
    "#### With more than two classes:  \n",
    "\n",
    "* The accuracy score for the model will be the sum of the diagonal (trace) of the confusion matrix divided by the    sum of all its off-diagonal elements. \n",
    "\n",
    "* One could define the accuracy for a specific class (considering any entry not in the rwo and not in the column of the given class as a 'true negative'). However, with many classes there could typically be many TN's such that a high accuracy for a given class may well not be very informative.  "
   ]
  },
  {
   "cell_type": "markdown",
   "id": "02ac2bee",
   "metadata": {
    "slideshow": {
     "slide_type": "fragment"
    }
   },
   "source": [
    "### Accuracy can be misleading (especially if the classes are imbalanced)\n",
    "\n",
    "* Accuracy metric doesn't convey information about False Positive and False Negative, individually. \n",
    "\n",
    "* If, say, 'Gentoo' were $90\\%$ of the labels in the dataset, **always** predicting 'Gentoo' would yield $Accuracy = 0.9$ </br> (since $TP = 0.9 \\times total$ and $TN=0$). This is probably not the best classifier... \n"
   ]
  },
  {
   "cell_type": "code",
   "execution_count": 8,
   "id": "7b605d74",
   "metadata": {
    "slideshow": {
     "slide_type": "fragment"
    }
   },
   "outputs": [
    {
     "name": "stdout",
     "output_type": "stream",
     "text": [
      "Accuracy of the penguin species NB classifier is: 0.98\n"
     ]
    }
   ],
   "source": [
    "import sklearn.metrics as skm\n",
    "\n",
    "# Calculating the accuracy of the penguin species NB classifier\n",
    "print(\"Accuracy of the penguin species NB classifier is: %.2f\"%(skm.accuracy_score(y_test, y_hat)))"
   ]
  },
  {
   "cell_type": "markdown",
   "id": "49a25387",
   "metadata": {
    "slideshow": {
     "slide_type": "subslide"
    }
   },
   "source": [
    "### Precision \n",
    "\n",
    "|   |   |\n",
    "|:--|:--|\n",
    "| <img src=\"https://github.com/david-biron/DATA221imgs/blob/main/icon_definition.png?raw=true\" width=\"50\" height=\"\"> | The **precision** of a classifier is the ratio of true positive predictions and all positive predictions. $$ Precision \\equiv \\frac{\\text{No. of correct positive predictions}}{\\text{Total no. of positive predictions, true or false}} $$ <br/> precision $\\sim$ the probability of a correct predictions **given** 'positive' prediction. |\n",
    "\n",
    " $$ \\text{For a binary classifier: } \\  Precision = \\frac{TP}{TP+FP} $$   \n",
    "\n",
    "<img src=\"https://github.com/david-biron/DATA221imgs/blob/main/PrecisionSchematic.png?raw=true\" width=\"600\">\n",
    "\n",
    "#### With more than two classes:  \n",
    "\n",
    "* A precision score can be calculated for each class (considering any off-diagonal entry on the same column as a 'false positive'). \n",
    "\n",
    "* An **average precision score** can be calculated for the model as a whole (more useful when the precisions for individual classes are 'balanced'). \n"
   ]
  },
  {
   "cell_type": "code",
   "execution_count": 10,
   "id": "1387b9b4",
   "metadata": {
    "scrolled": true,
    "slideshow": {
     "slide_type": "slide"
    }
   },
   "outputs": [
    {
     "name": "stdout",
     "output_type": "stream",
     "text": [
      "Precisionsof the penguin species NB classifier: 1.00, 0.95, and 1.00\n",
      "Global precision of the penguin species NB classifier: 0.99\n",
      "Unweighted mean precision of the penguin species NB classifier: 0.98\n",
      "Weighted mean of precisions of the penguin species NB classifier: 0.99\n"
     ]
    }
   ],
   "source": [
    "import sklearn.metrics as skm\n",
    "\n",
    "str0 = 'of the penguin species NB classifier: '\n",
    "\n",
    "# Calculating the precisions for each class of the penguin \n",
    "# species NB classifier\n",
    "prc = skm.precision_score(y_test, y_hat, average=None)\n",
    "print('Precisions'+str0+'%.2f, %.2f, and %.2f'%(prc[0],prc[1],prc[2]))\n",
    "\n",
    "# Calculating the precision globally by counting the \n",
    "# total true positives and false positives.\n",
    "prc = skm.precision_score(y_test, y_hat, average='micro')\n",
    "print('Global precision '+str0+'%.2f'%prc)\n",
    "\n",
    "# Calculating the precision for each label, and return their \n",
    "# unweighted mean. This does not take label imbalance into account.\n",
    "prc = skm.precision_score(y_test, y_hat, average='macro')\n",
    "print('Unweighted mean precision '+str0+'%.2f'%prc)\n",
    "\n",
    "# Calculating the precision for each label, and return their \n",
    "# weighted mean. This takes label imbalance into account by \n",
    "# weighing each class precision by its support\n",
    "# (the number of true instances for each label).\n",
    "prc = skm.precision_score(y_test, y_hat, average='weighted')\n",
    "print('Weighted mean of precisions '+str0+'%.2f'%prc)\n",
    "\n"
   ]
  },
  {
   "cell_type": "markdown",
   "id": "1a9b646a",
   "metadata": {
    "slideshow": {
     "slide_type": "slide"
    }
   },
   "source": [
    "### Recall\n",
    "\n",
    "|   |   |\n",
    "|:--|:--|\n",
    "| <img src=\"https://github.com/david-biron/DATA221imgs/blob/main/icon_definition.png?raw=true\" width=\"50\" height=\"\"> | The **recall** of a classifier is the ratio of true positive predictions and all actually positive outcomes. $$ Precision \\equiv \\frac{\\text{No. of correct positive predictions}}{\\text{Total no. of positive outcomes, regardless of predictions}} $$ <br/> Recall $\\sim$ the probability of a correct prediction **given** an actually positive outscome.  |\n",
    "\n",
    " $$ \\text{For a binary classifier: } \\  Recall = \\frac{TP}{TP+FN} $$   \n",
    "\n",
    "<img src=\"https://github.com/david-biron/DATA221imgs/blob/main/RecallSchematic.png?raw=true\" width=\"550\">\n",
    "\n",
    "\n",
    "#### With more than two classes:  \n",
    "\n",
    "* A recall score can be calculated for each class (considering any off-diagonal entry on the same column as a 'false positive'). \n",
    "\n",
    "* An **average recall score** can be calculated for the model as a whole (more useful when the precisions for individual classes are 'balanced'). \n"
   ]
  },
  {
   "cell_type": "code",
   "execution_count": 11,
   "id": "19bae0de",
   "metadata": {
    "slideshow": {
     "slide_type": "slide"
    }
   },
   "outputs": [
    {
     "name": "stdout",
     "output_type": "stream",
     "text": [
      "Recalls of the penguin species NB classifier: 0.97, 1.00, and 1.00\n",
      "Global recall of the penguin species NB classifier: 0.99\n",
      "Weighted mean of recalls of the penguin species NB classifier: 0.99\n"
     ]
    }
   ],
   "source": [
    "import sklearn.metrics as skm\n",
    "\n",
    "str0 = 'of the penguin species NB classifier: '\n",
    "\n",
    "# Calculating the recalls for each class of the penguin species NB classifier\n",
    "rcl = skm.recall_score(y_test, y_hat, average=None)\n",
    "print('Recalls '+str0+'%.2f, %.2f, and %.2f'%(rcl[0],rcl[1],rcl[2]))\n",
    "\n",
    "# Calculating the recall globally by counting the total true positives and false negatives.\n",
    "rcl = skm.recall_score(y_test, y_hat, average='micro')\n",
    "print('Global recall '+str0+'%.2f'%rcl)\n",
    "\n",
    "# Calculating the recall for each label, and return their weighted mean. \n",
    "# This takes label imbalance into account by weighing each class precision by its support\n",
    "# (the number of true instances for each label).\n",
    "rcl = skm.recall_score(y_test, y_hat, average='weighted')\n",
    "print('Weighted mean of recalls '+str0+'%.2f'%rcl)\n",
    "\n"
   ]
  },
  {
   "cell_type": "markdown",
   "id": "bc641e66",
   "metadata": {
    "slideshow": {
     "slide_type": "slide"
    }
   },
   "source": [
    "### Precision/recall trade-off \n",
    "\n",
    "Often, modeling choices (hyperparameter values, thresholds, etc.) would yiled classifications with either a high precision and lower recall **or** a high recall and lower precision. \n",
    "\n",
    "<img src=\"https://github.com/david-biron/DATA221imgs/blob/main/PrecisionRecallCurve.png?raw=true\" width=\"400\">\n",
    "\n",
    "$$\\boxed{\\text{Increasing recall $\\leftrightarrow$ decrease precision & vice versa.}}$$\n",
    "\n",
    "### The desired balance depends on context \n",
    "\n",
    "|   |   |\n",
    "|:--|:--|\n",
    "| <img src=\"https://github.com/david-biron/DATA221imgs/blob/main/icon_example.png?raw=true\" width=\"50\" height=\"\"> | A stringent spam filter may favor occasionally sending ham to the Spam folder rather than let spam through. | \n",
    "$\\rightarrow$ | high precision is preferable (less FPs even at the expense of more FNs, assuming 'ham' is 'positive'). |\n",
    "| <img src=\"https://github.com/david-biron/DATA221imgs/blob/main/icon_example.png?raw=true\" width=\"50\" height=\"\"> | When testing for Covid-19 (some) false positives are preferable to false negatives, where treatment is delayed and the virus can spread. | \n",
    "$\\rightarrow$ | high recall is preferable (less FNs even at the expense of some FPs, assuming 'infected' is 'positive'). |\n",
    "\n",
    "\n",
    "\n",
    "\n",
    "\n"
   ]
  },
  {
   "cell_type": "markdown",
   "id": "c92148cc",
   "metadata": {
    "slideshow": {
     "slide_type": "slide"
    }
   },
   "source": [
    "### The F1 score - balancing precision and recall\n",
    "\n",
    "|   |   |\n",
    "|:--|:--|\n",
    "| <img src=\"https://github.com/david-biron/DATA221imgs/blob/main/icon_definition.png?raw=true\" width=\"50\" height=\"\"> | The **F1 score** of a classifier is the harmonic average of the precision and the recall. $$ F1 \\equiv \\frac 1{\\left(\\frac 1{precision} + \\frac 1{recall} \\right) {\\large / 2} } = \\frac{2 \\ precision \\ \\times \\ recall }{precision \\ + \\ recall}$$ \n",
    "\n",
    "\n",
    "\n"
   ]
  },
  {
   "cell_type": "markdown",
   "id": "f16d4d4f",
   "metadata": {
    "slideshow": {
     "slide_type": "slide"
    }
   },
   "source": [
    "#### Why an harmonic average (instead of an arithmetic one)? \n",
    "\n",
    "|   |   |\n",
    "|:--|:--|\n",
    "| <img src=\"https://github.com/david-biron/DATA221imgs/blob/main/icon_example.png?raw=true\" width=\"50\" height=\"\"> | Consider a drive from UC to Northwestern ($20$ miles). In the morning the average speed could be $20 mph$. Late at night &mdash; $40 mph$. If you leave in the morning and return late at night, what would be the **average speed you were driving at**?|\n",
    "\n",
    "</br> \n",
    "\n",
    "</br> \n",
    "\n",
    "</br> \n",
    "\n",
    "</br> \n",
    "\n",
    "</br> \n",
    "\n",
    "</br>\n",
    "\n",
    "</br>\n",
    "\n",
    "$$ \\frac{20+40}2 \\ \\  \\text{ is the wrong answer because only $1/2$ } $$\n",
    "$$\\text{an hour was spent at $40$ mph vs. a full hour at $20$}$$.\n",
    "\n",
    "$$ \\frac 1{\\left( \\frac 1{20} + \\frac 1{40} \\right) {\\large /2}} = \\frac{2 \\times 20 + 1 \\times 40}3\\simeq 26.7 \\ \\ \\text{ takes into account the longer time spent driving slowly.}  $$ \n",
    "\n",
    "#### Generally \n",
    "\n",
    "If two **ratios** have the **same numerator** and **different denominators** then their **harmonic average** is equivalent to a **weighted average**, where the weights are proportional to the denominators (here, the relative contributions of the two driving times to the total diving time):\n",
    "\n",
    "$\\begin{eqnarray} \n",
    "v_1 = \\frac X{t_1} \\ &,& \\ v_2 = \\frac X{t_2} \\\\\n",
    "&\\rightarrow& \\boxed{ \\frac{t_1}{t_1+t_2} v_1 + \\frac{t_2}{t_1+t_2} v_2 } \\\\\n",
    "&& = \\frac{t_1 \\frac X{t_1} + t_2 \\frac X{t_2}}{t_1 + t_2} \\\\\n",
    "&& = \\frac{2X}{t_1 + t_2} \\\\\n",
    "&& = \\frac{2 \\frac X{t_1} \\ \\frac 1{t_2} }{\\frac 1{t_1} + \\frac 1{t_2}} = \\boxed{ \\frac{2\\ v_1 \\ v_2}{v_1+v_2} }\n",
    "\\end{eqnarray}$\n",
    "\n",
    "</br>\n",
    "\n",
    "</br>\n",
    "\n",
    "</br>\n",
    "\n",
    "#### What does this mean for the F1 score?\n",
    "\n",
    "The **F1 score** is the **weighted average** of precision and recall where the weights are:\n",
    "\n",
    "$\\begin{eqnarray} \n",
    "w_{precision} &=& \\frac{TP+FP}{2TP+FP+FN} \\sim \\text{# positive predictions} \\\\ \n",
    "w_{recall} &=& \\frac{TP+FN}{2TP+FP+FN} \\sim \\text{# positive outcomes}\n",
    "\\end{eqnarray}$\n",
    "\n",
    "\n",
    "\n",
    "* Many positive predictions including many $FP$s will drag precision down **and** increase the weight of precision in the F1 score. \n",
    "\n",
    "* Many positive outcomes and many $FN$s will drag recall down **and** increrase the weight of recall in the F1 score. \n"
   ]
  },
  {
   "cell_type": "code",
   "execution_count": 13,
   "id": "6a46bc4f",
   "metadata": {
    "slideshow": {
     "slide_type": "slide"
    }
   },
   "outputs": [
    {
     "name": "stdout",
     "output_type": "stream",
     "text": [
      "F1 scores of the species NB classifier: 0.99, 0.97, and 1.00\n",
      "Weighted Mean F1 score of the species NB classifier: 0.99\n"
     ]
    }
   ],
   "source": [
    "import sklearn.metrics as skm\n",
    "\n",
    "str0 = ' of the species NB classifier: '\n",
    "# Calculating the F1 scores for the penguin species NB classifier\n",
    "f1s = skm.f1_score(y_test, y_hat, average=None)\n",
    "print('F1 scores'+str0+'%.2f, %.2f, and %.2f'%(f1s[0],f1s[1],f1s[2]))\n",
    "\n",
    "# Calculating the F1 score for each label, and return their weighted mean. \n",
    "# This takes label imbalance into account by weighing each class precision by its support\n",
    "# (the number of true instances for each label).\n",
    "f1s = skm.f1_score(y_test, y_hat, average='weighted')\n",
    "print('Weighted Mean F1 score'+str0+'%.2f'%f1s)\n",
    "\n"
   ]
  },
  {
   "cell_type": "markdown",
   "id": "9ec6da0c",
   "metadata": {
    "slideshow": {
     "slide_type": "slide"
    }
   },
   "source": [
    "### The Receiver Operator Characteristic (ROC) curve and the Area Under this Curve (AUC)\n",
    "\n",
    "By default, a binary classifier would assign labels using a $p=0.5$ threshold:\n",
    "\n",
    "|    | Calculated probability $> 0.5$ | Calculated probability $< 0.5$ |\n",
    "|:--:|:------------------------------:|:------------------------------:|\n",
    "| **Prediction:** | 1 | 0 | \n",
    "\n",
    "\n",
    "What if a higher or lower probability threshold is better? \n",
    "\n",
    "For instance, when data are balanced the ideal threshold is often $0.5$. </br> \n",
    "When the data are imbalanced, a different threshold could be more sensible. \n",
    "\n",
    "<br/> \n",
    "\n",
    "\n",
    "|   |   |\n",
    "|:--|:--|\n",
    "| <img src=\"https://github.com/david-biron/DATA221imgs/blob/main/icon_definition.png?raw=true\" width=\"50\" height=\"\"> | The **ROC curve** is obtained from plotting the false positive rate (FPR) against the true positive rate (TPR) for different tresholds (or meta-parameters). | \n",
    "\n",
    "$$ FPR = \\frac{\\text{False Positives}}{\\text{All Negative OUTCOMES}} = \\frac{FP}{FP+TN} $$ \n",
    "$$ TPR = recall = \\frac{\\text{True Positives}}{\\text{All Positive OUTCOMES}} = \\frac{TP}{TP+FN} $$ \n",
    "<br/> \n",
    "\n",
    "### The ROC can be used in two ways: \n",
    "\n",
    "\n",
    "|   |   |\n",
    "|:--|:--|\n",
    "| <img src=\"https://github.com/david-biron/DATA221imgs/blob/main/ROC_Curve.png?raw=true\" width=\"500\"> | A random classifier will dish out TPs and FPs at the same rate. </br> </br> A decent classifier should do better. </br>  </br>  </br>   $\\underline{\\text{To select a meta-parameter value:}}$ </br>  </br> The desired balance between the TPR and FPS ('how many FPs are worth the increase in TPs') can be gleaned from the curve. </br>  </br>  </br>   $\\underline{\\text{To compare different models:}}$ </br>  </br> A faster rising ROC </br> $\\rightarrow$  **larger the AUC** </br> $\\ \\ \\ \\ \\ $ and </br> $\\ \\ \\ \\ \\ $ **higher TPRs for the same FPRs**. | \n",
    "\n",
    "<br/>\n",
    "\n",
    "Reminder: \n",
    "\n",
    "* The Area Under the roc Curve (AUC) is between $0$ and $1$. \n",
    "\n",
    "\n",
    "$$\\begin{eqnarray}  \n",
    "\\text{FPR} = \\frac{\\text{False Positives}}{\\text{All Actual Negatives}}  &  \\ , \\ & \\text{TPR} = \\frac{\\text{True Positives}}{\\text{All Actual Positives}} \\\\ \n",
    "&& \\\\ \n",
    "\\theta=0 \\ \\stackrel{\\text{Random Classifier}}{\\longrightarrow} \\hspace{7mm} 1 \\hspace{15mm} &  \\ , \\ & \\hspace{15mm} 1 \\\\ \n",
    "\\theta=1 \\ \\stackrel{\\text{Random Classifier}}{\\longrightarrow} \\hspace{7mm} 0 \\hspace{15mm} &  \\ , \\ & \\hspace{15mm} 0 \\\\ \n",
    "\\theta=\\frac 12 \\ \\stackrel{\\text{Random Classifier}}{\\longrightarrow} \\hspace{7mm} \\frac 12 \\hspace{15mm} &  \\ , \\ & \\hspace{15mm} \\frac 12 \\\\ \n",
    "\\theta=\\theta_0 \\ \\stackrel{\\text{Random Classifier}}{\\longrightarrow} \\hspace{7mm} 1-\\theta_0 \\hspace{12mm} &  \\ , \\ & \\hspace{12mm} 1-\\theta_0 \\hspace{15mm} \\text{ (Why?)}\n",
    "\\end{eqnarray}\n",
    "$$\n",
    "\n",
    "\n",
    "<br/>\n",
    "\n",
    "|   |   |\n",
    "|:--|:--|\n",
    "<img src=\"https://github.com/david-biron/DATA221imgs/blob/main/icon_comment.png?raw=true\" width=\"50\"> | The Area Under the ROC is related to how robust the model is across decision thresholds. A larger area would imply that a higher TPR can be achieved while maintaining a comparable FPR. | "
   ]
  },
  {
   "cell_type": "markdown",
   "id": "a2494d11",
   "metadata": {
    "slideshow": {
     "slide_type": "slide"
    }
   },
   "source": [
    "### ROC/AUC using sklearn\n",
    "\n",
    "\n",
    "\n"
   ]
  },
  {
   "cell_type": "markdown",
   "id": "32a1079a",
   "metadata": {
    "slideshow": {
     "slide_type": "fragment"
    }
   },
   "source": [
    "#### Note: \n",
    "\n",
    "The `predict_proba` (as opposed to `predict`) provides **probabilities** that a sample falls under a given category. \n",
    "\n"
   ]
  },
  {
   "cell_type": "markdown",
   "id": "a0235a4d",
   "metadata": {
    "slideshow": {
     "slide_type": "fragment"
    }
   },
   "source": [
    "#### Note: \n",
    "\n",
    "The docs for `roc_curve` state: \"this implementation is restricted to the **binary** classification task.\"\n",
    "\n",
    "Also, the `roc_curve` method expects a single feature (one of the two possible classes). \n",
    "\n",
    "Suppose we care about the predicted probabilities of Chinstraps vs. non-Chinstraps </br> \n",
    "(this way we can use the built-in `roc_curve` method rather than code one ourselves):"
   ]
  },
  {
   "cell_type": "code",
   "execution_count": 21,
   "id": "42884a1a",
   "metadata": {
    "slideshow": {
     "slide_type": "slide"
    }
   },
   "outputs": [
    {
     "name": "stdout",
     "output_type": "stream",
     "text": [
      "First testing datapoint: \n",
      "     Beak Length (mm)  Beak Depth (mm)  Flipper Length (mm)  Body Mass (g)\n",
      "33              40.9             18.9                184.0         3900.0\n",
      "Model prediction:  [0.07012064 0.92987936] \n",
      "\n",
      "Model class labels:  ['Chinstrap' 'Non-Chinstrap'] \n",
      "\n"
     ]
    }
   ],
   "source": [
    "from sklearn.model_selection import train_test_split\n",
    "from sklearn.naive_bayes import GaussianNB\n",
    "\n",
    "binary_penguins = penguins.copy() \n",
    "binary_penguins.loc[binary_penguins.Species==\\\n",
    "                    'Adelie', 'Species'] = 'Non-Chinstrap'\n",
    "binary_penguins.loc[binary_penguins.Species==\\\n",
    "                    'Gentoo', 'Species'] = 'Non-Chinstrap'\n",
    "binary_penguins.head()\n",
    "\n",
    "predictors = binary_penguins.columns[1:]\n",
    "outcome = binary_penguins.columns[0]\n",
    "\n",
    "###############################################\n",
    "# Split data to training and testing datasets #\n",
    "###############################################\n",
    "X_train, X_test, y_train, y_test = \\\n",
    "    train_test_split(binary_penguins[predictors], \n",
    "                     binary_penguins[outcome], test_size=0.25) \n",
    "\n",
    "##############################################\n",
    "# Initialize an instance of the model object #\n",
    "##############################################\n",
    "model = GaussianNB()\n",
    "\n",
    "##########################################\n",
    "# Train the model / fit model parameters #\n",
    "##########################################\n",
    "model.fit(X_train, y_train)\n",
    "\n",
    "\n",
    "#######################################\n",
    "# Predict PROBABILITES with the model #\n",
    "#######################################\n",
    "p_hat = model.predict_proba(X_test) # return probabilities\n",
    "                                    # rather than a decision\n",
    "\n",
    "##################\n",
    "# Test the model #\n",
    "##################\n",
    "print('First testing datapoint: \\n', pd.DataFrame(X_test.iloc[0,:]).T)\n",
    "print('Model prediction: ', p_hat[0], '\\n')\n",
    "print('Model class labels: ', model.classes_, '\\n')\n",
    "\n",
    "\n"
   ]
  },
  {
   "cell_type": "code",
   "execution_count": 22,
   "id": "44696ad2",
   "metadata": {
    "slideshow": {
     "slide_type": "slide"
    }
   },
   "outputs": [
    {
     "data": {
      "image/png": "[encoded data removed]",
      "text/plain": [
       "<Figure size 640x480 with 1 Axes>"
      ]
     },
     "metadata": {},
     "output_type": "display_data"
    }
   ],
   "source": [
    "from matplotlib import pyplot as plt\n",
    "plt.style.use('fivethirtyeight')\n",
    "from sklearn.metrics import roc_curve\n",
    "from sklearn.metrics import auc\n",
    "\n",
    "chinstrap_probs = p_hat[:,0]\n",
    "fpr, tpr, thresholds = roc_curve(y_test, chinstrap_probs, \n",
    "                                 pos_label='Chinstrap') # will try \n",
    "                                                        # different \n",
    "                                                        # thresholds\n",
    "roc_auc = auc(fpr, tpr) # AREA under the curve\n",
    "\n",
    "plt.title('Receiver Operating Characteristic')\n",
    "plt.plot(fpr, tpr, 'y', label='AUC = %0.2f'%roc_auc)\n",
    "plt.legend(loc='lower right')\n",
    "plt.plot([0, 1], [0, 1],'r--') # Random classifier\n",
    "plt.xlim([0, 1]), plt.ylim([0, 1])\n",
    "plt.ylabel('True Positive Rate')\n",
    "plt.xlabel('False Positive Rate')\n",
    "plt.show()"
   ]
  },
  {
   "cell_type": "code",
   "execution_count": 24,
   "id": "1e04d1c9",
   "metadata": {
    "slideshow": {
     "slide_type": "slide"
    }
   },
   "outputs": [
    {
     "name": "stdout",
     "output_type": "stream",
     "text": [
      "Indices where TPR ~ 0.75 are: [2 3]\n",
      "FPRs at these thresholds are: [0.   0.02]\n",
      "A reasonable choice for a threshold: 0.264\n",
      "\n",
      "Indices where TPR ~ 0.85 are: [6 7]\n",
      "FPRs at these thresholds are: [0.03 0.05]\n",
      "A reasonable choice for a threshold: 0.124\n",
      "\n"
     ]
    }
   ],
   "source": [
    "def look_at_thresholds(adt, y_test, chinstrap_probs, \n",
    "                       pos_label='Chinstrap'): \n",
    "    '''\n",
    "    Input: an approximately desired True Positive Rate\n",
    "    Output: the corresponding threshold that gives the lowest \n",
    "            False Positive Rate (leftmost point on the ROC curve \n",
    "            at the given height) as well as pringting out some \n",
    "            information. \n",
    "    '''\n",
    "    fpr, tpr, thresholds = roc_curve(y_test, chinstrap_probs, \n",
    "                                 pos_label='Chinstrap') # will try \n",
    "                                                        # different \n",
    "                                                        # thresholds\n",
    "    dist = np.abs(tpr - adt)      \n",
    "    best_indices = np.where(dist==dist.min())[0] # where returns \n",
    "                                                 # a tuple\n",
    "    best_threshold = thresholds[best_indices[0]]\n",
    "    print(f'Indices where TPR ~ {adt} are:', best_indices)\n",
    "    print('FPRs at these thresholds are:', \\\n",
    "          np.round(fpr[best_indices],2))\n",
    "    print('A reasonable choice for a threshold: %.3f\\n'%best_threshold)\n",
    "    return(best_threshold)\n",
    "\n",
    "approx_desired_trp = 0.75 \n",
    "_ = look_at_thresholds(approx_desired_trp, y_test, chinstrap_probs)\n",
    "\n",
    "approx_desired_trp = 0.85\n",
    "_ = look_at_thresholds(approx_desired_trp, y_test, chinstrap_probs)\n",
    "\n",
    "\n"
   ]
  },
  {
   "cell_type": "code",
   "execution_count": 30,
   "id": "bba9c240",
   "metadata": {
    "slideshow": {
     "slide_type": "slide"
    }
   },
   "outputs": [
    {
     "name": "stdout",
     "output_type": "stream",
     "text": [
      "Higher TPR at the expense of some FPs\n",
      "    (and slightly lower F1 score):\n",
      "Threshold = 0.174\n",
      "F1 scores of the binary penguin NB classifier: 0.96 and 0.87\n",
      "TPR = 0.810  ,  FPR = 0.031\n",
      "\n",
      "Higher F1 score (and no FPs) at the expense of a lower TPR:\n",
      "Threshold = 0.667\n",
      "F1 scores of the binary penguin NB classifier: 0.92 and 0.65\n",
      "TPR = 0.048  ,  FPR = 0.000\n",
      "\n"
     ]
    }
   ],
   "source": [
    "y_outcome = [outcome=='Chinstrap' for outcome in y_test]\n",
    "\n",
    "str0 = 'the binary penguin NB classifier'\n",
    "def test_threshold(th): \n",
    "    '''\n",
    "    Input: threshold. \n",
    "    Output: just print corresponding F1 scores. \n",
    "    '''\n",
    "    y_hat = [p[0]>=chosen_threshold for p in p_hat]\n",
    "    f1s = skm.f1_score(y_outcome, y_hat, average=None)\n",
    "    print('Threshold = %.3f'%th)\n",
    "    print('F1 scores of '+str0+': %.2f and %.2f'%(f1s[0],f1s[1]))\n",
    "    \n",
    "    chosen_index = np.abs(thresholds - th).argmin()\n",
    "    chosen_tpr, chosen_fpr = tpr[chosen_index], fpr[chosen_index]\n",
    "    print('TPR = %.3f  ,  FPR = %.3f\\n'%(chosen_tpr,chosen_fpr))\n",
    "    \n",
    "\n",
    "print('Higher TPR at the expense of some FPs')\n",
    "print('    (and slightly lower F1 score):')    \n",
    "chosen_threshold = 0.174\n",
    "test_threshold(chosen_threshold)\n",
    "\n",
    "print('Higher F1 score (and no FPs) at the expense of a lower TPR:')    \n",
    "chosen_threshold = 0.667\n",
    "test_threshold(chosen_threshold)\n",
    "\n",
    "\n"
   ]
  },
  {
   "cell_type": "markdown",
   "id": "5da310df",
   "metadata": {
    "slideshow": {
     "slide_type": "slide"
    }
   },
   "source": [
    "|   |   |\n",
    "|:--|:--|\n",
    "| <img src=\"https://github.com/david-biron/DATA221imgs/blob/main/icon_comment.png?raw=true\" width=\"50\" height=\"\"> | **In summary:** </br>  | \n",
    "* The choice of evaluation metrics would depend on the specifics and/or context of the problem. \n",
    "* Naively using accuracy when the model was trained on imbalanced data is misleading: it suggests the model performs better than it actually does.  \n",
    "* For classifiers, the F1 score or the ROC curve are often standard measures of performance.\n",
    "\n",
    "\n"
   ]
  },
  {
   "cell_type": "code",
   "execution_count": null,
   "id": "826bbc7d",
   "metadata": {},
   "outputs": [],
   "source": []
  }
 ],
 "metadata": {
  "celltoolbar": "Slideshow",
  "kernelspec": {
   "display_name": "Python 3 (ipykernel)",
   "language": "python",
   "name": "python3"
  },
  "language_info": {
   "codemirror_mode": {
    "name": "ipython",
    "version": 3
   },
   "file_extension": ".py",
   "mimetype": "text/x-python",
   "name": "python",
   "nbconvert_exporter": "python",
   "pygments_lexer": "ipython3",
   "version": "3.9.6"
  },
  "varInspector": {
   "cols": {
    "lenName": 16,
    "lenType": 16,
    "lenVar": 40
   },
   "kernels_config": {
    "python": {
     "delete_cmd_postfix": "",
     "delete_cmd_prefix": "del ",
     "library": "var_list.py",
     "varRefreshCmd": "print(var_dic_list())"
    },
    "r": {
     "delete_cmd_postfix": ") ",
     "delete_cmd_prefix": "rm(",
     "library": "var_list.r",
     "varRefreshCmd": "cat(var_dic_list()) "
    }
   },
   "types_to_exclude": [
    "module",
    "function",
    "builtin_function_or_method",
    "instance",
    "_Feature"
   ],
   "window_display": false
  }
 },
 "nbformat": 4,
 "nbformat_minor": 5
}
