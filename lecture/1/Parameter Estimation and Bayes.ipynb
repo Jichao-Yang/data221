{
 "cells": [
  {
   "cell_type": "code",
   "execution_count": 2,
   "id": "19888dd5",
   "metadata": {
    "slideshow": {
     "slide_type": "skip"
    }
   },
   "outputs": [],
   "source": [
    "import numpy as np \n",
    "import pandas as pd\n",
    "import numpy.random as rn\n",
    "import matplotlib.pyplot as plt \n",
    "import seaborn as sns"
   ]
  },
  {
   "cell_type": "markdown",
   "id": "d4b3e5ef",
   "metadata": {
    "slideshow": {
     "slide_type": "slide"
    }
   },
   "source": [
    "## Example: Symptoms of sleep deprivation\n",
    "\n"
   ]
  },
  {
   "cell_type": "code",
   "execution_count": 3,
   "id": "c167e704",
   "metadata": {
    "slideshow": {
     "slide_type": "fragment"
    }
   },
   "outputs": [
    {
     "data": {
      "text/html": [
       "<div>\n",
       "<style scoped>\n",
       "    .dataframe tbody tr th:only-of-type {\n",
       "        vertical-align: middle;\n",
       "    }\n",
       "\n",
       "    .dataframe tbody tr th {\n",
       "        vertical-align: top;\n",
       "    }\n",
       "\n",
       "    .dataframe thead th {\n",
       "        text-align: right;\n",
       "    }\n",
       "</style>\n",
       "<table border=\"1\" class=\"dataframe\">\n",
       "  <thead>\n",
       "    <tr style=\"text-align: right;\">\n",
       "      <th></th>\n",
       "      <th>Slowed thinking</th>\n",
       "      <th>Reduced attention span</th>\n",
       "      <th>Worsened memory</th>\n",
       "      <th>Risky decision-making</th>\n",
       "      <th>Lack of energy</th>\n",
       "      <th>Mood changes</th>\n",
       "      <th>Sleep Deprived</th>\n",
       "    </tr>\n",
       "  </thead>\n",
       "  <tbody>\n",
       "    <tr>\n",
       "      <th>0</th>\n",
       "      <td>Mild</td>\n",
       "      <td>None</td>\n",
       "      <td>Mild</td>\n",
       "      <td>None</td>\n",
       "      <td>None</td>\n",
       "      <td>Severe</td>\n",
       "      <td>No</td>\n",
       "    </tr>\n",
       "    <tr>\n",
       "      <th>1</th>\n",
       "      <td>None</td>\n",
       "      <td>Severe</td>\n",
       "      <td>Mild</td>\n",
       "      <td>None</td>\n",
       "      <td>Severe</td>\n",
       "      <td>None</td>\n",
       "      <td>No</td>\n",
       "    </tr>\n",
       "    <tr>\n",
       "      <th>2</th>\n",
       "      <td>None</td>\n",
       "      <td>Mild</td>\n",
       "      <td>None</td>\n",
       "      <td>Mild</td>\n",
       "      <td>Mild</td>\n",
       "      <td>Severe</td>\n",
       "      <td>No</td>\n",
       "    </tr>\n",
       "    <tr>\n",
       "      <th>3</th>\n",
       "      <td>None</td>\n",
       "      <td>None</td>\n",
       "      <td>Mild</td>\n",
       "      <td>Severe</td>\n",
       "      <td>Mild</td>\n",
       "      <td>Mild</td>\n",
       "      <td>No</td>\n",
       "    </tr>\n",
       "    <tr>\n",
       "      <th>4</th>\n",
       "      <td>None</td>\n",
       "      <td>Severe</td>\n",
       "      <td>None</td>\n",
       "      <td>Severe</td>\n",
       "      <td>Severe</td>\n",
       "      <td>Severe</td>\n",
       "      <td>Yes</td>\n",
       "    </tr>\n",
       "  </tbody>\n",
       "</table>\n",
       "</div>"
      ],
      "text/plain": [
       "  Slowed thinking Reduced attention span Worsened memory  \\\n",
       "0            Mild                   None            Mild   \n",
       "1            None                 Severe            Mild   \n",
       "2            None                   Mild            None   \n",
       "3            None                   None            Mild   \n",
       "4            None                 Severe            None   \n",
       "\n",
       "  Risky decision-making Lack of energy Mood changes Sleep Deprived  \n",
       "0                  None           None       Severe             No  \n",
       "1                  None         Severe         None             No  \n",
       "2                  Mild           Mild       Severe             No  \n",
       "3                Severe           Mild         Mild             No  \n",
       "4                Severe         Severe       Severe            Yes  "
      ]
     },
     "execution_count": 3,
     "metadata": {},
     "output_type": "execute_result"
    }
   ],
   "source": [
    "# Sleep deprivation symptoms and class (Yes/No sleep deprived data): \n",
    "sleep_dep_df = pd.DataFrame({\n",
    "    'Slowed thinking': [\n",
    "        'Mild',   'None', 'None',   'None',   'None',   'None',   'Severe', 'Mild',   'Severe', 'None', \n",
    "        'None',   'None', 'Severe', 'Severe', 'Severe', 'Mild',   'Mild',   'Mild',   'Severe', 'None',\n",
    "        'Severe', 'None', 'Mild',   'None',   'None',   'Severe', 'Mild',   'None',   'Mild',   'Severe', \n",
    "        'None',   'None', 'Severe', 'Severe', 'Mild',   'None',   'Severe', 'Mild',   'Severe', 'None', \n",
    "        'Mild',   'None', 'Severe', 'Severe', 'None',   'None',   'None',   'Severe', 'Mild',   'None'\n",
    "    ], \n",
    "    'Reduced attention span': [\n",
    "        'None',   'Severe', 'Mild',   'None',   'Severe', 'Severe', 'None',   'None',   'None',   'Mild',\n",
    "        'Severe', 'None',   'Mild',   'Severe', 'None',   'Severe', 'Severe', 'Severe', 'None',   'Severe',\n",
    "        'Mild',   'None',   'Severe', 'Mild',   'Mild',   'Severe', 'Mild',   'None',   'Severe', 'None', \n",
    "        'None',   'Mild',   'Severe', 'None',   'Severe', 'None',   'Severe', 'Severe', 'Severe', 'Severe', \n",
    "        'Severe', 'None',   'Mild',   'None',   'Severe', 'Severe', 'None',   'Mild',   'Mild',   'None'\n",
    "    ],\n",
    "    'Worsened memory': [\n",
    "        'Mild',   'Mild',   'None',   'Mild',   'None',   'Mild',  'Severe',  'Severe', 'Mild',   'Mild', \n",
    "        'Severe', 'Mild',   'Severe', 'None',   'Mild',   'None',  'Severe',  'None',   'None',   'Mild',\n",
    "        'None',   'None',   'Mild',   'Severe', 'Severe', 'Mild',  'Mild',    'Severe', 'Severe', 'Mild', \n",
    "        'Severe', 'Severe', 'Mild',   'Severe', 'Severe', 'None',  'Severe',  'Severe', 'None',   'None', \n",
    "        'None',   'Mild',   'None',   'None',   'None',   'Severe', 'Severe', 'Mild',   'None',   'Severe'  \n",
    "    ],\n",
    "    'Risky decision-making': [\n",
    "        'None',   'None',   'Mild', 'Severe', 'Severe', 'Mild',   'Severe', 'None',   'None',   'Severe', \n",
    "        'None',   'Severe', 'Mild', 'Severe', 'None',   'Severe', 'Severe', 'None',   'Severe', 'Mild',\n",
    "        'Severe', 'None',   'None',   'Mild', 'None',   'None',   'Severe', 'None',   'None',   'Mild', \n",
    "        'Mild',   'Severe', 'Severe', 'Mild', 'None',   'Mild',   'Mild',   'None',   'Severe', 'Severe', \n",
    "        'None',   'Mild',   'Severe', 'None', 'None',   'Mild',   'Severe', 'Severe', 'None',   'Mild'  \n",
    "    ],\n",
    "    'Lack of energy': [\n",
    "        'None',   'Severe', 'Mild',   'Mild',  'Severe', 'None',   'Severe', 'Mild',   'Severe', 'None', \n",
    "        'Mild',   'None',   'Severe', 'Severe','None',   'Mild',   'None',   'Severe', 'Severe', 'Severe',\n",
    "        'None',   'Severe', 'Mild',   'None',  'Severe', 'Severe', 'None',   'Mild',   'Severe', 'Mild', \n",
    "        'Severe', 'None',   'Mild',   'None',  'Mild',   'None',   'Mild',   'None',   'Mild',  'Severe', \n",
    "        'None',   'Severe', 'Severe', 'Mild', 'Severe',  'Severe', 'Severe', 'Severe', 'Severe', 'Severe'  \n",
    "    ],\n",
    "    'Mood changes': [\n",
    "        'Severe', 'None',   'Severe', 'Mild',   'Severe', 'Mild',   'Severe', 'Mild', 'None',   'None', \n",
    "        'Mild',   'Severe', 'None',   'Severe', 'None',   'None',   'Mild',   'None', 'Mild',   'Mild',\n",
    "        'None',   'Mild',   'None',   'Mild',   'Severe', 'Mild',   'None',   'Mild', 'None',   'None', \n",
    "        'None',   'Mild',   'Mild',   'None',   'None',   'None',   'None',   'None', 'Severe', 'None', \n",
    "        'None',   'None',   'None',   'Mild',   'Severe', 'Severe', 'Mild',   'Mild', 'None',   'None'\n",
    "    ],\n",
    "    'Sleep Deprived': ['No',  'No', 'No', 'No', 'Yes', 'No',  'Yes', 'Yes', 'Yes', 'No', \n",
    "                       'Yes', 'No', 'Yes', 'Yes', 'No',  'Yes', 'No',  'No',  'Yes', 'Yes',\n",
    "                       'No',  'No', 'Yes', 'Yes', 'No', 'Yes', 'Yes', 'No',  'Yes', 'Yes',\n",
    "                       'Yes',  'Yes', 'Yes', 'No', 'Yes', 'No',  'Yes', 'No',  'Yes', 'Yes', \n",
    "                       'No',  'No',  'Yes', 'No',  'No', 'Yes', 'Yes', 'Yes', 'No',  'Yes'\n",
    "                      ]\n",
    "})\n",
    "\n",
    "sleep_dep_df.head()\n",
    "\n"
   ]
  },
  {
   "cell_type": "markdown",
   "id": "1af964f7",
   "metadata": {
    "slideshow": {
     "slide_type": "slide"
    }
   },
   "source": [
    "## A new person comes along with a list of symptoms. <br/> Are they sleep deprived?\n",
    "\n",
    "### We want a model for *conditional probabilities* \n",
    "\n",
    "I.e., the probability of being sleep deprived **given** the symptoms: \n",
    "\n",
    "$${\\large P_\\theta(\\text{Sleep Deprived} \\mid symptom_1, symptom_2, symptom_3, \\dots)}$$\n",
    "\n",
    "* The model has **parameters** $\\theta$\n",
    "* The symptoms are the **features**\n",
    "* Sleep Deprived is the **discrete label** (that we wish to predict)\n"
   ]
  },
  {
   "cell_type": "markdown",
   "id": "1983cccc",
   "metadata": {
    "slideshow": {
     "slide_type": "slide"
    }
   },
   "source": [
    "### Naive Bayes classifiers begin with Bayes rule...\n",
    "${\\large P_\\theta(\\text{Sleep Deprived} \\mid symptom_1, symptom_2, symptom_3, \\dots) \\overbrace{=}^{\\text{Bayes}} }$\n",
    "\n",
    "</br> \n",
    "\n",
    "\n",
    "$$ \\frac{\\overbrace{P_\\theta( symptom_1, symptom_2, symptom_3, \\dots \\mid \\text{Sleep Deprived})}^{\\text{\"class conditional probability\"}} \\, \\, P_\\theta(\\text{Sleep Deprived})}{P_\\theta(symptom_1, symptom_2, symptom_3,\\dots)}$$\n",
    "\n",
    "<br>\n",
    "\n",
    "* To see how it works, we will first discuss:  \n",
    "    * Parameter estimation (fitting parameters given data)  \n",
    "    * The Bayes Identity \n",
    "    * Likelihood"
   ]
  },
  {
   "cell_type": "markdown",
   "id": "2b3c1bfc",
   "metadata": {
    "slideshow": {
     "slide_type": "slide"
    }
   },
   "source": [
    "## Parameter estimation by optimizing a custom loss function\n",
    "\n",
    "* One step common to most ML algorithms is to estimate ('fit') parameters from data. \n",
    "\n",
    "* Parameter estimation is also quite useful in and of itself, i.e., outside of the ML context. \n",
    "\n"
   ]
  },
  {
   "cell_type": "markdown",
   "id": "167a3e77",
   "metadata": {
    "slideshow": {
     "slide_type": "slide"
    }
   },
   "source": [
    "### Example: exponential distribution\n",
    "\n",
    "The number of minutes between customers who enter a shop can be modeled by the exponential distribution.\n",
    "\n",
    "Define the *interarrival time* of the $i$ th customer to be $Y_i$ (minutes).\n",
    "\n",
    "We can write that $Y_i$ is a *random variable* with an [exponential distribution](https://en.wikipedia.org/wiki/Exponential_distribution) as\n",
    "\n",
    "$${\\large Y_i \\sim \\textrm{Exponential}(\\tau)}$$\n",
    "\n",
    "where $\\tau > 0$ is the *rate parameter*.\n",
    "\n",
    "The probability (density) of $Y_i$ taking the value of $y$ (minutes) is:\n",
    "\n",
    "$${\\large  P(Y_i = y \\mid \\tau) = \\tfrac 1\\tau \\exp\\left(-\\tfrac{y}{\\tau}\\right)}$$\n",
    "\n",
    "<!-- ${\\large \\frac 1\\tau e^{-t/\\tau}}$ where $t=0$ every time a customer comes in.  -->\n",
    "\n",
    "* The average time between customers is $\\tau$ minutes. \n",
    "\n",
    "* The probability that the gap between two customer would be, say, between $3$ and $10$ minutes is $\\int_3^{10} \\frac 1\\tau e^{-y/\\tau} dy$.\n",
    "* The probability that the gap between two customer would be, say, between $3$ and $3.01$ minutes is $\\int_3^{3.01} \\frac 1\\tau e^{-y/\\tau} dy \\simeq \\frac 1\\tau e^{-3/\\tau} \\times 0.01$\n",
    "\n",
    "\n"
   ]
  },
  {
   "cell_type": "code",
   "execution_count": 4,
   "id": "fc4a3c6f",
   "metadata": {
    "slideshow": {
     "slide_type": "slide"
    }
   },
   "outputs": [
    {
     "data": {
      "image/png": "[encoded data removed]",
      "text/plain": [
       "<Figure size 640x480 with 1 Axes>"
      ]
     },
     "metadata": {},
     "output_type": "display_data"
    }
   ],
   "source": [
    "bins = 50\n",
    "for tau in [1, 5, 10]:\n",
    "    Y_N = rn.exponential(scale=1/tau, size=1000)  \n",
    "    _, bins, _ = plt.hist(Y_N, label=f'$\\\\tau={tau}$', \n",
    "                          alpha=0.5, bins=bins)\n",
    "\n",
    "_ = plt.xlabel('Interarrival time ($Y$)')\n",
    "_ = plt.ylabel('Frequency')\n",
    "_ = plt.legend();"
   ]
  },
  {
   "cell_type": "markdown",
   "id": "35cafc4c",
   "metadata": {
    "slideshow": {
     "slide_type": "slide"
    }
   },
   "source": [
    "### Rare (independent) events often exhibit exponential interarrival times\n",
    "\n",
    "#### Famous example: **Intervals between Prussian horse-kick deaths** ([Bortkiewicz 1898](https://en.wikipedia.org/wiki/Ladislaus_Bortkiewicz))\n"
   ]
  },
  {
   "cell_type": "markdown",
   "id": "0f3bfa26",
   "metadata": {
    "slideshow": {
     "slide_type": "fragment"
    }
   },
   "source": [
    "<img src=\"https://github.com/david-biron/DATA221imgs/blob/main/prussian.png?raw=true\" width=\"300\">\n",
    "\n",
    "_\"Create an image of Prussian horse-kick deaths as an example of exponentially distributed interarrival times\"_"
   ]
  },
  {
   "cell_type": "markdown",
   "id": "ff0cc482",
   "metadata": {
    "slideshow": {
     "slide_type": "slide"
    }
   },
   "source": [
    "## Problem: we do not know that value of $\\tau$. "
   ]
  },
  {
   "cell_type": "markdown",
   "id": "f4a59b33",
   "metadata": {
    "slideshow": {
     "slide_type": "fragment"
    }
   },
   "source": [
    "### Data driven solutions: record the interarrival times between customers and estimate $\\tau$. \n",
    "\n",
    "$${\\large y_1, \\dots, y_n}$$\n",
    "\n",
    "Then find \n",
    "\n",
    "$${\\large \\tau^* \\leftarrow \\textrm{argmax}_\\tau \\,\\,P(y_1, \\dots, y_n \\mid \\tau)}$$\n",
    "\n",
    "* The data $+$ the model provide a function which, in this case, **peaks when the observed data is most probable**. In other words: $\\tau$ that maximizes this function will be the optimal choice given our data. \n",
    "\n",
    "* We will refer to this function as the **likelihood** of observingthe data given some value of $\\tau$. \n",
    "\n",
    "* **Note:** `scipy` has a function that minimizes, so we can multiply by $-1$ and then the optimal $\\tau$ will be at the minimum of our function. \n",
    "\n",
    "* **Note:** \n",
    "    * It is mathematically/computationally convenient to $\\log$ the function (more on that later). \n",
    "    * The $\\log$ transformation is monotonic so it won't change where (at which $\\tau$) the maximum/minimum is.  \n",
    "    * $\\log(xy) = \\log(x)+\\log(y) \\ \\ \\ \\rightarrow \\ \\ \\ \\log\\left( \\prod_i p_i \\right) = \\sum_i \\log\\left(p_i\\right) $\n",
    "\n",
    "* After adding a minus sign and the $\\log()$, the function we minimize is called the **negative log likelihood** \n",
    "\n",
    "\n",
    "\n"
   ]
  },
  {
   "cell_type": "markdown",
   "id": "70c3aafe",
   "metadata": {
    "slideshow": {
     "slide_type": "slide"
    }
   },
   "source": [
    "### The negative log likelihood (NLL) is:"
   ]
  },
  {
   "cell_type": "markdown",
   "id": "b5b863ec",
   "metadata": {
    "slideshow": {
     "slide_type": "fragment"
    }
   },
   "source": [
    "$$\\begin{align}\n",
    "\\textrm{NLL} &= -\\log \\prod_{i=1}^n P(Y_i=y_i \\mid \\tau) \\\\\n",
    "&= -\\sum_{i=1}^n \\log P(Y_i=y_i \\mid \\tau) \\\\\n",
    "&= -\\sum_{i=1}^n \\log \\left[\\tfrac{1}{\\tau}\\exp(-\\tfrac{y_i}{\\tau})\\right]\\\\\n",
    "&= -\\sum_{i=1}^n \\log \\left[\\tfrac{1}{\\tau}\\right] -\\sum_{i=1}^n \\log\\left[\\exp(-\\tfrac{y_i}{\\tau})\\right]\\\\\n",
    "&= -n\\log(\\tfrac{1}{\\tau}) -\\sum_{i=1}^n (-\\tfrac{y_i}{\\tau})\\\\\n",
    "&= n\\log\\tau +\\tfrac{1}{\\tau}\\sum_{i=1}^n y_i\\\\\n",
    "\\end{align}$$\n"
   ]
  },
  {
   "cell_type": "code",
   "execution_count": 4,
   "id": "5799f062",
   "metadata": {
    "slideshow": {
     "slide_type": "slide"
    }
   },
   "outputs": [
    {
     "name": "stderr",
     "output_type": "stream",
     "text": [
      "/var/folders/tq/gj38l6153ks1cvmr6crxqg_00000gp/T/ipykernel_25737/1540361452.py:47: DeprecationWarning: Conversion of an array with ndim > 0 to a scalar is deprecated, and will error in future. Ensure you extract a single element from your array before performing this operation. (Deprecated NumPy 1.25.)\n",
      "  sns.lineplot(x=x, y=y).set(title='minimum at %.2f'%tau_hat)\n"
     ]
    },
    {
     "data": {
      "image/png": "[encoded data removed]",
      "text/plain": [
       "<Figure size 640x480 with 1 Axes>"
      ]
     },
     "metadata": {},
     "output_type": "display_data"
    }
   ],
   "source": [
    "import numpy as np\n",
    "from scipy.optimize import minimize # optimizer\n",
    "\n",
    "def custom_loss_function(tau, data): \n",
    "    '''\n",
    "    Loss function that penalizes for deviating from an exponential \n",
    "    distribution with mean tau. \n",
    "    Input: np.array (data) and a positive float or integer (tau). \n",
    "    Output: the log of the probability of observing the data given \n",
    "            the values of tau.\n",
    "    Note: the larger the probability, the larger the log (because \n",
    "          log is monotonic).\n",
    "          The minus sign was put in so we can minimize the functions \n",
    "          using scipy. \n",
    "    '''    \n",
    "    \n",
    "    weights = np.ones(data.shape) # all data points are equally trusted\n",
    "#    \n",
    "########### Uncomment to apply weights #################    \n",
    "#     weights = data>1 # what if I don't trust \n",
    "#                      # the small measurements? \n",
    "#                      # throwing them out is harsh, \n",
    "#                      # but gentler weights are possible \n",
    "########################################################    \n",
    "#\n",
    "    return(-1*np.sum(np.log( 1/tau * np.exp(-1*data/tau)) * weights))\n",
    "\n",
    "\n",
    "obs_intervals = np.array([6.78, 3.86, 14.60, 0.13, 7.53, 11.65, \\\n",
    "                          4.42, 21.03, 31.89, 0.98, 0.38, 8.23, \\\n",
    "                          0.03,  1.74, 1.20,  6.62, 35.93, 10.27, \\\n",
    "                          1.69, 3.01])\n",
    "\n",
    "TRUE_TAU = 8.\n",
    "obs_intervals = rn.exponential(scale=tau, size=25)\n",
    "\n",
    "# find optimal tau, starting with an initial guess of tau=5\n",
    "tau_hat = minimize(custom_loss_function, [5], args=obs_intervals).x \n",
    "\n",
    "# the penalty for the predicted tau\n",
    "loss_hat = custom_loss_function(tau_hat, obs_intervals) \n",
    "\n",
    "# plot the loss function and the optimal tau   \n",
    "x = np.array(range(3,25))\n",
    "y = [custom_loss_function(t, obs_intervals) for t in x]\n",
    "\n",
    "sns.lineplot(x=x, y=y).set(title='minimum at %.2f'%tau_hat)\n",
    "plt.scatter([tau_hat],[loss_hat], color='C1', s=60)\n",
    "sns.lineplot(x=x,y=loss_hat+np.zeros(x.shape), \n",
    "             linestyle='dashed', color='C4')\n",
    "\n",
    "plt.xlabel('$\\\\tau$')\n",
    "plt.ylabel('Negative log likelihood');"
   ]
  },
  {
   "cell_type": "markdown",
   "id": "365a3f3f",
   "metadata": {
    "slideshow": {
     "slide_type": "slide"
    }
   },
   "source": [
    "### Note:\n",
    "\n",
    "* Different loss functions will yield different optimal estimators.\n",
    "* Come to think of it, other than the $log$ we are optimizing the **likelihood** of obtaining the observed data for any given value of $\\tau$.  \n",
    "   It is not exactly the probability of observing the data (given $\\tau$) but, in a sense, proportional to this probability.  \n",
    "* Since $log$ is a monotonic function, it does not move the position of the maximum/minimum.  "
   ]
  },
  {
   "cell_type": "markdown",
   "id": "fbbfb238",
   "metadata": {
    "slideshow": {
     "slide_type": "slide"
    }
   },
   "source": [
    "## BTW, why do we take logs? \n",
    "\n",
    "<table>\n",
    "    <tr>\n",
    "        <td>\n",
    "            * Dynamic range: floating points only store 15 or 34 digits. <br><br>\n",
    "            * Mathematical convenience: products become sums. <br><br>\n",
    "            * The `log` function is monotonic: peaks stay in place.\n",
    "        </td>\n",
    "        <td><img src=\"https://raw.githubusercontent.com/david-biron/DATA221imgs/main/WhyWeTakeLogs.png\" width=\"300\"></td>\n",
    "    </tr>\n",
    "</table>\n",
    "\n",
    "For instance:"
   ]
  },
  {
   "cell_type": "code",
   "execution_count": 12,
   "id": "50ebbad8",
   "metadata": {
    "slideshow": {
     "slide_type": "fragment"
    }
   },
   "outputs": [
    {
     "data": {
      "text/plain": [
       "-38.04533429223067"
      ]
     },
     "execution_count": 12,
     "metadata": {},
     "output_type": "execute_result"
    }
   ],
   "source": [
    "np.log(0.00000000000000003)"
   ]
  },
  {
   "cell_type": "code",
   "execution_count": 6,
   "id": "eb1b2800",
   "metadata": {
    "slideshow": {
     "slide_type": "fragment"
    }
   },
   "outputs": [
    {
     "data": {
      "text/plain": [
       "-805.9047825479159"
      ]
     },
     "execution_count": 6,
     "metadata": {},
     "output_type": "execute_result"
    }
   ],
   "source": [
    "np.log(1e-50) + np.log(1e-300)"
   ]
  },
  {
   "cell_type": "code",
   "execution_count": 16,
   "id": "7df28b43",
   "metadata": {
    "slideshow": {
     "slide_type": "fragment"
    }
   },
   "outputs": [
    {
     "name": "stderr",
     "output_type": "stream",
     "text": [
      "/var/folders/tq/gj38l6153ks1cvmr6crxqg_00000gp/T/ipykernel_25737/3498577269.py:1: RuntimeWarning: divide by zero encountered in log\n",
      "  np.log(1e-50*1e-300)\n"
     ]
    },
    {
     "data": {
      "text/plain": [
       "-inf"
      ]
     },
     "execution_count": 16,
     "metadata": {},
     "output_type": "execute_result"
    }
   ],
   "source": [
    "np.log(1e-50*1e-300)"
   ]
  },
  {
   "cell_type": "markdown",
   "id": "c882737a",
   "metadata": {
    "slideshow": {
     "slide_type": "slide"
    }
   },
   "source": [
    "## The logic underlying ML systems is often similar\n",
    "\n",
    "* We have data \n",
    "* We need to fit model parameters \n",
    "* We optimize a loss function (e.g., the negative log likelihood, the mean square error, etc.) \n"
   ]
  },
  {
   "cell_type": "markdown",
   "id": "75c6cdec",
   "metadata": {
    "slideshow": {
     "slide_type": "slide"
    }
   },
   "source": [
    "<img src=\"https://github.com/david-biron/DATA221imgs/blob/main/OptimizationSchematic.png?raw=true\" width=\"500\" height=\"\">\n",
    "\n",
    "### For instance, in Linear Regression:\n",
    "\n",
    "* The model is defined by the design matrix $X$ and a vector of parameters $\\vec \\beta$. </br> \n",
    "  This is equivalent to $\\hat y_i = \\beta_0 + \\beta_1 x_1 + \\beta_2 x_2 + \\dots + \\beta_n x_n$\n",
    "* The loss function is the sum of squares of the errors, ${\\cal L} = || \\vec y - \\hat y ||^2$. </br>\n",
    "  This is equivalent to ${\\cal L} = (y_1 - \\hat y_1)^2 + (y_1 - \\hat y_1)^2 + \\dots + (y_m - \\hat y_m)^2$ \n",
    "* The optimizer can *calculate* the values for $\\beta_0, \\beta_1, \\beta_2, \\dots$ . </br> \n",
    "  (orthogonal projection of $\\vec y$ onto the column space of $X$). \n",
    "\n",
    "\n"
   ]
  },
  {
   "cell_type": "markdown",
   "id": "10bc1bbd",
   "metadata": {
    "slideshow": {
     "slide_type": "slide"
    }
   },
   "source": [
    "## Different Loss Functions would be appropriate in different situations"
   ]
  },
  {
   "cell_type": "markdown",
   "id": "778c48c7",
   "metadata": {
    "slideshow": {
     "slide_type": "fragment"
    }
   },
   "source": [
    "### Sum (or Mean) Absolute Error (${\\cal L}1$)\n",
    "\n",
    "#### Definition\n",
    "\n",
    "${\\cal L} = \\left|y_1 - \\hat y_1\\right| + \\left|y_1 - \\hat y_1\\right| + \\dots + \\left|y_m - \\hat y_m\\right|$\n",
    "\n",
    "* Large errors are penalized less harshly (are less 'expensive'). \n",
    "* Has a derivative of $\\pm 1$ no matter how small or large the errors are. \n",
    "* This function is not differentiable at $0$, which may cause numerical issues. \n",
    "\n"
   ]
  },
  {
   "cell_type": "markdown",
   "id": "bf8e8a5a",
   "metadata": {},
   "source": [
    "### Lasso\n",
    "\n",
    "#### Definition\n",
    "\n",
    "${\\cal L} = \\sum_{i=1}^m \\left( y_i - \\hat y_i \\right)^2 + \\alpha \\left( \\left|\\beta_1 \\right| + \\left|\\beta_2\\right| + \\dots + \\left|\\beta_n\\right| \\right)$\n",
    "\n",
    "* Penalizes for large coefficients (to avoid overfitting). \n",
    "* Tends (not guaranteed) to nudge values of some parameters toward $0$ while others may remain somewhat large. \n",
    "\n",
    "### Ridge\n",
    "\n",
    "#### Definition\n",
    "\n",
    "${\\cal L} = \\sum_{i=1}^m \\left( y_i - \\hat y_i \\right)^2 + \\alpha \\left( \\beta_1^2 + \\beta_2^2 + \\dots + \\beta_n^2 \\right)$\n",
    "\n",
    "* Penalizes for large coefficients (to avoid overfitting). \n",
    "* Tends (not guaranteed) to keep all/most parameters small but non-zero. \n",
    "\n",
    "\n"
   ]
  },
  {
   "cell_type": "markdown",
   "id": "10bdf17b",
   "metadata": {},
   "source": [
    "## Accuracy: one of the (negative) loss functions for categorical data (there are others)\n",
    "\n",
    "### Definition \n",
    "\n",
    "${\\Large Accuracy = \\frac{\\text{No. of correct classifications}}{\\text{Total no. of classifications}}}$ \n",
    "\n",
    "<img src=\"https://github.com/david-biron/DATA221imgs/blob/main/ConfusionMatrixPics.png?raw=true\" width=\"400\">"
   ]
  },
  {
   "cell_type": "markdown",
   "id": "c90fe148",
   "metadata": {},
   "source": [
    "## Zero-one loss for categorical data\n",
    "\n",
    "### Definition\n",
    "\n",
    "* Define a loss function for every entry in the confusion matrix. For instance: \n",
    "\n",
    "   ${\\cal L}[i,j] = \\begin{cases} 1 & i \\neq j \\\\ 0 & i=j \\end{cases}$ \n",
    "   \n",
    "* Count the number of category-pairs with errors by summing: \n",
    "\n",
    "   ${\\cal L} = \\sum_{i,j} {\\cal L}[i,j] $ \n",
    "\n",
    "(for a given dataset size, this is effectively accuracy). \n",
    "\n"
   ]
  },
  {
   "cell_type": "markdown",
   "id": "6b2395d5",
   "metadata": {},
   "source": [
    "## Expected (weighted) loss for categorical data\n",
    "\n",
    "### Definition\n",
    "\n",
    "* Define a loss function for every entry in the confusion matrix. For instance: \n",
    "\n",
    "   ${\\cal L}[i,j] = \\begin{cases} cm[i,j]^2 & i \\neq j \\\\ 0 & i=j \\end{cases}$  \n",
    "   \n",
    "* Weigh different losses by the risk they pose: ${\\cal L} = \\sum_{i,j} {\\cal L}[i,j] \\times W[i,j]$. For instance: </br> \n",
    "  erroneously identifying a cat as a dog may not be too bad ($W[cat,dog]$ would be small) but erroneously identifying an airplane as a bird would be dangerous ($W[airplane,bird]$ would be large).  \n"
   ]
  },
  {
   "cell_type": "markdown",
   "id": "5be6902e",
   "metadata": {},
   "source": [
    "## Softplus and sigmoid - penalize large (positive) values of a single parameter\n",
    "\n",
    "### Definition \n",
    "\n",
    "|    |    | \n",
    "|:--:|:--:|\n",
    "|${\\large softplus(x) = \\log\\left(1+e^x\\right)}$| ${\\large sigmoid(x) = \\frac{e^x}{1+e^x}}$ |\n",
    "|<img src=\"https://github.com/david-biron/DATA221imgs/blob/main/softplus.png?raw=true\" width=\"300\">|<img src=\"https://github.com/david-biron/DATA221imgs/blob/main/sigmoid.png?raw=true\" width=\"300\">| \n",
    "\n",
    "\n",
    "These functions are also used in a slightly different context (activation functions). "
   ]
  },
  {
   "cell_type": "markdown",
   "id": "938ae5b0",
   "metadata": {},
   "source": [
    "## Cross entropy - penalize a distribution for being non-uniform (here)\n",
    "\n",
    "### Definition\n",
    "${\\cal L}\\left( \\left\\{p_i  \\right\\} \\right)  = {\\large -\\sum_i \\frac 1N \\log(p_i)}$ \n",
    "\n",
    "* For instance: if there are only two possible classes this function (as is) will encourage 'indecision' because </br>\n",
    "   ${\\cal L}(1/2, 1/2) < {\\cal L}(1/4, 3/4) < {\\cal L}(1/8, 7/8) $ etc. implies larger penalties for less uniformity. </br>\n",
    "  (see this by replacing $\\log$ with $\\log_2$ and remembering that $\\log(\\sim 1) \\simeq 0$).\n",
    "* This function can be generalized to a penalty for being 'away' from any distribution. \n",
    "* Reversing the minus sign would penalize being close to a uniform (or other) distribution. \n",
    "  "
   ]
  },
  {
   "cell_type": "markdown",
   "id": "6e373e8b",
   "metadata": {},
   "source": [
    "## Probability of a parameter value *given* data $\\rightarrow$ *Conditional Probability*\n",
    "\n",
    "|   |   |\n",
    "|:--|:--|\n",
    "| <img src=\"https://github.com/david-biron/DATA221imgs/blob/main/icon_definition.png?raw=true\" width=\"50\"> | **Conditional Probability:** $P(E \\| F) = \\frac{P(E \\& F)}{P(F)} $ | \n",
    "| |   |\n",
    "\n",
    "<img src=\"https://github.com/david-biron/DATA221imgs/blob/main/ConditionalProbability.png?raw=true\" width=\"300\" >\n",
    "\n",
    "|   |   |\n",
    "|:--|:--|\n",
    "| <img src=\"https://github.com/david-biron/DATA221imgs/blob/main/icon_example.png?raw=true\" width=\"50\"> | A fair coin is flipped twice: all four outcomes {(h, h), (h, t), (t, h), (t, t)} are equally likely. What is $P[(h,h)\\mid B]$ when: |\n",
    "\n",
    "(a) the first flip lands on heads?\n",
    "\n",
    "\n",
    "(a) $P[(h,h)| (h,X)] = \\frac{P[(h,h) \\ \\ \\& \\ \\ (h,X)]}{P[(h,X)]} = \\frac{1/4}{1/4 + 1/4} = \\frac 12$\n",
    "\n",
    "<br/> \n",
    "\n",
    "(b) at least one flip lands on heads?\n",
    "\n",
    "(b) $P[(h,h)| (h,X)] = \\frac{P[(h,h) \\ \\ \\& \\ \\ ((h,t) \\ or \\ (t,h) \\ or \\ (h,h))]}{P[(h,X)]} = \\frac{1/4}{1/4 + 1/4 +1/4} = \\frac 13$"
   ]
  },
  {
   "cell_type": "markdown",
   "id": "38ee40bb",
   "metadata": {},
   "source": [
    "## The *Bayes Identity* is useful for thinking about conditional probabilities \n",
    "\n",
    "|   |   |\n",
    "|:--|:--|\n",
    "|<img src=\"https://github.com/david-biron/DATA221imgs/blob/main/BayesIdentity.png?raw=true\" width=\"300\">| $P(A \\| B) P(B) $ and $P(B \\| A) P(A)$ both equal $P(A \\ \\& \\ B)$|\n",
    "\n",
    "$\\rightarrow$ ${\\boxed {\\large P(A | B) = \\frac{P(B | A) P(A)}{P(B)}   }}$ \n",
    "\n",
    "* The Bayes identity is useful when $P(A | B)$ is difficult to find directly but $P(B | A)$, $P(A)$, and $P(B)$ are easier to work out.   \n",
    "\n",
    "* This logic is used in **Bayesian parameter estimation**."
   ]
  },
  {
   "cell_type": "markdown",
   "id": "50af0260",
   "metadata": {},
   "source": [
    "## Likelihood\n",
    "\n",
    "Suppose we have some data: `data = [d1, d2, d3, ...]`. \n",
    "\n",
    "There is a function (model) that should fit the data but this function has a parameter, $\\theta$, the value of which is unknown. \n",
    "\n",
    "**Given** the data, what would be the most likely value of $\\theta$? \n",
    "\n",
    "To answer that it would be good to know how probable are different values  of $\\theta$ **given** the data: \n",
    "\n",
    "${\\Large \\overbrace{P\\left(\\theta | data\\right)}^{Posterior} = \\frac{\\overbrace{P\\left(data | \\theta  \\right)}^{Likelihood} \\ \\ \\overbrace{P\\left( \\theta \\right)}^{Prior} }{P(data)} }$\n",
    "\n",
    "\n",
    "|   |   |\n",
    "|:--|:--|\n",
    "| <img src=\"https://github.com/david-biron/DATA221imgs/blob/main/icon_definition.png?raw=true\" width=\"50\"> | **Prior probability distribution (prior):** the distribution describing beliefs about the parameter ($\\theta$) before the `data` is taken into account. |\n",
    "| <img src=\"https://github.com/david-biron/DATA221imgs/blob/main/icon_definition.png?raw=true\" width=\"50\"> | **Posterior probability distribution (posterior):** the distribution describing beliefs about the parameter ($\\theta$) **given** the `data`. |\n",
    "| <img src=\"https://github.com/david-biron/DATA221imgs/blob/main/icon_definition.png?raw=true\" width=\"50\"> | **Likelihood:** the probability of obtaining the `data` **given** a value of the parameter ($\\theta$). |\n",
    "\n",
    "For independent datapoints: $Likelihood(\\theta) = P(d_1 | \\theta ) \\times P(d_2 | \\theta) \\times \\dots \\times P(d_n | \\theta) $\n",
    "\n",
    "\n",
    "|   |   |\n",
    "|:--|:--|\n",
    "| <img src=\"https://github.com/david-biron/DATA221imgs/blob/main/icon_comment.png?raw=true\" width=\"50\"> | It can be convenient to work with the **log likelihood**: |\n",
    "\n",
    "\n",
    "${\\large \\log \\left[ Likelihood(\\theta) \\right] = \\log\\left[P(d_1 | \\theta ) \\right] + \\log\\left[P(d_2 | \\theta ) \\right] + \\dots + \\log\\left[P(d_n | \\theta ) \\right]} $\n",
    "    \n"
   ]
  },
  {
   "cell_type": "markdown",
   "id": "f417a7b9",
   "metadata": {},
   "source": [
    "### The likelihoods are derived from our model but how do we obtain the prior? \n",
    "\n",
    "The answer to this question depends on problem at hand. \n",
    "\n",
    "* Not having a better idea, a popular choice is the naive (uniform) prior. It does not depend on the value of ($\\theta$). \n",
    "* Perhaps we have preliminary data (a preliminary survey) that suggests a certain prior (belief before update in the face of new data). \n",
    "* A prior can be chosen because it is easy to calculate with and $\\sim$ appropriate for the problem (e.g., conjugate priors - not in this course). \n",
    "* Updating in steps: start naive but as the data flows in every posterior becomes the next prior. \n",
    "* Sometimes the mathematical properties of the problem suggest certain priors (symmetries - not, in this course). "
   ]
  },
  {
   "cell_type": "markdown",
   "id": "d6c30136",
   "metadata": {},
   "source": [
    "### Often the prior is unknown and assumed to be uniform (independent of  the value of $\\theta$)\n",
    "\n",
    "This would be true if we do not have a better guess for a prior of a specific shape (e.g., a Gaussian? Exponential? Binomial?) "
   ]
  },
  {
   "cell_type": "markdown",
   "id": "e70dce20",
   "metadata": {},
   "source": [
    "## Maximum A Posteriori Estimation (MAP)\n",
    "\n",
    "**Maximum A Posteriori Estimation (MAP)** is a method of estimating the parameter ($\\theta$) **given** the observed `data`. This is achieved by maximizing the **posterior**, i.e., the product of the likelihood and the prior, such that under the assumed model, the `data` are most probable. \n",
    "\n",
    "**Note:** $\\overbrace{P\\left(\\theta | data\\right)}^{Posterior} \\sim \\overbrace{P\\left(data | \\theta  \\right)}^{Likelihood} \\ \\ \\overbrace{P\\left( \\theta \\right)}^{Prior}$ \n",
    "\n",
    "$P(data)$ does not depend on $\\theta$ so it is just a constant (that does not move the maximum) so far as the optimization is concerned.  \n",
    "\n",
    "**Note:** it is often convenient to maximize the log posterior:  \n",
    "\n",
    "$\\log \\left[P\\left(\\theta | data\\right) \\right] \\sim \\log \\left[P\\left(data | \\theta  \\right)\\right] \\ + \\ \\log \\left[P\\left( \\theta \\right)\\right]$"
   ]
  },
  {
   "cell_type": "markdown",
   "id": "fe8c895d",
   "metadata": {},
   "source": [
    "## Maximum Likelihood Estimation (MLE) \n",
    "\n",
    "Suppose the prior distribution is unknown. Assuming it is uniform (a constant, independent of $\\theta$) would be the next best thing. Since the constant does not move the the maximum, the likelihood gets maximized.\n",
    "\n",
    "**Maximum Likelihood Estimation (MLE)** is a method of estimating the parameter ($\\theta$) **given** the observed `data`. This is achieved by maximizing the **likelihood** function such that, under the assumed model, the `data` are most probable. \n",
    "\n",
    "**Note:** it is often convenient to maximize the log likelihood (sum of independent terms in stead of product). "
   ]
  },
  {
   "cell_type": "markdown",
   "id": "6adacdac",
   "metadata": {},
   "source": [
    "### Example \n",
    "\n",
    "Remember the customers that are coming into the store? The problem from the top of the notebook?..\n",
    "\n",
    "What we did there was write down and then maximize the **likelihood** given (independent) data points and assuming that an exponential model should describe the data well. \n"
   ]
  },
  {
   "cell_type": "code",
   "execution_count": 7,
   "id": "52fa991a",
   "metadata": {},
   "outputs": [
    {
     "data": {
      "text/plain": [
       "171.97000000000003"
      ]
     },
     "execution_count": 7,
     "metadata": {},
     "output_type": "execute_result"
    }
   ],
   "source": [
    "obs_intervals = np.array([6.78, 3.86, 14.60, 0.13, 7.53, 11.65, \\\n",
    "                          4.42, 21.03, 31.89, 0.98, 0.38, 8.23, \\\n",
    "                          0.03,  1.74, 1.20,  6.62, 35.93, 10.27, \\\n",
    "                          1.69, 3.01]) \n",
    "obs_intervals.sum()"
   ]
  },
  {
   "cell_type": "markdown",
   "id": "8c32874d",
   "metadata": {},
   "source": [
    "For the $20$ data points that were provided: \n",
    "\n",
    "${\\cal L (\\tau)} \\sim \\frac 1\\tau e^{-6.78/\\tau} \\times \\frac 1\\tau e^{-3.86/\\tau}e^{-14.60/\\tau} \\times \\dots \\times \\frac 1\\tau e^{-3.01/\\tau}$ \n",
    "\n",
    "$\\log \\left[ {\\cal L (\\tau)} \\right] \\sim -20 \\log [\\tau ] + \\frac 1\\tau \\left[ -6.78 - 3.86 - 14.60 - \\dots -3.01 \\right] = -20 \\log [\\tau ] - \\frac {171.97}\\tau$\n",
    "\n",
    "$\\frac d{d\\tau} \\log \\left[ {\\cal L (\\tau)} \\right] = -\\frac{20}{\\tau} + \\frac {171.97}{\\tau^2} = 0$\n",
    "\n",
    "$\\rightarrow \\tau = \\frac{171.97}{20} \\simeq 8.60 $\n",
    "\n"
   ]
  },
  {
   "cell_type": "markdown",
   "id": "bda91790",
   "metadata": {},
   "source": [
    "|   |   |\n",
    "|:--|:--|\n",
    "| <img src=\"https://github.com/david-biron/DATA221imgs/blob/main/icon_comment.png?raw=true\" width=\"50\"> | The last example had a log likelihood that was simple to optimize <br/> either numerically or analytically.  Models can be more complex <br/> and less well-behaved, so it is possible to add a **regularization term** <br/> to the optimization problem, i.e., optimize: |\n",
    "\n",
    "$\\log\\left[{\\cal L(\\theta)} \\right] + \\alpha \\ Regularization(\\theta)$\n",
    "\n",
    "E.g., a term that penalizes for (too) large values of the parameters. \n",
    "\n",
    "This is similar to Lasso and Ridge regularization (DATA 11900).  \n"
   ]
  },
  {
   "cell_type": "markdown",
   "id": "c5f4cf3c",
   "metadata": {},
   "source": [
    "## The dice problem \n",
    "\n",
    "The following two examples use conditional probability and likelihood. \n",
    "\n",
    "They also use odds and odds ratios (covered in DATA 11900).  "
   ]
  },
  {
   "cell_type": "markdown",
   "id": "92eb4c87",
   "metadata": {},
   "source": [
    "### Example 1: Two six sided dice, one 'regular' the other has a second $1$ instead of $6$:$^*$\n",
    "\n",
    "\n",
    "| Die                  | Side 1     | Side 2     | Side 3     | Side 4     | Side 5     | Side 6     |  \n",
    "|:--------------------:|:----------:|:----------:|:----------:|:----------:|:----------:|:----------:|\n",
    "|      $A$             | $1$        | $2$        | $3$        | $4$        | $5$        | $6$        |\n",
    "|      $B$             | $1$        | $2$        | $3$        | $4$        | $5$        | $1$        |\n",
    "\n",
    "|                      | k=1        | k=2        | k=3        | k=4        | k=5        | k=6        |  \n",
    "|:--------------------:|:----------:|:----------:|:----------:|:----------:|:----------:|:----------:|\n",
    "| $P(Outcome = k | A)$ | $\\frac 16$ | $\\frac 16$ | $\\frac 16$ | $\\frac 16$ | $\\frac 16$ | $\\frac 16$ |\n",
    "| $P(Outcome = k | B)$ | $\\frac 13$ | $\\frac 16$ | $\\frac 16$ | $\\frac 16$ | $\\frac 16$ | $0$        |\n",
    "\n",
    "One of the two dice is chosen at random once: initially $P(A)=P(B)=\\frac 12$. That same die is then rolled **sequentially** without its identity being revealed directly. The goal is to guess which die it is after $n$ rolls. More accurately: the probability that it is $A$ or $B$ based on the sequence of die-roll results. \n",
    "\n",
    "Of course, if an outcome $6$ occurs then the game is over, but $6$ doesn't have to occur in the data. \n",
    "\n",
    "</br> \n",
    "\n",
    "</br> \n",
    "\n",
    "</br> \n",
    "\n",
    "\n",
    "$^*$ Similar story: rolls of the die encode symptoms and $A$/$B$ correspond to 'healthy'/'ill'. \n"
   ]
  },
  {
   "cell_type": "markdown",
   "id": "9ce08dbe",
   "metadata": {},
   "source": [
    "### Solution 1: track $P(A|data)$ and $P(B|data)$:\n",
    "\n",
    "Suppose the first $10$ rolls give ${\\color{red} 2}$, ${\\color{blue} 1}$, ${\\color{green} 4}$, $1$, $3$, $3$, $1$, $4$, $4$, and $5$.\n",
    "\n",
    "$d_1 = {\\color{red} 2}$ (equally likely result given $A$ or $B$):\n",
    "\n",
    "$P(A | 2) = P(2 | A) P(A) / P(2) = \\frac 16 \\times \\frac 12 / (\\frac 12 \\times \\frac 16 + \\frac 12 \\times \\frac 16) = \\frac 12$\n",
    "\n",
    "$P(B | 2) = P(2 | B) P(B) / P(2) = \\frac 16 \\times \\frac 12 / (\\frac 12 \\times \\frac 16 + \\frac 12 \\times \\frac 16) = \\frac 12$\n",
    "$\\ \\ \\ or: \\ \\ \\ $ \n",
    "$P(B|2) = 1- P(A | 2) = \\frac 12$ \n",
    "\n",
    "</br>\n",
    "\n",
    "$d_2 = {\\color{blue} 1}$ (more likely result given $B$):\n",
    "\n",
    "$P(A | 1) = P(1 | A) P(A) / P(1) = \\frac 16 \\times \\frac 12 / (\\frac 12 \\times \\frac 16 + \\frac 12 \\times \\frac 13) = \\frac 13$\n",
    "\n",
    "$P(B | 1) = P(1 | B) P(B) / P(1) = \\frac 13 \\times \\frac 12 / (\\frac 12 \\times \\frac 16 + \\frac 12 \\times \\frac 13) = \\frac 23$\n",
    "$\\ \\ \\ or: \\ \\ \\ $ \n",
    "$P(B|2) = 1- P(A | 2) = \\frac 23$ \n",
    "\n",
    "</br>\n",
    "\n",
    "$d_3 = {\\color{green} 4}$:\n",
    "\n",
    "$P(A | 4) = P(4 | A) P(A) / P(4) = \\frac 16 \\times \\frac 13 / (\\frac 13 \\times \\frac 16 + \\frac 23 \\times \\frac 16) = \\frac 13$\n",
    "$\\ \\ \\ or: \\ \\ \\ $ \n",
    "$P(B|2) = 1- P(A | 2) = \\frac 23$ \n",
    "\n",
    "</br>\n",
    "\n",
    "$P(A | 1) = P(1 | A) P(A) / P(1) = \\frac 16 \\times \\frac 13 / (\\frac 13 \\times \\frac 16 + \\frac 23 \\times \\frac 13) = \\frac 15$\n",
    "\n",
    "$P(B | 1) = P(1 | B) P(B) / P(1) = \\frac 13 \\times \\frac 23 / (\\frac 13 \\times \\frac 16 + \\frac 23 \\times \\frac 13) = \\frac 45$\n",
    "$\\ \\ \\ or: \\ \\ \\ $\n",
    "$P(B|1) = 1- P(A | 1) = \\frac 45$ \n",
    "\n",
    "</br>\n",
    "\n",
    "$\\vdots$ \n",
    "\n",
    "</br> \n",
    "\n",
    "As long as there is no $6$, a roll of $1$ increases the odds for $B$ and decreases them for $A$. \n",
    "\n",
    "</br> \n",
    "\n",
    "\n",
    "If a roll comes out $6$: \n",
    "\n",
    "$P(A | 6) = P(6 | A) P(A) / P(6) = \\frac 16 \\times P(A) / [\\frac 16 \\times P(A) + 0 \\times P(B)] = 1$\n",
    "\n",
    "$P(b | 6) = P(6 | B) P(B) / P(6) = 0 \\times P(B) / [\\frac 16 \\times P(A) + 0 \\times P(B)] = 0$\n",
    "\n",
    "\n",
    "\n"
   ]
  },
  {
   "cell_type": "code",
   "execution_count": 8,
   "id": "c436fe3b",
   "metadata": {
    "scrolled": false
   },
   "outputs": [
    {
     "data": {
      "image/png": "[encoded data removed]",
      "text/plain": [
       "<Figure size 640x480 with 1 Axes>"
      ]
     },
     "metadata": {},
     "output_type": "display_data"
    }
   ],
   "source": [
    "import pandas as pd\n",
    "import seaborn as sns\n",
    "\n",
    "# first 0 for index convenience\n",
    "cond_dist_a = [0, 1/6, 1/6, 1/6, 1/6, 1/6, 1/6] \n",
    "cond_dist_b = [0, 1/3, 1/6, 1/6, 1/6, 1/6,  0]  \n",
    "data = [2, 1, 4, 1, 3, 3, 1, 4, 4, 5]\n",
    "\n",
    "p_a, p_b = [0.5], [0.5]\n",
    "for d in data: \n",
    "    p_a.append(cond_dist_a[d]*p_a[-1] / \\\n",
    "               (cond_dist_a[d]*p_a[-1] + cond_dist_b[d]*p_b[-1]))\n",
    "    p_b.append(1-p_a[-1])\n",
    "\n",
    "df = pd.DataFrame({'P(A|data)': p_a, 'P(B|data)': p_b})    \n",
    "sns.scatterplot(df, s=120);\n"
   ]
  },
  {
   "cell_type": "markdown",
   "id": "7ea281ea",
   "metadata": {},
   "source": [
    "### It would be more convenient to track the odds in favor of A\n",
    "\n",
    "Instead of keeping track of $P(A)$ and $P(B)$ separately, we'll just keep track of the **odds** favoring $A$ over $B$: \n",
    "\n",
    "${\\large Odds = \\frac{P(A|data)}{P(B|data)} = \\frac{P(data|A) \\ P(A)}{P(data|B) \\ P(B)}}$. \n",
    "\n",
    "</br> \n",
    "\n",
    "Come to think of it, keeping track of the $\\log[ \\ Odds \\ ]$ will turn the products into sums: \n",
    "\n",
    "$${ \\log \\left[ Odds \\right] = \\underbrace{\\log\\left[P(A)/P(B)\\right]}_{\\text{log odds before considering the data point}} } + \\underbrace{\\log\\left[ P(data|A) \\right] - \\log\\left[P(data|B)\\right]}_{\\text{log ratio of conditional probabilities (from tables)}}$$. \n",
    "\n",
    "<br/> \n",
    "\n",
    "This is convenient because the code below is shorter and it is even easy to perform the calculation manually.\n",
    "\n"
   ]
  },
  {
   "cell_type": "code",
   "execution_count": 9,
   "id": "9d70b26e",
   "metadata": {},
   "outputs": [
    {
     "name": "stdout",
     "output_type": "stream",
     "text": [
      "[-1.  0.  0.  0.  0. inf]\n"
     ]
    },
    {
     "data": {
      "image/png": "[encoded data removed]",
      "text/plain": [
       "<Figure size 640x480 with 1 Axes>"
      ]
     },
     "metadata": {},
     "output_type": "display_data"
    }
   ],
   "source": [
    "with np.errstate(divide='ignore'):\n",
    "    with np.errstate(invalid='ignore'):\n",
    "        log_cond_dist_ratio = np.log2(cond_dist_a) - \\\n",
    "                              np.log2(cond_dist_b)\n",
    "print(log_cond_dist_ratio[1:])\n",
    "\n",
    "log_odds = [0]\n",
    "for d in data: \n",
    "    log_odds.append(log_odds[-1]+log_cond_dist_ratio[d])\n",
    "\n",
    "df = pd.DataFrame({'Log Odds in favor of A': log_odds})    \n",
    "sns.scatterplot(df, s=120);\n"
   ]
  },
  {
   "cell_type": "markdown",
   "id": "7afddbfb",
   "metadata": {},
   "source": [
    "### This is convenient even with pen and paper:\n",
    "\n",
    "(as long as we have a table of the logs of the conditional probabilities)\n",
    "\n",
    "|                                       | k=1      | k=2      | k=3      | k=4      | k=5      | k=6       |  \n",
    "|:-------------------------------------:|:--------:|:--------:|:--------:|:--------:|:--------:|:---------:|\n",
    "| $\\log\\left[P(Outcome = k | A)\\right]$ | -2.585 | -2.585 | -2.585 | -2.585 | -2.585 | -2.585  |\n",
    "| $\\log\\left[P(Outcome = k | B)\\right]$ | -1.585 | -2.585 | -2.585 | -2.585 | -2.585 | $-\\infty$ |\n",
    "| $\\log\\left[P(Outcome = k | A)\\right] - \\log\\left[P(Outcome = k | B)\\right]$ | -1 | 0 | 0 | 0 | 0 | $\\infty$  |\n",
    "\n",
    "\n",
    "If the data are $2$, $1$, $4$, $1$, $3$, $3$, $1$, $4$, $4$, and $5$ then: \n",
    "\n",
    "$\\log\\left[ Odds \\right] = 0 \\ \\ + \\ \\ \\underbrace{(-2.585)-(-2.585)}_{d_1=2} \\ \\ + \\ \\ \\underbrace{(-2.585)-(-1.585)}_{d_2=1} \\ \\ + \\ \\ \\underbrace{(-2.585)-(-2.585)}_{d_3=4} \\ \\ + \\ \\  \\underbrace{(-2.585)-(-1.585)}_{d_4=1} \\ \\ + \\ \\ \\dots $\n",
    "\n",
    "$\\log\\left[ Odds \\right] = 0 + 0 - 1 + 0 - 1 + 0 + 0 - 1 + 0 + 0 + 0 = -3$\n",
    "\n"
   ]
  },
  {
   "cell_type": "markdown",
   "id": "ea0631cd",
   "metadata": {},
   "source": [
    "### Example 2: One fair eleven-sided die labeled $2..12$ vs. the sum of two regular six-sided dice:\n",
    "\n",
    "\n",
    "|                      | k=2           | k=3        | k=4        | k=5        | k=6        | k=7        | k=8        | k=9        | k=10       | k=11       | k=12       |  \n",
    "|:--------------------:|:-------------:|:----------:|:----------:|:----------:|:----------:|:----------:|:-------:|:----------:|:----------:|:----------:|:----------:|\n",
    "| $P(Outcome = k | A)$ | $\\frac 1{11}$ | $\\frac 1{11}$ | $\\frac 1{11}$ | $\\frac 1{11}$ | $\\frac 1{11}$ | $\\frac 1{11}$ | $\\frac 1{11}$ | $\\frac 1{11}$ | $\\frac 1{11}$ | $\\frac 1{11}$ | $\\frac 1{11}$ |\n",
    "| $P(Outcome = k | B)$ | $\\frac 1{36}$ | $\\frac 2{36}$ | $\\frac 3{36}$ | $\\frac 4{36}$ | $\\frac 5{36}$ | $\\frac 6{36}$ | $\\frac 5{36}$ | $\\frac 4{36}$ | $\\frac 3{36}$ | $\\frac 2{36}$ | $\\frac 1{36}$ |\n",
    "| $\\log\\left[P(Outcome = k | A)\\right]-\\log\\left[P(Outcome = k | B)\\right]$ | 1.71 | 0.71 | 0.13 | -0.29 | -0.61 | -0.87 | -0.61 | -0.29 | 0.13 | 0.71 | 1.71 |\n",
    "\n",
    "\n",
    "One of the two options is chosen at random once: initially $P(A)=P(B)=\\frac 12$. The same type of roll is then repeated **sequentially** without its identity being revealed directly. The goal is to find the probability that it is $A$ or $B$ based on the sequence of die-roll results. \n",
    "\n",
    "\n",
    "Instead of keeping track of $P(A)$ and $P(B)$ separately, we'll just keep track of the **log odds** favoring $A$ over $B$: \n",
    "\n",
    "${\\large \\log \\left[ Odds_n \\right] = \\log\\left[Odds_{n-1}\\right] + \\log\\left[ P(data|A) \\right] - \\log\\left[P(data|B)\\right]}$. \n",
    "\n",
    "This way, each roll simply adds a new number to the sum (as before). \n"
   ]
  },
  {
   "cell_type": "code",
   "execution_count": 10,
   "id": "3662430a",
   "metadata": {},
   "outputs": [
    {
     "name": "stdout",
     "output_type": "stream",
     "text": [
      "[ 1.71049338  0.71049338  0.12553088 -0.28950662 -0.61143471 -0.87446912\n",
      " -0.61143471 -0.28950662  0.12553088  0.71049338  1.71049338]\n"
     ]
    },
    {
     "data": {
      "image/png": "[encoded data removed]",
      "text/plain": [
       "<Figure size 640x480 with 1 Axes>"
      ]
     },
     "metadata": {},
     "output_type": "display_data"
    }
   ],
   "source": [
    "import matplotlib.pyplot as plt \n",
    "\n",
    "cond_dist_a = [0, 0, 1/11, 1/11, 1/11, 1/11, 1/11, 1/11, 1/11, 1/11, 1/11, 1/11, 1/11]\n",
    "cond_dist_b = [0, 0, 1/36, 2/36, 3/36, 4/36, 5/36, 6/36, 5/36, 4/36, 3/36, 2/36, 1/36]\n",
    "with np.errstate(divide='ignore'):\n",
    "    with np.errstate(invalid='ignore'):\n",
    "        log_cond_dist_ratio = np.log2(cond_dist_a) - np.log2(cond_dist_b)\n",
    "print(log_cond_dist_ratio[2:])\n",
    "\n",
    "def plot_log_odds(data, clr, lbl): \n",
    "    '''\n",
    "    Input: an array of outcomes of rolls of 'A' or 'B'\n",
    "    Output: none, but it plots the log odd ratios in favor of 'A'\n",
    "    '''\n",
    "    log_odds = [0] # initially p=0.5 for picking either 'A' or 'B'\n",
    "    for d in data: \n",
    "        log_odds.append(log_odds[-1]+log_cond_dist_ratio[d])\n",
    "    plt.scatter(range(len(log_odds)), log_odds, c=clr, s=120, label=lbl)\n",
    "    plt.legend()\n",
    "    plt.xlabel('No. of data point')\n",
    "    plt.ylabel('Log odds in favor of A')\n",
    "    return()\n",
    "\n",
    "N = 33  \n",
    "\n",
    "data = np.random.randint(2,13,N) # data from the 11-sided fair die\n",
    "plot_log_odds(data, 'C0', 'Data from A')\n",
    "\n",
    "data = np.random.choice(range(2,13), p=cond_dist_b[2:], size=N) # data from sum of two 6-sided dice\n",
    "plot_log_odds(data, 'C1', 'Data from B');\n",
    "\n"
   ]
  },
  {
   "cell_type": "markdown",
   "id": "5934d35f",
   "metadata": {},
   "source": [
    "### Side question: how many rolls (on average) would it take to tell 'A' or 'B'? \n",
    "\n",
    "That would depend on the desired level of centainty... \n",
    "\n",
    "Suppose we want to make the call at $99:1$ odds. \n",
    "\n",
    "The corresponding log odds is $\\log_2(99/1) = 6.63$  \n",
    "\n"
   ]
  },
  {
   "cell_type": "code",
   "execution_count": 5,
   "id": "bf8533e8",
   "metadata": {},
   "outputs": [
    {
     "ename": "NameError",
     "evalue": "name 'cond_dist_a' is not defined",
     "output_type": "error",
     "traceback": [
      "\u001b[0;31m---------------------------------------------------------------------------\u001b[0m",
      "\u001b[0;31mNameError\u001b[0m                                 Traceback (most recent call last)",
      "Cell \u001b[0;32mIn[5], line 1\u001b[0m\n\u001b[0;32m----> 1\u001b[0m expected_log_odds_a \u001b[38;5;241m=\u001b[39m (np\u001b[38;5;241m.\u001b[39marray(\u001b[43mcond_dist_a\u001b[49m[\u001b[38;5;241m2\u001b[39m:])\u001b[38;5;241m*\u001b[39mnp\u001b[38;5;241m.\u001b[39marray(log_cond_dist_ratio[\u001b[38;5;241m2\u001b[39m:]))\u001b[38;5;241m.\u001b[39msum()\n\u001b[1;32m      2\u001b[0m expected_log_odds_b \u001b[38;5;241m=\u001b[39m (np\u001b[38;5;241m.\u001b[39marray(cond_dist_b[\u001b[38;5;241m2\u001b[39m:])\u001b[38;5;241m*\u001b[39mnp\u001b[38;5;241m.\u001b[39marray(log_cond_dist_ratio[\u001b[38;5;241m2\u001b[39m:]))\u001b[38;5;241m.\u001b[39msum()\n\u001b[1;32m      4\u001b[0m expected_num_rolls_a \u001b[38;5;241m=\u001b[39m np\u001b[38;5;241m.\u001b[39mlog2(\u001b[38;5;241m99\u001b[39m) \u001b[38;5;241m/\u001b[39m expected_log_odds_a \n",
      "\u001b[0;31mNameError\u001b[0m: name 'cond_dist_a' is not defined"
     ]
    }
   ],
   "source": [
    "expected_log_odds_a = (np.array(cond_dist_a[2:])*np.array(log_cond_dist_ratio[2:])).sum()\n",
    "expected_log_odds_b = (np.array(cond_dist_b[2:])*np.array(log_cond_dist_ratio[2:])).sum()\n",
    "\n",
    "expected_num_rolls_a = np.log2(99) / expected_log_odds_a \n",
    "expected_num_rolls_b = np.log2(99) / expected_log_odds_b \n",
    "\n",
    "print(\"Expected no. of rolls to determine 'A': %.1f\"%expected_num_rolls_a)\n",
    "print(\"Expected no. of rolls to determine 'B': %.1f\"%expected_num_rolls_b)"
   ]
  },
  {
   "cell_type": "markdown",
   "id": "0f538ac3",
   "metadata": {},
   "source": [
    "#### For the statistically inclined: \n",
    "$\\sim 30$ is a large enough number to trust the means to 'behave' (CLT).  "
   ]
  }
 ],
 "metadata": {
  "kernelspec": {
   "display_name": "env",
   "language": "python",
   "name": "python3"
  },
  "language_info": {
   "codemirror_mode": {
    "name": "ipython",
    "version": 3
   },
   "file_extension": ".py",
   "mimetype": "text/x-python",
   "name": "python",
   "nbconvert_exporter": "python",
   "pygments_lexer": "ipython3",
   "version": "3.12.3"
  }
 },
 "nbformat": 4,
 "nbformat_minor": 5
}
